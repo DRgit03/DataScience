{
 "cells": [
  {
   "cell_type": "markdown",
   "id": "accessible-montana",
   "metadata": {},
   "source": [
    "# Open AI Gym Basics\n",
    "\n",
    "Let's explore the basics of a **gym** environment, later on we wil interact with it and create agents to learn from it."
   ]
  },
  {
   "cell_type": "markdown",
   "id": "opening-insurance",
   "metadata": {},
   "source": [
    "In this notebook we will get to know the open ai gym library and its environments:\n",
    "\n",
    "https://gym.openai.com/\n",
    "\n",
    "It contains various implementations of tasks on which you can try Reinforcement Learning agents. \n",
    "\n",
    "At first we will import the necessary environments"
   ]
  },
  {
   "cell_type": "code",
   "execution_count": 1,
   "id": "effective-clinic",
   "metadata": {},
   "outputs": [],
   "source": [
    "import time  # To slown down the game rendering to human speed\n",
    "import gym\n",
    "import matplotlib.pyplot as plt"
   ]
  },
  {
   "cell_type": "markdown",
   "id": "single-surname",
   "metadata": {},
   "source": [
    "Now we can go and chose an environment we want to try and where we want to train an agent on from here:<br />\n",
    "https://gym.openai.com/envs/\n",
    "\n",
    "Let's say we want to play the **breakout game** https://gym.openai.com/envs/Breakout-v0/, then we need to perform the following two steps:\n",
    "\n",
    "1. Define the name of the environment\n",
    "2. Create the environment"
   ]
  },
  {
   "cell_type": "code",
   "execution_count": 2,
   "id": "rental-benchmark",
   "metadata": {
    "scrolled": false
   },
   "outputs": [],
   "source": [
    "env_name = \"Breakout-v0\"  # Use the exact same name as stated on gym.openai\n",
    "env = gym.make(env_name)  # use gym.make to create your environment"
   ]
  },
  {
   "cell_type": "markdown",
   "id": "oriented-pitch",
   "metadata": {},
   "source": [
    "Thats all! You successfully created the environment!<br />\n",
    "Those steps are identical for all environments.\n",
    "\n",
    "If you want to take a look at your game, gym comes with a handy utils function called **play** for Atari games.<br />\n",
    "Note that you start the game with *space* and move with *a* and *d*\n",
    "\n",
    "How many points can you score?"
   ]
  },
  {
   "cell_type": "code",
   "execution_count": 3,
   "id": "included-orlando",
   "metadata": {},
   "outputs": [
    {
     "name": "stdout",
     "output_type": "stream",
     "text": [
      "pygame 2.1.2 (SDL 2.0.18, Python 3.9.13)\n",
      "Hello from the pygame community. https://www.pygame.org/contribute.html\n"
     ]
    }
   ],
   "source": [
    "from gym.utils import play  # import the play module\n",
    "#play.play(env, zoom=2)  # call the play function"
   ]
  },
  {
   "cell_type": "markdown",
   "id": "after-jackson",
   "metadata": {},
   "source": [
    "Now after getting to know how we can select an environment and interact with it, it is time to dive deeper into the world of gym.\n",
    "\n",
    "Gym offers us many functions to interact with the created environment. The most important are:\n",
    "\n",
    "* reset() - which resets the state of the environment to the initial state. I.e it restarts the game \n",
    "* step(action) - performs an action on your environment. In our case it either starts the game or moves to the left, right, or just remains at the current position. It returns the current state of the environment, the reward, if the game is done and some debugging information\n",
    "* render(mode) - Renders your environment and displays it on your monitor\n",
    "\n",
    "We will get to know those functions in the next few cells"
   ]
  },
  {
   "cell_type": "markdown",
   "id": "coral-corps",
   "metadata": {},
   "source": [
    "First we will take a look at the **render** function:<br />\n",
    "render(mode) takes one argument, namely the render *mode*. *mode* can take two possible values:\n",
    "* \"human\"\n",
    "* \"rgb_array\"\n",
    "\n",
    "\"human\" directly displays the game on your screen, while \"rgb_array\" returns the array containing the state of the current environment aka the image render shows us."
   ]
  },
  {
   "cell_type": "code",
   "execution_count": 16,
   "id": "alternate-wonder",
   "metadata": {},
   "outputs": [],
   "source": [
    "for _ in range(200):  # Run the environment for 200 steps\n",
    "    env.render_mode='human'  # directly displays you the current state of the game"
   ]
  },
  {
   "cell_type": "code",
   "execution_count": 4,
   "id": "entitled-exclusive",
   "metadata": {},
   "outputs": [],
   "source": [
    "env.close()  # as render always opens a new window when called, it is important to close it again"
   ]
  },
  {
   "cell_type": "code",
   "execution_count": 8,
   "id": "acquired-escape",
   "metadata": {},
   "outputs": [
    {
     "name": "stdout",
     "output_type": "stream",
     "text": [
      "[200  72  72]\n"
     ]
    },
    {
     "data": {
      "text/plain": [
       "<matplotlib.image.AxesImage at 0x24c7bb22be0>"
      ]
     },
     "execution_count": 8,
     "metadata": {},
     "output_type": "execute_result"
    },
    {
     "data": {
      "image/png": "[encoded data removed]",
      "text/plain": [
       "<Figure size 640x480 with 1 Axes>"
      ]
     },
     "metadata": {},
     "output_type": "display_data"
    }
   ],
   "source": [
    "array = env.render(mode=\"rgb_array\")  # returns the image as a 2d numpy array\n",
    "print(array[60][50])  # display the colour of some pixel (row 60 and column 50 - so the red blocks)\n",
    "\n",
    "plt.imshow(array)  # you can use matplotlib to take a look at your environment - it is the same image as above"
   ]
  },
  {
   "cell_type": "code",
   "execution_count": 9,
   "id": "b5323909",
   "metadata": {},
   "outputs": [
    {
     "data": {
      "text/plain": [
       "array([[[0, 0, 0],\n",
       "        [0, 0, 0],\n",
       "        [0, 0, 0],\n",
       "        ...,\n",
       "        [0, 0, 0],\n",
       "        [0, 0, 0],\n",
       "        [0, 0, 0]],\n",
       "\n",
       "       [[0, 0, 0],\n",
       "        [0, 0, 0],\n",
       "        [0, 0, 0],\n",
       "        ...,\n",
       "        [0, 0, 0],\n",
       "        [0, 0, 0],\n",
       "        [0, 0, 0]],\n",
       "\n",
       "       [[0, 0, 0],\n",
       "        [0, 0, 0],\n",
       "        [0, 0, 0],\n",
       "        ...,\n",
       "        [0, 0, 0],\n",
       "        [0, 0, 0],\n",
       "        [0, 0, 0]],\n",
       "\n",
       "       ...,\n",
       "\n",
       "       [[0, 0, 0],\n",
       "        [0, 0, 0],\n",
       "        [0, 0, 0],\n",
       "        ...,\n",
       "        [0, 0, 0],\n",
       "        [0, 0, 0],\n",
       "        [0, 0, 0]],\n",
       "\n",
       "       [[0, 0, 0],\n",
       "        [0, 0, 0],\n",
       "        [0, 0, 0],\n",
       "        ...,\n",
       "        [0, 0, 0],\n",
       "        [0, 0, 0],\n",
       "        [0, 0, 0]],\n",
       "\n",
       "       [[0, 0, 0],\n",
       "        [0, 0, 0],\n",
       "        [0, 0, 0],\n",
       "        ...,\n",
       "        [0, 0, 0],\n",
       "        [0, 0, 0],\n",
       "        [0, 0, 0]]], dtype=uint8)"
      ]
     },
     "execution_count": 9,
     "metadata": {},
     "output_type": "execute_result"
    }
   ],
   "source": [
    "array "
   ]
  },
  {
   "cell_type": "markdown",
   "id": "female-circular",
   "metadata": {},
   "source": [
    "Note that even we ran 1000 steps over the environment, nothing happened! <br />\n",
    "This is because no action was taken on this environment.\n",
    "\n",
    "This is the point where the **step** function joins our game. It performs a selected action on our environment, e.g moving to the left.\n",
    "\n",
    "You can take a look at the possible actions via the **action_space.n** property.\n",
    "It returns 4 for our game which is in line with our above findings that we can either start the game, move left or right, or stand still."
   ]
  },
  {
   "cell_type": "code",
   "execution_count": 10,
   "id": "based-huntington",
   "metadata": {},
   "outputs": [
    {
     "name": "stdout",
     "output_type": "stream",
     "text": [
      "There are 4 possible actions\n"
     ]
    }
   ],
   "source": [
    "print(f\"There are {env.action_space.n} possible actions\")"
   ]
  },
  {
   "cell_type": "markdown",
   "id": "ordered-mobile",
   "metadata": {},
   "source": [
    "Now it is time to watch some action happening. For this we can select a random possible action.\n",
    "We could do this by using **numpy.random.randint(0, 4)** or by using the provided sample function **env.action_space.sample()** which directly returns you a possible action.\n",
    "\n",
    "Note how the \"ale.lives\" info reduces for each live you lose"
   ]
  },
  {
   "cell_type": "code",
   "execution_count": 18,
   "id": "documented-algeria",
   "metadata": {},
   "outputs": [
    {
     "name": "stdout",
     "output_type": "stream",
     "text": [
      "Reward: 0.0, Done: False, Info: {'lives': 5, 'episode_frame_number': 4, 'frame_number': 525}\n",
      "Reward: 0.0, Done: False, Info: {'lives': 5, 'episode_frame_number': 6, 'frame_number': 527}\n",
      "Reward: 0.0, Done: False, Info: {'lives': 5, 'episode_frame_number': 10, 'frame_number': 531}\n",
      "Reward: 0.0, Done: False, Info: {'lives': 5, 'episode_frame_number': 14, 'frame_number': 535}\n",
      "Reward: 0.0, Done: False, Info: {'lives': 5, 'episode_frame_number': 18, 'frame_number': 539}\n",
      "Reward: 0.0, Done: False, Info: {'lives': 5, 'episode_frame_number': 22, 'frame_number': 543}\n",
      "Reward: 0.0, Done: False, Info: {'lives': 5, 'episode_frame_number': 24, 'frame_number': 545}\n",
      "Reward: 0.0, Done: False, Info: {'lives': 5, 'episode_frame_number': 28, 'frame_number': 549}\n",
      "Reward: 0.0, Done: False, Info: {'lives': 5, 'episode_frame_number': 30, 'frame_number': 551}\n",
      "Reward: 0.0, Done: False, Info: {'lives': 5, 'episode_frame_number': 32, 'frame_number': 553}\n",
      "Reward: 0.0, Done: False, Info: {'lives': 5, 'episode_frame_number': 36, 'frame_number': 557}\n",
      "Reward: 0.0, Done: False, Info: {'lives': 5, 'episode_frame_number': 38, 'frame_number': 559}\n",
      "Reward: 0.0, Done: False, Info: {'lives': 5, 'episode_frame_number': 40, 'frame_number': 561}\n",
      "Reward: 0.0, Done: False, Info: {'lives': 5, 'episode_frame_number': 42, 'frame_number': 563}\n",
      "Reward: 0.0, Done: False, Info: {'lives': 5, 'episode_frame_number': 45, 'frame_number': 566}\n",
      "Reward: 0.0, Done: False, Info: {'lives': 5, 'episode_frame_number': 48, 'frame_number': 569}\n",
      "Reward: 0.0, Done: False, Info: {'lives': 5, 'episode_frame_number': 52, 'frame_number': 573}\n",
      "Reward: 0.0, Done: False, Info: {'lives': 5, 'episode_frame_number': 56, 'frame_number': 577}\n",
      "Reward: 0.0, Done: False, Info: {'lives': 5, 'episode_frame_number': 60, 'frame_number': 581}\n",
      "Reward: 0.0, Done: False, Info: {'lives': 5, 'episode_frame_number': 63, 'frame_number': 584}\n",
      "Reward: 0.0, Done: False, Info: {'lives': 5, 'episode_frame_number': 67, 'frame_number': 588}\n",
      "Reward: 0.0, Done: False, Info: {'lives': 5, 'episode_frame_number': 71, 'frame_number': 592}\n",
      "Reward: 0.0, Done: False, Info: {'lives': 5, 'episode_frame_number': 74, 'frame_number': 595}\n",
      "Reward: 0.0, Done: False, Info: {'lives': 5, 'episode_frame_number': 78, 'frame_number': 599}\n",
      "Reward: 0.0, Done: False, Info: {'lives': 5, 'episode_frame_number': 81, 'frame_number': 602}\n",
      "Reward: 0.0, Done: False, Info: {'lives': 5, 'episode_frame_number': 85, 'frame_number': 606}\n",
      "Reward: 0.0, Done: False, Info: {'lives': 5, 'episode_frame_number': 88, 'frame_number': 609}\n",
      "Reward: 0.0, Done: False, Info: {'lives': 5, 'episode_frame_number': 90, 'frame_number': 611}\n",
      "Reward: 0.0, Done: False, Info: {'lives': 5, 'episode_frame_number': 92, 'frame_number': 613}\n",
      "Reward: 0.0, Done: False, Info: {'lives': 5, 'episode_frame_number': 96, 'frame_number': 617}\n",
      "Reward: 0.0, Done: False, Info: {'lives': 5, 'episode_frame_number': 98, 'frame_number': 619}\n",
      "Reward: 0.0, Done: False, Info: {'lives': 5, 'episode_frame_number': 102, 'frame_number': 623}\n",
      "Reward: 0.0, Done: False, Info: {'lives': 5, 'episode_frame_number': 104, 'frame_number': 625}\n",
      "Reward: 0.0, Done: False, Info: {'lives': 5, 'episode_frame_number': 106, 'frame_number': 627}\n",
      "Reward: 0.0, Done: False, Info: {'lives': 5, 'episode_frame_number': 110, 'frame_number': 631}\n",
      "Reward: 0.0, Done: False, Info: {'lives': 5, 'episode_frame_number': 112, 'frame_number': 633}\n",
      "Reward: 0.0, Done: False, Info: {'lives': 5, 'episode_frame_number': 114, 'frame_number': 635}\n",
      "Reward: 0.0, Done: False, Info: {'lives': 5, 'episode_frame_number': 118, 'frame_number': 639}\n",
      "Reward: 0.0, Done: False, Info: {'lives': 5, 'episode_frame_number': 122, 'frame_number': 643}\n",
      "Reward: 0.0, Done: False, Info: {'lives': 5, 'episode_frame_number': 124, 'frame_number': 645}\n",
      "Reward: 0.0, Done: False, Info: {'lives': 5, 'episode_frame_number': 126, 'frame_number': 647}\n",
      "Reward: 0.0, Done: False, Info: {'lives': 5, 'episode_frame_number': 128, 'frame_number': 649}\n",
      "Reward: 0.0, Done: False, Info: {'lives': 5, 'episode_frame_number': 132, 'frame_number': 653}\n",
      "Reward: 1.0, Done: False, Info: {'lives': 5, 'episode_frame_number': 135, 'frame_number': 656}\n",
      "Reward: 0.0, Done: False, Info: {'lives': 5, 'episode_frame_number': 137, 'frame_number': 658}\n",
      "Reward: 0.0, Done: False, Info: {'lives': 5, 'episode_frame_number': 141, 'frame_number': 662}\n",
      "Reward: 0.0, Done: False, Info: {'lives': 5, 'episode_frame_number': 144, 'frame_number': 665}\n",
      "Reward: 0.0, Done: False, Info: {'lives': 5, 'episode_frame_number': 147, 'frame_number': 668}\n",
      "Reward: 0.0, Done: False, Info: {'lives': 5, 'episode_frame_number': 150, 'frame_number': 671}\n",
      "Reward: 0.0, Done: False, Info: {'lives': 5, 'episode_frame_number': 153, 'frame_number': 674}\n",
      "Reward: 0.0, Done: False, Info: {'lives': 5, 'episode_frame_number': 155, 'frame_number': 676}\n",
      "Reward: 0.0, Done: False, Info: {'lives': 5, 'episode_frame_number': 157, 'frame_number': 678}\n",
      "Reward: 0.0, Done: False, Info: {'lives': 5, 'episode_frame_number': 160, 'frame_number': 681}\n",
      "Reward: 0.0, Done: False, Info: {'lives': 5, 'episode_frame_number': 164, 'frame_number': 685}\n",
      "Reward: 0.0, Done: False, Info: {'lives': 5, 'episode_frame_number': 167, 'frame_number': 688}\n",
      "Reward: 0.0, Done: False, Info: {'lives': 5, 'episode_frame_number': 170, 'frame_number': 691}\n",
      "Reward: 0.0, Done: False, Info: {'lives': 5, 'episode_frame_number': 173, 'frame_number': 694}\n",
      "Reward: 0.0, Done: False, Info: {'lives': 5, 'episode_frame_number': 175, 'frame_number': 696}\n",
      "Reward: 0.0, Done: False, Info: {'lives': 5, 'episode_frame_number': 178, 'frame_number': 699}\n",
      "Reward: 0.0, Done: False, Info: {'lives': 5, 'episode_frame_number': 181, 'frame_number': 702}\n",
      "Reward: 0.0, Done: False, Info: {'lives': 5, 'episode_frame_number': 183, 'frame_number': 704}\n",
      "Reward: 0.0, Done: False, Info: {'lives': 5, 'episode_frame_number': 185, 'frame_number': 706}\n",
      "Reward: 0.0, Done: False, Info: {'lives': 5, 'episode_frame_number': 187, 'frame_number': 708}\n",
      "Reward: 0.0, Done: False, Info: {'lives': 5, 'episode_frame_number': 189, 'frame_number': 710}\n",
      "Reward: 0.0, Done: False, Info: {'lives': 5, 'episode_frame_number': 191, 'frame_number': 712}\n",
      "Reward: 0.0, Done: False, Info: {'lives': 5, 'episode_frame_number': 193, 'frame_number': 714}\n",
      "Reward: 0.0, Done: False, Info: {'lives': 5, 'episode_frame_number': 195, 'frame_number': 716}\n",
      "Reward: 0.0, Done: False, Info: {'lives': 5, 'episode_frame_number': 199, 'frame_number': 720}\n",
      "Reward: 0.0, Done: False, Info: {'lives': 5, 'episode_frame_number': 203, 'frame_number': 724}\n",
      "Reward: 0.0, Done: False, Info: {'lives': 5, 'episode_frame_number': 207, 'frame_number': 728}\n",
      "Reward: 0.0, Done: False, Info: {'lives': 5, 'episode_frame_number': 211, 'frame_number': 732}\n",
      "Reward: 0.0, Done: False, Info: {'lives': 5, 'episode_frame_number': 213, 'frame_number': 734}\n",
      "Reward: 0.0, Done: False, Info: {'lives': 5, 'episode_frame_number': 216, 'frame_number': 737}\n",
      "Reward: 0.0, Done: False, Info: {'lives': 4, 'episode_frame_number': 220, 'frame_number': 741}\n",
      "Reward: 0.0, Done: False, Info: {'lives': 4, 'episode_frame_number': 224, 'frame_number': 745}\n",
      "Reward: 0.0, Done: False, Info: {'lives': 4, 'episode_frame_number': 227, 'frame_number': 748}\n",
      "Reward: 0.0, Done: False, Info: {'lives': 4, 'episode_frame_number': 231, 'frame_number': 752}\n",
      "Reward: 0.0, Done: False, Info: {'lives': 4, 'episode_frame_number': 234, 'frame_number': 755}\n",
      "Reward: 0.0, Done: False, Info: {'lives': 4, 'episode_frame_number': 237, 'frame_number': 758}\n",
      "Reward: 0.0, Done: False, Info: {'lives': 4, 'episode_frame_number': 241, 'frame_number': 762}\n",
      "Reward: 0.0, Done: False, Info: {'lives': 4, 'episode_frame_number': 244, 'frame_number': 765}\n",
      "Reward: 0.0, Done: False, Info: {'lives': 4, 'episode_frame_number': 248, 'frame_number': 769}\n",
      "Reward: 0.0, Done: False, Info: {'lives': 4, 'episode_frame_number': 250, 'frame_number': 771}\n",
      "Reward: 0.0, Done: False, Info: {'lives': 4, 'episode_frame_number': 253, 'frame_number': 774}\n",
      "Reward: 0.0, Done: False, Info: {'lives': 4, 'episode_frame_number': 255, 'frame_number': 776}\n",
      "Reward: 0.0, Done: False, Info: {'lives': 4, 'episode_frame_number': 257, 'frame_number': 778}\n",
      "Reward: 0.0, Done: False, Info: {'lives': 4, 'episode_frame_number': 261, 'frame_number': 782}\n",
      "Reward: 0.0, Done: False, Info: {'lives': 4, 'episode_frame_number': 265, 'frame_number': 786}\n",
      "Reward: 0.0, Done: False, Info: {'lives': 4, 'episode_frame_number': 267, 'frame_number': 788}\n",
      "Reward: 0.0, Done: False, Info: {'lives': 4, 'episode_frame_number': 269, 'frame_number': 790}\n",
      "Reward: 0.0, Done: False, Info: {'lives': 4, 'episode_frame_number': 273, 'frame_number': 794}\n",
      "Reward: 0.0, Done: False, Info: {'lives': 4, 'episode_frame_number': 275, 'frame_number': 796}\n",
      "Reward: 0.0, Done: False, Info: {'lives': 4, 'episode_frame_number': 278, 'frame_number': 799}\n",
      "Reward: 0.0, Done: False, Info: {'lives': 4, 'episode_frame_number': 282, 'frame_number': 803}\n",
      "Reward: 0.0, Done: False, Info: {'lives': 4, 'episode_frame_number': 285, 'frame_number': 806}\n",
      "Reward: 0.0, Done: False, Info: {'lives': 4, 'episode_frame_number': 288, 'frame_number': 809}\n",
      "Reward: 0.0, Done: False, Info: {'lives': 4, 'episode_frame_number': 291, 'frame_number': 812}\n",
      "Reward: 0.0, Done: False, Info: {'lives': 4, 'episode_frame_number': 293, 'frame_number': 814}\n",
      "Reward: 0.0, Done: False, Info: {'lives': 4, 'episode_frame_number': 295, 'frame_number': 816}\n",
      "Reward: 0.0, Done: False, Info: {'lives': 4, 'episode_frame_number': 298, 'frame_number': 819}\n",
      "Reward: 0.0, Done: False, Info: {'lives': 4, 'episode_frame_number': 300, 'frame_number': 821}\n",
      "Reward: 0.0, Done: False, Info: {'lives': 4, 'episode_frame_number': 303, 'frame_number': 824}\n",
      "Reward: 0.0, Done: False, Info: {'lives': 4, 'episode_frame_number': 307, 'frame_number': 828}\n",
      "Reward: 0.0, Done: False, Info: {'lives': 4, 'episode_frame_number': 310, 'frame_number': 831}\n",
      "Reward: 0.0, Done: False, Info: {'lives': 4, 'episode_frame_number': 313, 'frame_number': 834}\n",
      "Reward: 0.0, Done: False, Info: {'lives': 4, 'episode_frame_number': 316, 'frame_number': 837}\n",
      "Reward: 0.0, Done: False, Info: {'lives': 4, 'episode_frame_number': 320, 'frame_number': 841}\n",
      "Reward: 0.0, Done: False, Info: {'lives': 4, 'episode_frame_number': 323, 'frame_number': 844}\n",
      "Reward: 0.0, Done: False, Info: {'lives': 4, 'episode_frame_number': 327, 'frame_number': 848}\n",
      "Reward: 0.0, Done: False, Info: {'lives': 4, 'episode_frame_number': 329, 'frame_number': 850}\n",
      "Reward: 0.0, Done: False, Info: {'lives': 4, 'episode_frame_number': 332, 'frame_number': 853}\n",
      "Reward: 0.0, Done: False, Info: {'lives': 4, 'episode_frame_number': 336, 'frame_number': 857}\n",
      "Reward: 0.0, Done: False, Info: {'lives': 4, 'episode_frame_number': 339, 'frame_number': 860}\n",
      "Reward: 0.0, Done: False, Info: {'lives': 4, 'episode_frame_number': 343, 'frame_number': 864}\n",
      "Reward: 0.0, Done: False, Info: {'lives': 4, 'episode_frame_number': 346, 'frame_number': 867}\n",
      "Reward: 0.0, Done: False, Info: {'lives': 4, 'episode_frame_number': 348, 'frame_number': 869}\n",
      "Reward: 0.0, Done: False, Info: {'lives': 4, 'episode_frame_number': 350, 'frame_number': 871}\n",
      "Reward: 0.0, Done: False, Info: {'lives': 4, 'episode_frame_number': 353, 'frame_number': 874}\n",
      "Reward: 0.0, Done: False, Info: {'lives': 4, 'episode_frame_number': 356, 'frame_number': 877}\n",
      "Reward: 0.0, Done: False, Info: {'lives': 3, 'episode_frame_number': 360, 'frame_number': 881}\n",
      "Reward: 0.0, Done: False, Info: {'lives': 3, 'episode_frame_number': 364, 'frame_number': 885}\n",
      "Reward: 0.0, Done: False, Info: {'lives': 3, 'episode_frame_number': 367, 'frame_number': 888}\n",
      "Reward: 0.0, Done: False, Info: {'lives': 3, 'episode_frame_number': 371, 'frame_number': 892}\n",
      "Reward: 0.0, Done: False, Info: {'lives': 3, 'episode_frame_number': 375, 'frame_number': 896}\n",
      "Reward: 0.0, Done: False, Info: {'lives': 3, 'episode_frame_number': 377, 'frame_number': 898}\n",
      "Reward: 0.0, Done: False, Info: {'lives': 3, 'episode_frame_number': 380, 'frame_number': 901}\n",
      "Reward: 0.0, Done: False, Info: {'lives': 3, 'episode_frame_number': 383, 'frame_number': 904}\n",
      "Reward: 0.0, Done: False, Info: {'lives': 3, 'episode_frame_number': 385, 'frame_number': 906}\n",
      "Reward: 0.0, Done: False, Info: {'lives': 3, 'episode_frame_number': 387, 'frame_number': 908}\n",
      "Reward: 0.0, Done: False, Info: {'lives': 3, 'episode_frame_number': 391, 'frame_number': 912}\n",
      "Reward: 0.0, Done: False, Info: {'lives': 3, 'episode_frame_number': 395, 'frame_number': 916}\n",
      "Reward: 0.0, Done: False, Info: {'lives': 3, 'episode_frame_number': 399, 'frame_number': 920}\n",
      "Reward: 0.0, Done: False, Info: {'lives': 3, 'episode_frame_number': 403, 'frame_number': 924}\n",
      "Reward: 0.0, Done: False, Info: {'lives': 3, 'episode_frame_number': 405, 'frame_number': 926}\n",
      "Reward: 0.0, Done: False, Info: {'lives': 3, 'episode_frame_number': 407, 'frame_number': 928}\n",
      "Reward: 0.0, Done: False, Info: {'lives': 3, 'episode_frame_number': 410, 'frame_number': 931}\n",
      "Reward: 0.0, Done: False, Info: {'lives': 3, 'episode_frame_number': 413, 'frame_number': 934}\n",
      "Reward: 0.0, Done: False, Info: {'lives': 3, 'episode_frame_number': 417, 'frame_number': 938}\n",
      "Reward: 0.0, Done: False, Info: {'lives': 3, 'episode_frame_number': 419, 'frame_number': 940}\n",
      "Reward: 0.0, Done: False, Info: {'lives': 3, 'episode_frame_number': 421, 'frame_number': 942}\n",
      "Reward: 0.0, Done: False, Info: {'lives': 3, 'episode_frame_number': 425, 'frame_number': 946}\n",
      "Reward: 0.0, Done: False, Info: {'lives': 3, 'episode_frame_number': 428, 'frame_number': 949}\n",
      "Reward: 0.0, Done: False, Info: {'lives': 3, 'episode_frame_number': 431, 'frame_number': 952}\n",
      "Reward: 0.0, Done: False, Info: {'lives': 3, 'episode_frame_number': 434, 'frame_number': 955}\n",
      "Reward: 0.0, Done: False, Info: {'lives': 3, 'episode_frame_number': 437, 'frame_number': 958}\n",
      "Reward: 0.0, Done: False, Info: {'lives': 3, 'episode_frame_number': 441, 'frame_number': 962}\n",
      "Reward: 0.0, Done: False, Info: {'lives': 3, 'episode_frame_number': 444, 'frame_number': 965}\n",
      "Reward: 0.0, Done: False, Info: {'lives': 3, 'episode_frame_number': 447, 'frame_number': 968}\n",
      "Reward: 0.0, Done: False, Info: {'lives': 3, 'episode_frame_number': 451, 'frame_number': 972}\n",
      "Reward: 0.0, Done: False, Info: {'lives': 3, 'episode_frame_number': 454, 'frame_number': 975}\n",
      "Reward: 0.0, Done: False, Info: {'lives': 3, 'episode_frame_number': 456, 'frame_number': 977}\n",
      "Reward: 0.0, Done: False, Info: {'lives': 3, 'episode_frame_number': 459, 'frame_number': 980}\n",
      "Reward: 0.0, Done: False, Info: {'lives': 2, 'episode_frame_number': 463, 'frame_number': 984}\n",
      "Reward: 0.0, Done: False, Info: {'lives': 2, 'episode_frame_number': 466, 'frame_number': 987}\n",
      "Reward: 0.0, Done: False, Info: {'lives': 2, 'episode_frame_number': 470, 'frame_number': 991}\n",
      "Reward: 0.0, Done: False, Info: {'lives': 2, 'episode_frame_number': 472, 'frame_number': 993}\n",
      "Reward: 0.0, Done: False, Info: {'lives': 2, 'episode_frame_number': 475, 'frame_number': 996}\n",
      "Reward: 0.0, Done: False, Info: {'lives': 2, 'episode_frame_number': 479, 'frame_number': 1000}\n",
      "Reward: 0.0, Done: False, Info: {'lives': 2, 'episode_frame_number': 483, 'frame_number': 1004}\n",
      "Reward: 0.0, Done: False, Info: {'lives': 2, 'episode_frame_number': 485, 'frame_number': 1006}\n",
      "Reward: 0.0, Done: False, Info: {'lives': 2, 'episode_frame_number': 487, 'frame_number': 1008}\n",
      "Reward: 0.0, Done: False, Info: {'lives': 2, 'episode_frame_number': 490, 'frame_number': 1011}\n",
      "Reward: 0.0, Done: False, Info: {'lives': 2, 'episode_frame_number': 492, 'frame_number': 1013}\n",
      "Reward: 0.0, Done: False, Info: {'lives': 2, 'episode_frame_number': 494, 'frame_number': 1015}\n",
      "Reward: 0.0, Done: False, Info: {'lives': 2, 'episode_frame_number': 498, 'frame_number': 1019}\n",
      "Reward: 0.0, Done: False, Info: {'lives': 2, 'episode_frame_number': 501, 'frame_number': 1022}\n",
      "Reward: 0.0, Done: False, Info: {'lives': 2, 'episode_frame_number': 505, 'frame_number': 1026}\n",
      "Reward: 0.0, Done: False, Info: {'lives': 2, 'episode_frame_number': 509, 'frame_number': 1030}\n",
      "Reward: 0.0, Done: False, Info: {'lives': 2, 'episode_frame_number': 511, 'frame_number': 1032}\n",
      "Reward: 0.0, Done: False, Info: {'lives': 2, 'episode_frame_number': 514, 'frame_number': 1035}\n",
      "Reward: 0.0, Done: False, Info: {'lives': 2, 'episode_frame_number': 516, 'frame_number': 1037}\n",
      "Reward: 0.0, Done: False, Info: {'lives': 2, 'episode_frame_number': 520, 'frame_number': 1041}\n",
      "Reward: 0.0, Done: False, Info: {'lives': 2, 'episode_frame_number': 524, 'frame_number': 1045}\n",
      "Reward: 0.0, Done: False, Info: {'lives': 2, 'episode_frame_number': 528, 'frame_number': 1049}\n",
      "Reward: 0.0, Done: False, Info: {'lives': 2, 'episode_frame_number': 530, 'frame_number': 1051}\n",
      "Reward: 0.0, Done: False, Info: {'lives': 2, 'episode_frame_number': 533, 'frame_number': 1054}\n",
      "Reward: 0.0, Done: False, Info: {'lives': 2, 'episode_frame_number': 537, 'frame_number': 1058}\n",
      "Reward: 0.0, Done: False, Info: {'lives': 2, 'episode_frame_number': 541, 'frame_number': 1062}\n",
      "Reward: 0.0, Done: False, Info: {'lives': 2, 'episode_frame_number': 545, 'frame_number': 1066}\n",
      "Reward: 0.0, Done: False, Info: {'lives': 2, 'episode_frame_number': 549, 'frame_number': 1070}\n",
      "Reward: 0.0, Done: False, Info: {'lives': 2, 'episode_frame_number': 551, 'frame_number': 1072}\n",
      "Reward: 0.0, Done: False, Info: {'lives': 2, 'episode_frame_number': 555, 'frame_number': 1076}\n",
      "Reward: 0.0, Done: False, Info: {'lives': 1, 'episode_frame_number': 559, 'frame_number': 1080}\n",
      "Reward: 0.0, Done: False, Info: {'lives': 1, 'episode_frame_number': 563, 'frame_number': 1084}\n",
      "Reward: 0.0, Done: False, Info: {'lives': 1, 'episode_frame_number': 567, 'frame_number': 1088}\n",
      "Reward: 0.0, Done: False, Info: {'lives': 1, 'episode_frame_number': 570, 'frame_number': 1091}\n",
      "Reward: 0.0, Done: False, Info: {'lives': 1, 'episode_frame_number': 573, 'frame_number': 1094}\n",
      "Reward: 0.0, Done: False, Info: {'lives': 1, 'episode_frame_number': 576, 'frame_number': 1097}\n",
      "Reward: 0.0, Done: False, Info: {'lives': 1, 'episode_frame_number': 579, 'frame_number': 1100}\n",
      "Reward: 0.0, Done: False, Info: {'lives': 1, 'episode_frame_number': 582, 'frame_number': 1103}\n",
      "Reward: 0.0, Done: False, Info: {'lives': 1, 'episode_frame_number': 585, 'frame_number': 1106}\n",
      "Reward: 0.0, Done: False, Info: {'lives': 1, 'episode_frame_number': 587, 'frame_number': 1108}\n",
      "Reward: 0.0, Done: False, Info: {'lives': 1, 'episode_frame_number': 591, 'frame_number': 1112}\n",
      "Reward: 0.0, Done: False, Info: {'lives': 1, 'episode_frame_number': 593, 'frame_number': 1114}\n",
      "Reward: 0.0, Done: False, Info: {'lives': 1, 'episode_frame_number': 597, 'frame_number': 1118}\n",
      "Reward: 0.0, Done: False, Info: {'lives': 1, 'episode_frame_number': 599, 'frame_number': 1120}\n",
      "Reward: 0.0, Done: False, Info: {'lives': 1, 'episode_frame_number': 601, 'frame_number': 1122}\n",
      "Reward: 0.0, Done: False, Info: {'lives': 1, 'episode_frame_number': 604, 'frame_number': 1125}\n",
      "Reward: 0.0, Done: False, Info: {'lives': 1, 'episode_frame_number': 608, 'frame_number': 1129}\n",
      "Reward: 0.0, Done: False, Info: {'lives': 1, 'episode_frame_number': 611, 'frame_number': 1132}\n"
     ]
    }
   ],
   "source": [
    "#state = env.reset() \n",
    "for _ in range(200):\n",
    "    env.render_mode='human'# display the current state\n",
    "    random_action = env.action_space.sample()  # get the random action\n",
    "    observation, reward, done, info = env.step(random_action) # perform the action the current state of the environment\n",
    "    print(f\"Reward: {reward}, Done: {done}, Info: {info}\")\n",
    "    time.sleep(0.01)  # slow down the game a bit\n",
    "env.close()  # dont forget to close the environment"
   ]
  },
  {
   "cell_type": "markdown",
   "id": "manual-amount",
   "metadata": {},
   "source": [
    "If we would now again render the environment, we continue at the same stage we left - thus to start again we need to call the **reset** function.\n",
    "The reset function returns the initial state of the environment."
   ]
  },
  {
   "cell_type": "code",
   "execution_count": 20,
   "id": "electric-reminder",
   "metadata": {},
   "outputs": [],
   "source": [
    "env.render_mode='human'  # Old state of the game"
   ]
  },
  {
   "cell_type": "code",
   "execution_count": 21,
   "id": "manual-delta",
   "metadata": {},
   "outputs": [],
   "source": [
    "env.close()\n",
    "state = env.reset()"
   ]
  },
  {
   "cell_type": "markdown",
   "id": "destroyed-approval",
   "metadata": {},
   "source": [
    "Now we can again take a look at the game"
   ]
  },
  {
   "cell_type": "code",
   "execution_count": 23,
   "id": "induced-estate",
   "metadata": {
    "scrolled": true
   },
   "outputs": [
    {
     "name": "stdout",
     "output_type": "stream",
     "text": [
      "Reward: 0.0, Done: False, Info: {'lives': 5, 'episode_frame_number': 2, 'frame_number': 1134}\n",
      "Reward: 0.0, Done: False, Info: {'lives': 5, 'episode_frame_number': 4, 'frame_number': 1136}\n",
      "Reward: 0.0, Done: False, Info: {'lives': 5, 'episode_frame_number': 7, 'frame_number': 1139}\n",
      "Reward: 0.0, Done: False, Info: {'lives': 5, 'episode_frame_number': 10, 'frame_number': 1142}\n",
      "Reward: 0.0, Done: False, Info: {'lives': 5, 'episode_frame_number': 14, 'frame_number': 1146}\n",
      "Reward: 0.0, Done: False, Info: {'lives': 5, 'episode_frame_number': 16, 'frame_number': 1148}\n",
      "Reward: 0.0, Done: False, Info: {'lives': 5, 'episode_frame_number': 18, 'frame_number': 1150}\n",
      "Reward: 0.0, Done: False, Info: {'lives': 5, 'episode_frame_number': 22, 'frame_number': 1154}\n",
      "Reward: 0.0, Done: False, Info: {'lives': 5, 'episode_frame_number': 25, 'frame_number': 1157}\n",
      "Reward: 0.0, Done: False, Info: {'lives': 5, 'episode_frame_number': 27, 'frame_number': 1159}\n",
      "Reward: 0.0, Done: False, Info: {'lives': 5, 'episode_frame_number': 29, 'frame_number': 1161}\n",
      "Reward: 0.0, Done: False, Info: {'lives': 5, 'episode_frame_number': 32, 'frame_number': 1164}\n",
      "Reward: 0.0, Done: False, Info: {'lives': 5, 'episode_frame_number': 35, 'frame_number': 1167}\n",
      "Reward: 0.0, Done: False, Info: {'lives': 5, 'episode_frame_number': 37, 'frame_number': 1169}\n",
      "Reward: 0.0, Done: False, Info: {'lives': 5, 'episode_frame_number': 39, 'frame_number': 1171}\n",
      "Reward: 0.0, Done: False, Info: {'lives': 5, 'episode_frame_number': 43, 'frame_number': 1175}\n",
      "Reward: 0.0, Done: False, Info: {'lives': 5, 'episode_frame_number': 45, 'frame_number': 1177}\n",
      "Reward: 0.0, Done: False, Info: {'lives': 5, 'episode_frame_number': 47, 'frame_number': 1179}\n",
      "Reward: 0.0, Done: False, Info: {'lives': 5, 'episode_frame_number': 51, 'frame_number': 1183}\n",
      "Reward: 0.0, Done: False, Info: {'lives': 5, 'episode_frame_number': 55, 'frame_number': 1187}\n",
      "Reward: 0.0, Done: False, Info: {'lives': 5, 'episode_frame_number': 57, 'frame_number': 1189}\n",
      "Reward: 0.0, Done: False, Info: {'lives': 5, 'episode_frame_number': 61, 'frame_number': 1193}\n",
      "Reward: 0.0, Done: False, Info: {'lives': 5, 'episode_frame_number': 63, 'frame_number': 1195}\n",
      "Reward: 0.0, Done: False, Info: {'lives': 5, 'episode_frame_number': 65, 'frame_number': 1197}\n",
      "Reward: 0.0, Done: False, Info: {'lives': 5, 'episode_frame_number': 68, 'frame_number': 1200}\n",
      "Reward: 0.0, Done: False, Info: {'lives': 5, 'episode_frame_number': 72, 'frame_number': 1204}\n",
      "Reward: 0.0, Done: False, Info: {'lives': 5, 'episode_frame_number': 76, 'frame_number': 1208}\n",
      "Reward: 0.0, Done: False, Info: {'lives': 5, 'episode_frame_number': 79, 'frame_number': 1211}\n",
      "Reward: 0.0, Done: False, Info: {'lives': 5, 'episode_frame_number': 82, 'frame_number': 1214}\n",
      "Reward: 0.0, Done: False, Info: {'lives': 5, 'episode_frame_number': 84, 'frame_number': 1216}\n",
      "Reward: 0.0, Done: False, Info: {'lives': 5, 'episode_frame_number': 87, 'frame_number': 1219}\n",
      "Reward: 0.0, Done: False, Info: {'lives': 5, 'episode_frame_number': 90, 'frame_number': 1222}\n",
      "Reward: 0.0, Done: False, Info: {'lives': 5, 'episode_frame_number': 94, 'frame_number': 1226}\n",
      "Reward: 0.0, Done: False, Info: {'lives': 5, 'episode_frame_number': 98, 'frame_number': 1230}\n",
      "Reward: 0.0, Done: False, Info: {'lives': 5, 'episode_frame_number': 100, 'frame_number': 1232}\n",
      "Reward: 0.0, Done: False, Info: {'lives': 4, 'episode_frame_number': 103, 'frame_number': 1235}\n",
      "Reward: 0.0, Done: False, Info: {'lives': 4, 'episode_frame_number': 105, 'frame_number': 1237}\n",
      "Reward: 0.0, Done: False, Info: {'lives': 4, 'episode_frame_number': 107, 'frame_number': 1239}\n",
      "Reward: 0.0, Done: False, Info: {'lives': 4, 'episode_frame_number': 111, 'frame_number': 1243}\n",
      "Reward: 0.0, Done: False, Info: {'lives': 4, 'episode_frame_number': 113, 'frame_number': 1245}\n",
      "Reward: 0.0, Done: False, Info: {'lives': 4, 'episode_frame_number': 117, 'frame_number': 1249}\n",
      "Reward: 0.0, Done: False, Info: {'lives': 4, 'episode_frame_number': 120, 'frame_number': 1252}\n",
      "Reward: 0.0, Done: False, Info: {'lives': 4, 'episode_frame_number': 124, 'frame_number': 1256}\n",
      "Reward: 0.0, Done: False, Info: {'lives': 4, 'episode_frame_number': 127, 'frame_number': 1259}\n",
      "Reward: 0.0, Done: False, Info: {'lives': 4, 'episode_frame_number': 129, 'frame_number': 1261}\n",
      "Reward: 0.0, Done: False, Info: {'lives': 4, 'episode_frame_number': 131, 'frame_number': 1263}\n",
      "Reward: 0.0, Done: False, Info: {'lives': 4, 'episode_frame_number': 135, 'frame_number': 1267}\n",
      "Reward: 0.0, Done: False, Info: {'lives': 4, 'episode_frame_number': 137, 'frame_number': 1269}\n",
      "Reward: 0.0, Done: False, Info: {'lives': 4, 'episode_frame_number': 139, 'frame_number': 1271}\n",
      "Reward: 0.0, Done: False, Info: {'lives': 4, 'episode_frame_number': 143, 'frame_number': 1275}\n",
      "Reward: 0.0, Done: False, Info: {'lives': 4, 'episode_frame_number': 146, 'frame_number': 1278}\n",
      "Reward: 0.0, Done: False, Info: {'lives': 4, 'episode_frame_number': 149, 'frame_number': 1281}\n",
      "Reward: 0.0, Done: False, Info: {'lives': 4, 'episode_frame_number': 152, 'frame_number': 1284}\n",
      "Reward: 0.0, Done: False, Info: {'lives': 4, 'episode_frame_number': 154, 'frame_number': 1286}\n",
      "Reward: 0.0, Done: False, Info: {'lives': 4, 'episode_frame_number': 157, 'frame_number': 1289}\n",
      "Reward: 0.0, Done: False, Info: {'lives': 4, 'episode_frame_number': 160, 'frame_number': 1292}\n",
      "Reward: 0.0, Done: False, Info: {'lives': 4, 'episode_frame_number': 163, 'frame_number': 1295}\n",
      "Reward: 0.0, Done: False, Info: {'lives': 4, 'episode_frame_number': 167, 'frame_number': 1299}\n",
      "Reward: 0.0, Done: False, Info: {'lives': 4, 'episode_frame_number': 169, 'frame_number': 1301}\n",
      "Reward: 0.0, Done: False, Info: {'lives': 4, 'episode_frame_number': 173, 'frame_number': 1305}\n",
      "Reward: 0.0, Done: False, Info: {'lives': 4, 'episode_frame_number': 176, 'frame_number': 1308}\n",
      "Reward: 0.0, Done: False, Info: {'lives': 4, 'episode_frame_number': 180, 'frame_number': 1312}\n",
      "Reward: 0.0, Done: False, Info: {'lives': 4, 'episode_frame_number': 182, 'frame_number': 1314}\n",
      "Reward: 0.0, Done: False, Info: {'lives': 4, 'episode_frame_number': 186, 'frame_number': 1318}\n",
      "Reward: 0.0, Done: False, Info: {'lives': 4, 'episode_frame_number': 190, 'frame_number': 1322}\n",
      "Reward: 0.0, Done: False, Info: {'lives': 4, 'episode_frame_number': 192, 'frame_number': 1324}\n",
      "Reward: 0.0, Done: False, Info: {'lives': 4, 'episode_frame_number': 195, 'frame_number': 1327}\n",
      "Reward: 0.0, Done: False, Info: {'lives': 4, 'episode_frame_number': 197, 'frame_number': 1329}\n",
      "Reward: 0.0, Done: False, Info: {'lives': 3, 'episode_frame_number': 200, 'frame_number': 1332}\n",
      "Reward: 0.0, Done: False, Info: {'lives': 3, 'episode_frame_number': 204, 'frame_number': 1336}\n",
      "Reward: 0.0, Done: False, Info: {'lives': 3, 'episode_frame_number': 207, 'frame_number': 1339}\n",
      "Reward: 0.0, Done: False, Info: {'lives': 3, 'episode_frame_number': 211, 'frame_number': 1343}\n",
      "Reward: 0.0, Done: False, Info: {'lives': 3, 'episode_frame_number': 213, 'frame_number': 1345}\n",
      "Reward: 0.0, Done: False, Info: {'lives': 3, 'episode_frame_number': 215, 'frame_number': 1347}\n",
      "Reward: 0.0, Done: False, Info: {'lives': 3, 'episode_frame_number': 219, 'frame_number': 1351}\n",
      "Reward: 0.0, Done: False, Info: {'lives': 3, 'episode_frame_number': 223, 'frame_number': 1355}\n",
      "Reward: 0.0, Done: False, Info: {'lives': 3, 'episode_frame_number': 227, 'frame_number': 1359}\n",
      "Reward: 0.0, Done: False, Info: {'lives': 3, 'episode_frame_number': 229, 'frame_number': 1361}\n",
      "Reward: 0.0, Done: False, Info: {'lives': 3, 'episode_frame_number': 231, 'frame_number': 1363}\n",
      "Reward: 0.0, Done: False, Info: {'lives': 3, 'episode_frame_number': 235, 'frame_number': 1367}\n",
      "Reward: 0.0, Done: False, Info: {'lives': 3, 'episode_frame_number': 237, 'frame_number': 1369}\n",
      "Reward: 0.0, Done: False, Info: {'lives': 3, 'episode_frame_number': 241, 'frame_number': 1373}\n",
      "Reward: 0.0, Done: False, Info: {'lives': 3, 'episode_frame_number': 244, 'frame_number': 1376}\n",
      "Reward: 0.0, Done: False, Info: {'lives': 3, 'episode_frame_number': 246, 'frame_number': 1378}\n",
      "Reward: 0.0, Done: False, Info: {'lives': 3, 'episode_frame_number': 249, 'frame_number': 1381}\n",
      "Reward: 0.0, Done: False, Info: {'lives': 3, 'episode_frame_number': 252, 'frame_number': 1384}\n",
      "Reward: 0.0, Done: False, Info: {'lives': 3, 'episode_frame_number': 254, 'frame_number': 1386}\n",
      "Reward: 0.0, Done: False, Info: {'lives': 3, 'episode_frame_number': 257, 'frame_number': 1389}\n",
      "Reward: 0.0, Done: False, Info: {'lives': 3, 'episode_frame_number': 260, 'frame_number': 1392}\n",
      "Reward: 0.0, Done: False, Info: {'lives': 3, 'episode_frame_number': 263, 'frame_number': 1395}\n",
      "Reward: 0.0, Done: False, Info: {'lives': 3, 'episode_frame_number': 267, 'frame_number': 1399}\n",
      "Reward: 0.0, Done: False, Info: {'lives': 3, 'episode_frame_number': 271, 'frame_number': 1403}\n",
      "Reward: 0.0, Done: False, Info: {'lives': 3, 'episode_frame_number': 273, 'frame_number': 1405}\n",
      "Reward: 0.0, Done: False, Info: {'lives': 3, 'episode_frame_number': 276, 'frame_number': 1408}\n",
      "Reward: 0.0, Done: False, Info: {'lives': 3, 'episode_frame_number': 278, 'frame_number': 1410}\n",
      "Reward: 0.0, Done: False, Info: {'lives': 3, 'episode_frame_number': 282, 'frame_number': 1414}\n",
      "Reward: 0.0, Done: False, Info: {'lives': 3, 'episode_frame_number': 286, 'frame_number': 1418}\n",
      "Reward: 0.0, Done: False, Info: {'lives': 3, 'episode_frame_number': 288, 'frame_number': 1420}\n",
      "Reward: 0.0, Done: False, Info: {'lives': 3, 'episode_frame_number': 291, 'frame_number': 1423}\n",
      "Reward: 0.0, Done: False, Info: {'lives': 3, 'episode_frame_number': 293, 'frame_number': 1425}\n",
      "Reward: 0.0, Done: False, Info: {'lives': 2, 'episode_frame_number': 296, 'frame_number': 1428}\n",
      "Reward: 0.0, Done: False, Info: {'lives': 2, 'episode_frame_number': 300, 'frame_number': 1432}\n",
      "Reward: 0.0, Done: False, Info: {'lives': 2, 'episode_frame_number': 303, 'frame_number': 1435}\n",
      "Reward: 0.0, Done: False, Info: {'lives': 2, 'episode_frame_number': 305, 'frame_number': 1437}\n",
      "Reward: 0.0, Done: False, Info: {'lives': 2, 'episode_frame_number': 307, 'frame_number': 1439}\n",
      "Reward: 0.0, Done: False, Info: {'lives': 2, 'episode_frame_number': 309, 'frame_number': 1441}\n",
      "Reward: 0.0, Done: False, Info: {'lives': 2, 'episode_frame_number': 311, 'frame_number': 1443}\n",
      "Reward: 0.0, Done: False, Info: {'lives': 2, 'episode_frame_number': 315, 'frame_number': 1447}\n",
      "Reward: 0.0, Done: False, Info: {'lives': 2, 'episode_frame_number': 318, 'frame_number': 1450}\n",
      "Reward: 0.0, Done: False, Info: {'lives': 2, 'episode_frame_number': 321, 'frame_number': 1453}\n",
      "Reward: 0.0, Done: False, Info: {'lives': 2, 'episode_frame_number': 325, 'frame_number': 1457}\n",
      "Reward: 0.0, Done: False, Info: {'lives': 2, 'episode_frame_number': 329, 'frame_number': 1461}\n",
      "Reward: 0.0, Done: False, Info: {'lives': 2, 'episode_frame_number': 331, 'frame_number': 1463}\n",
      "Reward: 0.0, Done: False, Info: {'lives': 2, 'episode_frame_number': 335, 'frame_number': 1467}\n",
      "Reward: 0.0, Done: False, Info: {'lives': 2, 'episode_frame_number': 338, 'frame_number': 1470}\n",
      "Reward: 0.0, Done: False, Info: {'lives': 2, 'episode_frame_number': 342, 'frame_number': 1474}\n",
      "Reward: 0.0, Done: False, Info: {'lives': 2, 'episode_frame_number': 345, 'frame_number': 1477}\n",
      "Reward: 0.0, Done: False, Info: {'lives': 2, 'episode_frame_number': 347, 'frame_number': 1479}\n",
      "Reward: 0.0, Done: False, Info: {'lives': 2, 'episode_frame_number': 349, 'frame_number': 1481}\n",
      "Reward: 0.0, Done: False, Info: {'lives': 2, 'episode_frame_number': 351, 'frame_number': 1483}\n",
      "Reward: 0.0, Done: False, Info: {'lives': 2, 'episode_frame_number': 354, 'frame_number': 1486}\n",
      "Reward: 0.0, Done: False, Info: {'lives': 2, 'episode_frame_number': 358, 'frame_number': 1490}\n",
      "Reward: 0.0, Done: False, Info: {'lives': 2, 'episode_frame_number': 362, 'frame_number': 1494}\n",
      "Reward: 0.0, Done: False, Info: {'lives': 2, 'episode_frame_number': 364, 'frame_number': 1496}\n",
      "Reward: 0.0, Done: False, Info: {'lives': 2, 'episode_frame_number': 368, 'frame_number': 1500}\n",
      "Reward: 0.0, Done: False, Info: {'lives': 2, 'episode_frame_number': 371, 'frame_number': 1503}\n",
      "Reward: 0.0, Done: False, Info: {'lives': 2, 'episode_frame_number': 374, 'frame_number': 1506}\n",
      "Reward: 0.0, Done: False, Info: {'lives': 2, 'episode_frame_number': 376, 'frame_number': 1508}\n",
      "Reward: 0.0, Done: False, Info: {'lives': 2, 'episode_frame_number': 380, 'frame_number': 1512}\n",
      "Reward: 0.0, Done: False, Info: {'lives': 2, 'episode_frame_number': 383, 'frame_number': 1515}\n",
      "Reward: 0.0, Done: False, Info: {'lives': 2, 'episode_frame_number': 387, 'frame_number': 1519}\n",
      "Reward: 0.0, Done: False, Info: {'lives': 2, 'episode_frame_number': 389, 'frame_number': 1521}\n",
      "Reward: 0.0, Done: False, Info: {'lives': 2, 'episode_frame_number': 392, 'frame_number': 1524}\n",
      "Reward: 0.0, Done: False, Info: {'lives': 1, 'episode_frame_number': 394, 'frame_number': 1526}\n",
      "Reward: 0.0, Done: False, Info: {'lives': 1, 'episode_frame_number': 398, 'frame_number': 1530}\n",
      "Reward: 0.0, Done: False, Info: {'lives': 1, 'episode_frame_number': 400, 'frame_number': 1532}\n",
      "Reward: 0.0, Done: False, Info: {'lives': 1, 'episode_frame_number': 402, 'frame_number': 1534}\n",
      "Reward: 0.0, Done: False, Info: {'lives': 1, 'episode_frame_number': 405, 'frame_number': 1537}\n",
      "Reward: 0.0, Done: False, Info: {'lives': 1, 'episode_frame_number': 409, 'frame_number': 1541}\n",
      "Reward: 0.0, Done: False, Info: {'lives': 1, 'episode_frame_number': 411, 'frame_number': 1543}\n",
      "Reward: 0.0, Done: False, Info: {'lives': 1, 'episode_frame_number': 415, 'frame_number': 1547}\n",
      "Reward: 0.0, Done: False, Info: {'lives': 1, 'episode_frame_number': 418, 'frame_number': 1550}\n",
      "Reward: 0.0, Done: False, Info: {'lives': 1, 'episode_frame_number': 421, 'frame_number': 1553}\n",
      "Reward: 0.0, Done: False, Info: {'lives': 1, 'episode_frame_number': 424, 'frame_number': 1556}\n",
      "Reward: 0.0, Done: False, Info: {'lives': 1, 'episode_frame_number': 426, 'frame_number': 1558}\n",
      "Reward: 0.0, Done: False, Info: {'lives': 1, 'episode_frame_number': 429, 'frame_number': 1561}\n",
      "Reward: 0.0, Done: False, Info: {'lives': 1, 'episode_frame_number': 431, 'frame_number': 1563}\n",
      "Reward: 0.0, Done: False, Info: {'lives': 1, 'episode_frame_number': 435, 'frame_number': 1567}\n",
      "Reward: 0.0, Done: False, Info: {'lives': 1, 'episode_frame_number': 437, 'frame_number': 1569}\n",
      "Reward: 0.0, Done: False, Info: {'lives': 1, 'episode_frame_number': 439, 'frame_number': 1571}\n",
      "Reward: 0.0, Done: False, Info: {'lives': 1, 'episode_frame_number': 442, 'frame_number': 1574}\n",
      "Reward: 0.0, Done: False, Info: {'lives': 1, 'episode_frame_number': 446, 'frame_number': 1578}\n",
      "Reward: 0.0, Done: False, Info: {'lives': 1, 'episode_frame_number': 448, 'frame_number': 1580}\n",
      "Reward: 0.0, Done: False, Info: {'lives': 1, 'episode_frame_number': 452, 'frame_number': 1584}\n",
      "Reward: 0.0, Done: False, Info: {'lives': 1, 'episode_frame_number': 455, 'frame_number': 1587}\n",
      "Reward: 0.0, Done: False, Info: {'lives': 1, 'episode_frame_number': 457, 'frame_number': 1589}\n",
      "Reward: 0.0, Done: False, Info: {'lives': 1, 'episode_frame_number': 460, 'frame_number': 1592}\n",
      "Reward: 0.0, Done: False, Info: {'lives': 1, 'episode_frame_number': 463, 'frame_number': 1595}\n",
      "Reward: 0.0, Done: False, Info: {'lives': 1, 'episode_frame_number': 465, 'frame_number': 1597}\n",
      "Reward: 0.0, Done: False, Info: {'lives': 1, 'episode_frame_number': 467, 'frame_number': 1599}\n",
      "Reward: 0.0, Done: False, Info: {'lives': 1, 'episode_frame_number': 471, 'frame_number': 1603}\n",
      "Reward: 0.0, Done: False, Info: {'lives': 1, 'episode_frame_number': 475, 'frame_number': 1607}\n",
      "Reward: 0.0, Done: False, Info: {'lives': 1, 'episode_frame_number': 478, 'frame_number': 1610}\n",
      "Reward: 0.0, Done: False, Info: {'lives': 1, 'episode_frame_number': 480, 'frame_number': 1612}\n",
      "Reward: 0.0, Done: False, Info: {'lives': 1, 'episode_frame_number': 483, 'frame_number': 1615}\n",
      "Reward: 0.0, Done: False, Info: {'lives': 1, 'episode_frame_number': 487, 'frame_number': 1619}\n",
      "Reward: 0.0, Done: False, Info: {'lives': 0, 'episode_frame_number': 490, 'frame_number': 1622}\n",
      "Reward: 0.0, Done: True, Info: {'lives': 0, 'episode_frame_number': 490, 'frame_number': 1622}\n"
     ]
    }
   ],
   "source": [
    "for _ in range(1000):\n",
    "    env.render_mode=\"human\"  # display the current state\n",
    "    random_action = env.action_space.sample()  # get the random action\n",
    "    observation, reward, done, info = env.step(random_action) # perform the action the current state of the environment\n",
    "    print(f\"Reward: {reward}, Done: {done}, Info: {info}\")\n",
    "    if done:  # with the done variable we can leave the loop if gym notifies us that the game is over\n",
    "        break\n",
    "    time.sleep(0.01)  # slow down the game a bit\n",
    "env.close()  # dont forget to close the environment"
   ]
  },
  {
   "cell_type": "markdown",
   "id": "loving-carnival",
   "metadata": {},
   "source": [
    "As you might have noticed, there are always two versions of an environment:\n",
    "\n",
    "1. RAM Version\n",
    "2. Normal Version / Image based version\n",
    "\n",
    "Those version differ in the observation which gym returns to you. <br />\n",
    "The Ram Version only returns some properties (like the coordinates of the ball), while the normal version returns images (i.e exact the image that render() shows us).\n",
    "\n"
   ]
  },
  {
   "cell_type": "code",
   "execution_count": 24,
   "id": "passing-houston",
   "metadata": {},
   "outputs": [],
   "source": [
    "env_name_ram = \"Breakout-ram-v0\"  # use the RAM version\n",
    "env_ram = gym.make(env_name_ram)  # create the RAM version of the environment"
   ]
  },
  {
   "cell_type": "code",
   "execution_count": 25,
   "id": "closing-gardening",
   "metadata": {},
   "outputs": [],
   "source": [
    "env_ram.render_mode=\"human*\""
   ]
  },
  {
   "cell_type": "code",
   "execution_count": 26,
   "id": "judicial-population",
   "metadata": {},
   "outputs": [],
   "source": [
    "env_ram.close()"
   ]
  },
  {
   "cell_type": "code",
   "execution_count": 27,
   "id": "acknowledged-accordance",
   "metadata": {},
   "outputs": [
    {
     "data": {
      "text/plain": [
       "(128,)"
      ]
     },
     "execution_count": 27,
     "metadata": {},
     "output_type": "execute_result"
    }
   ],
   "source": [
    "env_ram.reset().shape # you can use the reset function to inspect the initial state of your environment.\n",
    "                      # There are only 128 values instead of the whole image "
   ]
  },
  {
   "cell_type": "code",
   "execution_count": 28,
   "id": "municipal-electric",
   "metadata": {},
   "outputs": [
    {
     "data": {
      "text/plain": [
       "(210, 160, 3)"
      ]
     },
     "execution_count": 28,
     "metadata": {},
     "output_type": "execute_result"
    }
   ],
   "source": [
    "env.reset().shape  # Our original environment returns an image as observation"
   ]
  }
 ],
 "metadata": {
  "kernelspec": {
   "display_name": "Python 3 (ipykernel)",
   "language": "python",
   "name": "python3"
  },
  "language_info": {
   "codemirror_mode": {
    "name": "ipython",
    "version": 3
   },
   "file_extension": ".py",
   "mimetype": "text/x-python",
   "name": "python",
   "nbconvert_exporter": "python",
   "pygments_lexer": "ipython3",
   "version": "3.9.13"
  }
 },
 "nbformat": 4,
 "nbformat_minor": 5
}
