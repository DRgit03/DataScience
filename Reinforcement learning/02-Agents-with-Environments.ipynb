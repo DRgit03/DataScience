{
 "cells": [
  {
   "cell_type": "markdown",
   "id": "frank-pride",
   "metadata": {},
   "source": [
    "# Agents with Environments\n"
   ]
  },
  {
   "cell_type": "markdown",
   "id": "previous-healthcare",
   "metadata": {},
   "source": [
    "In this notebook we will create our first agent which interacts with the environment based on the observations and not just in a random manner.<br />\n",
    "In fact we will try to create an agent for the Mountain car environment https://gym.openai.com/envs/MountainCar-v0/, where the goal is to reach the top of the mountain (and stop there), but the engine is not strong enough to reach it in a single pass.<br />\n",
    "Thus we need to find a strategy how to drive back and forth within the valley to gain momentum to be finally able to reach the top\n",
    "\n",
    "We start by importing the necessary libraries.\n"
   ]
  },
  {
   "cell_type": "code",
   "execution_count": 2,
   "id": "clinical-delivery",
   "metadata": {},
   "outputs": [],
   "source": [
    "import time  # to slow down the game a little bit\n",
    "import gym"
   ]
  },
  {
   "cell_type": "markdown",
   "id": "extraordinary-accounting",
   "metadata": {},
   "source": [
    "We again create the environment in the same way as shown in the previous notebook"
   ]
  },
  {
   "cell_type": "code",
   "execution_count": 3,
   "id": "applicable-title",
   "metadata": {},
   "outputs": [],
   "source": [
    "env_name = \"MountainCar-v0\"  # Use the exact same name as stated on gym.openai\n",
    "env = gym.make(env_name)  # use gym.make to create your environment"
   ]
  },
  {
   "cell_type": "markdown",
   "id": "african-mystery",
   "metadata": {},
   "source": [
    "In order to be able to create such an agent we first need to understand what information we get from the environment and what actions are possible.\n",
    "You can get this information by checking the first few lines of the corresponding source code:https://github.com/openai/gym/blob/master/gym/envs/classic_control/mountain_car.py\n",
    "\n",
    " 1. observation: The observation is a list containing the two entries:\n",
    "     1. position (x-coordinate of the car)\n",
    "     2. velocity (speed of the car, either forward or backward (positive or negative)\n",
    " 2. actions: The following actions are possible within this environment\n",
    "     1. Accelerate to the left (or in other words use the reverse gear) (0)\n",
    "     2. Neutral, dont do anything (1)\n",
    "     3. Accelerate to the right (dive forwards) (2)\n",
    "    \n",
    "We can simply render the environment for a few iterations and take a look at the observation. <br />\n",
    "Note how the velocity turns negative when the car engine runs out of power and starts moving backwards"
   ]
  },
  {
   "cell_type": "code",
   "execution_count": 4,
   "id": "burning-deployment",
   "metadata": {
    "scrolled": true
   },
   "outputs": [
    {
     "name": "stdout",
     "output_type": "stream",
     "text": [
      "Position:-0.5241595506668091, Velocity: 0.001011794083751738\n",
      "Position:-0.522143542766571, Velocity: 0.0020159997511655092\n",
      "Position:-0.5191384553909302, Velocity: 0.00300508551299572\n",
      "Position:-0.5151668190956116, Velocity: 0.003971633967012167\n",
      "Position:-0.5102584362030029, Velocity: 0.004908401053398848\n",
      "Position:-0.5044500231742859, Velocity: 0.005808374844491482\n",
      "Position:-0.49778521060943604, Velocity: 0.0066648381762206554\n",
      "Position:-0.4903137683868408, Velocity: 0.007471430115401745\n",
      "Position:-0.4820915460586548, Velocity: 0.008222207427024841\n",
      "Position:-0.4731798470020294, Velocity: 0.008911706507205963\n",
      "Position:-0.4636448621749878, Velocity: 0.009535005316138268\n",
      "Position:-0.4535570740699768, Velocity: 0.010087771341204643\n",
      "Position:-0.4429907500743866, Velocity: 0.010566315613687038\n",
      "Position:-0.43202313780784607, Velocity: 0.01096763089299202\n",
      "Position:-0.4207337200641632, Velocity: 0.011289420537650585\n",
      "Position:-0.40920358896255493, Velocity: 0.011530118994414806\n",
      "Position:-0.3975147008895874, Velocity: 0.011688897386193275\n",
      "Position:-0.38574904203414917, Velocity: 0.011765655130147934\n",
      "Position:-0.3739880323410034, Velocity: 0.011761000379920006\n",
      "Position:-0.36231181025505066, Velocity: 0.011676216498017311\n",
      "Position:-0.3507986068725586, Velocity: 0.011513215489685535\n",
      "Position:-0.33952412009239197, Velocity: 0.011274486780166626\n",
      "Position:-0.32856109738349915, Velocity: 0.010963032022118568\n",
      "Position:-0.31797879934310913, Velocity: 0.010582298040390015\n",
      "Position:-0.3078426718711853, Velocity: 0.010136106982827187\n",
      "Position:-0.2982141077518463, Velocity: 0.009628582745790482\n",
      "Position:-0.2891499996185303, Velocity: 0.009064088575541973\n",
      "Position:-0.2807028591632843, Velocity: 0.008447154425084591\n",
      "Position:-0.2729204297065735, Velocity: 0.007782426662743092\n",
      "Position:-0.26584580540657043, Velocity: 0.00707461079582572\n",
      "Position:-0.2595173716545105, Velocity: 0.006328432820737362\n",
      "Position:-0.2539687752723694, Velocity: 0.005548605229705572\n",
      "Position:-0.24922898411750793, Velocity: 0.004739801865071058\n",
      "Position:-0.2453223317861557, Velocity: 0.003906643018126488\n",
      "Position:-0.2422686517238617, Velocity: 0.0030536879785358906\n",
      "Position:-0.2400832176208496, Velocity: 0.0021854364313185215\n",
      "Position:-0.23877687752246857, Velocity: 0.001306333695538342\n",
      "Position:-0.2383560985326767, Velocity: 0.00042078320984728634\n",
      "Position:-0.23882293701171875, Velocity: -0.00046683798427693546\n",
      "Position:-0.24017509818077087, Velocity: -0.0013521616347134113\n",
      "Position:-0.24240590631961823, Velocity: -0.0022308097686618567\n",
      "Position:-0.24550427496433258, Velocity: -0.003098377026617527\n",
      "Position:-0.24945469200611115, Velocity: -0.0039504156447947025\n",
      "Position:-0.2542371153831482, Velocity: -0.004782422911375761\n",
      "Position:-0.2598269581794739, Velocity: -0.005589836742728949\n",
      "Position:-0.26619499921798706, Velocity: -0.006368033122271299\n",
      "Position:-0.27330732345581055, Velocity: -0.007112335879355669\n",
      "Position:-0.28112536668777466, Velocity: -0.007818031124770641\n",
      "Position:-0.2896057367324829, Velocity: -0.008480394259095192\n",
      "Position:-0.2987004816532135, Velocity: -0.009094719775021076\n"
     ]
    }
   ],
   "source": [
    "env.seed(42)  # to make sure that we all have the same initial state\n",
    "observation = env.reset()  # reset all internal values\n",
    "for _ in range(50):\n",
    "    env.render()  # display the current state\n",
    "    action = 2  # lets only accelerate forward\n",
    "    observation, reward, done, info = env.step(action) # perform the random action on the current state of the environment\n",
    "    print(f\"Position:{observation[0]}, Velocity: {observation[1]}\")  # Take a look at the observations\n",
    "    time.sleep(0.1)  # slow down the game a bit\n",
    "env.close()  # dont forget to close the environment"
   ]
  },
  {
   "cell_type": "markdown",
   "id": "sized-dayton",
   "metadata": {},
   "source": [
    "Now the first task n this notebook is to fill in the following *chose_action* function, which gets the observation as an argument and returns a suitable action such that the car is able to reach the top of the mountain. \n",
    "\n",
    "The defined if, elif construct may act as a starting point but is not able to reach the top of the mountain.<br />\n",
    "Try if you can change/expand it in such a way that you can reach the top"
   ]
  },
  {
   "cell_type": "code",
   "execution_count": 5,
   "id": "emotional-quarter",
   "metadata": {},
   "outputs": [],
   "source": [
    "def chose_action(observation):\n",
    "    position, velocity = observation\n",
    "    \n",
    "    if -0.1 < position < 0.1:  # if you current position falls in this intervall chose action 2 (drive forward)\n",
    "        action = 2\n",
    "    \n",
    "    elif velocity < 0 and position < -0.2:  # if your velocity is negative and your position is smaller than -0.2 chose action 0 (drive backwards)\n",
    "        action = 0\n",
    "        \n",
    "    else:  # else do nothing\n",
    "        action = 1\n",
    "    return action"
   ]
  },
  {
   "cell_type": "code",
   "execution_count": 6,
   "id": "stretch-costs",
   "metadata": {},
   "outputs": [],
   "source": [
    "env.seed(42)\n",
    "observation = env.reset()\n",
    "for _ in range(500):\n",
    "    env.render()\n",
    "    action = chose_action(observation)\n",
    "    observation, reward, done, info = env.step(action) \n",
    "    time.sleep(0.001)\n",
    "env.close()"
   ]
  },
  {
   "cell_type": "markdown",
   "id": "therapeutic-moses",
   "metadata": {},
   "source": [
    "**Here is one possible solution**\n",
    "\n",
    "This function acts as your first agent in your Reinforcement Learning journey"
   ]
  },
  {
   "cell_type": "code",
   "execution_count": 7,
   "id": "disabled-guess",
   "metadata": {},
   "outputs": [],
   "source": [
    "def chose_action_solution(observation):\n",
    "    position, velocity = observation\n",
    "    \n",
    "    if -0.1 < position < 0.4:\n",
    "        action = 2\n",
    "    \n",
    "    elif velocity < 0 and position < -0.2:\n",
    "        action = 0\n",
    "        \n",
    "    else:\n",
    "        action = 1\n",
    "    return action"
   ]
  },
  {
   "cell_type": "code",
   "execution_count": 8,
   "id": "serial-culture",
   "metadata": {},
   "outputs": [
    {
     "name": "stdout",
     "output_type": "stream",
     "text": [
      "You got -1.0 points!\n"
     ]
    }
   ],
   "source": [
    "env.seed(42)\n",
    "observation = env.reset()\n",
    "for _ in range(500):\n",
    "    env.render()\n",
    "    action = chose_action_solution(observation)\n",
    "    observation, reward, done, info = env.step(action)\n",
    "    if done:\n",
    "        print(f\"You got {reward} points!\")\n",
    "        break\n",
    "    time.sleep(0.001)\n",
    "env.close()"
   ]
  },
  {
   "cell_type": "markdown",
   "id": "literary-magnet",
   "metadata": {},
   "source": [
    "Now the next task will be to figure out if you can top the car at the flag (and not overshoot).\n",
    "Try if you can find such an *chose_action* function.\n",
    "\n",
    "Ps: Dont try too hard, it might be harder than you think"
   ]
  },
  {
   "cell_type": "code",
   "execution_count": 9,
   "id": "actual-davis",
   "metadata": {},
   "outputs": [],
   "source": [
    "def chose_action2(observation):\n",
    "    position, velocity = observation\n",
    "    \n",
    "    action = 0\n",
    "    return action"
   ]
  },
  {
   "cell_type": "code",
   "execution_count": 10,
   "id": "norwegian-links",
   "metadata": {},
   "outputs": [],
   "source": [
    "env.seed(42)\n",
    "observation = env.reset()\n",
    "for _ in range(1000):\n",
    "    env.render()\n",
    "    action = chose_action2(observation)\n",
    "    observation, reward, done, info = env.step(action) \n",
    "    time.sleep(0.001)\n",
    "env.close()"
   ]
  },
  {
   "cell_type": "markdown",
   "id": "dedicated-alliance",
   "metadata": {},
   "source": [
    "**Here you can find our approach.<br />\n",
    "Do you see how odd the numbers look and how many elifs are needed to be able to (more or less) fulfill the task?** \n",
    "\n",
    "Now imagine that your possible observation and action spaces would contain hundreds of observations/actions and not only two or three.<br />\n",
    "This task would be daunting.\n",
    "And the worst part is: If you switch tne value in the env.seed() function, your solution might not work at all"
   ]
  },
  {
   "cell_type": "code",
   "execution_count": 11,
   "id": "complimentary-mileage",
   "metadata": {},
   "outputs": [],
   "source": [
    "def chose_action2_solution(observation,):\n",
    "    position, velocity = observation\n",
    "    \n",
    "    \n",
    "    if 0.0 < position < 0.4:\n",
    "        action = 1\n",
    "    elif (position >= 5.03341452e-01 and velocity <= 4.07475660e-04) and \\\n",
    "    (position <= 5.10780594e-01 and velocity >= -2.51391396e-04):\n",
    "        action = 2\n",
    "    elif 5.420594e-01 < position:\n",
    "        action = 0\n",
    "    elif  0.5 < position < 0.505:\n",
    "        action = 2\n",
    "    elif position >= 0.4 and position < 0.41:\n",
    "        action=2\n",
    "    elif 0.49 < position < 0.496:\n",
    "        action = 0\n",
    "    elif position < 0.00938 and velocity > -0.0000001 and not velocity > 0.0472:\n",
    "        action = 2\n",
    "    elif position > -0.5 and velocity > 0.4:\n",
    "        action = 1\n",
    "    else:\n",
    "        action = 1\n",
    "    return action"
   ]
  },
  {
   "cell_type": "code",
   "execution_count": 12,
   "id": "statewide-brunei",
   "metadata": {
    "scrolled": true
   },
   "outputs": [],
   "source": [
    "env.seed(42)\n",
    "observation = env.reset()\n",
    "for _ in range(1000):\n",
    "    env.render()\n",
    "    action = chose_action2_solution(observation)\n",
    "    observation, reward, done, info = env.step(action) \n",
    "    time.sleep(0.001)\n",
    "env.close()"
   ]
  }
 ],
 "metadata": {
  "kernelspec": {
   "display_name": "Python 3 (ipykernel)",
   "language": "python",
   "name": "python3"
  },
  "language_info": {
   "codemirror_mode": {
    "name": "ipython",
    "version": 3
   },
   "file_extension": ".py",
   "mimetype": "text/x-python",
   "name": "python",
   "nbconvert_exporter": "python",
   "pygments_lexer": "ipython3",
   "version": "3.9.13"
  }
 },
 "nbformat": 4,
 "nbformat_minor": 5
}
