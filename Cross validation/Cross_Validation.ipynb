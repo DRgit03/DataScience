{
  "cells": [
    {
      "cell_type": "markdown",
      "metadata": {
        "id": "rGJocU_DkIm1"
      },
      "source": [
        "# Introduction to Cross Validation\n",
        "\n",
        "https://scikit-learn.org/stable/modules/cross_validation.html"
      ]
    },
    {
      "cell_type": "markdown",
      "metadata": {
        "id": "BQZ1DHYQkIm2"
      },
      "source": [
        "## Imports"
      ]
    },
    {
      "cell_type": "code",
      "execution_count": 4,
      "metadata": {
        "id": "LBCRaH1skIm2"
      },
      "outputs": [],
      "source": [
        "import numpy as np\n",
        "import pandas as pd\n",
        "import matplotlib.pyplot as plt\n",
        "import seaborn as sns"
      ]
    },
    {
      "cell_type": "markdown",
      "metadata": {
        "id": "sLqpURrBkIm3"
      },
      "source": [
        "## Data Example"
      ]
    },
    {
      "cell_type": "code",
      "execution_count": 5,
      "metadata": {
        "id": "mVV-kHZhkIm4"
      },
      "outputs": [],
      "source": [
        "df = pd.read_csv(\"Advertising.csv\")"
      ]
    },
    {
      "cell_type": "code",
      "execution_count": 6,
      "metadata": {
        "colab": {
          "base_uri": "https://localhost:8080/",
          "height": 206
        },
        "id": "UTT-Svw_kIm4",
        "outputId": "4b08cb04-cf96-459f-97b2-f6da29ad6234"
      },
      "outputs": [
        {
          "output_type": "execute_result",
          "data": {
            "text/plain": [
              "      TV  radio  newspaper  sales\n",
              "0  230.1   37.8       69.2   22.1\n",
              "1   44.5   39.3       45.1   10.4\n",
              "2   17.2   45.9       69.3    9.3\n",
              "3  151.5   41.3       58.5   18.5\n",
              "4  180.8   10.8       58.4   12.9"
            ],
            "text/html": [
              "\n",
              "  <div id=\"df-75218651-fbc0-422a-8f8b-085ef7747c0b\">\n",
              "    <div class=\"colab-df-container\">\n",
              "      <div>\n",
              "<style scoped>\n",
              "    .dataframe tbody tr th:only-of-type {\n",
              "        vertical-align: middle;\n",
              "    }\n",
              "\n",
              "    .dataframe tbody tr th {\n",
              "        vertical-align: top;\n",
              "    }\n",
              "\n",
              "    .dataframe thead th {\n",
              "        text-align: right;\n",
              "    }\n",
              "</style>\n",
              "<table border=\"1\" class=\"dataframe\">\n",
              "  <thead>\n",
              "    <tr style=\"text-align: right;\">\n",
              "      <th></th>\n",
              "      <th>TV</th>\n",
              "      <th>radio</th>\n",
              "      <th>newspaper</th>\n",
              "      <th>sales</th>\n",
              "    </tr>\n",
              "  </thead>\n",
              "  <tbody>\n",
              "    <tr>\n",
              "      <th>0</th>\n",
              "      <td>230.1</td>\n",
              "      <td>37.8</td>\n",
              "      <td>69.2</td>\n",
              "      <td>22.1</td>\n",
              "    </tr>\n",
              "    <tr>\n",
              "      <th>1</th>\n",
              "      <td>44.5</td>\n",
              "      <td>39.3</td>\n",
              "      <td>45.1</td>\n",
              "      <td>10.4</td>\n",
              "    </tr>\n",
              "    <tr>\n",
              "      <th>2</th>\n",
              "      <td>17.2</td>\n",
              "      <td>45.9</td>\n",
              "      <td>69.3</td>\n",
              "      <td>9.3</td>\n",
              "    </tr>\n",
              "    <tr>\n",
              "      <th>3</th>\n",
              "      <td>151.5</td>\n",
              "      <td>41.3</td>\n",
              "      <td>58.5</td>\n",
              "      <td>18.5</td>\n",
              "    </tr>\n",
              "    <tr>\n",
              "      <th>4</th>\n",
              "      <td>180.8</td>\n",
              "      <td>10.8</td>\n",
              "      <td>58.4</td>\n",
              "      <td>12.9</td>\n",
              "    </tr>\n",
              "  </tbody>\n",
              "</table>\n",
              "</div>\n",
              "      <button class=\"colab-df-convert\" onclick=\"convertToInteractive('df-75218651-fbc0-422a-8f8b-085ef7747c0b')\"\n",
              "              title=\"Convert this dataframe to an interactive table.\"\n",
              "              style=\"display:none;\">\n",
              "        \n",
              "  <svg xmlns=\"http://www.w3.org/2000/svg\" height=\"24px\"viewBox=\"0 0 24 24\"\n",
              "       width=\"24px\">\n",
              "    <path d=\"M0 0h24v24H0V0z\" fill=\"none\"/>\n",
              "    <path d=\"M18.56 5.44l.94 2.06.94-2.06 2.06-.94-2.06-.94-.94-2.06-.94 2.06-2.06.94zm-11 1L8.5 8.5l.94-2.06 2.06-.94-2.06-.94L8.5 2.5l-.94 2.06-2.06.94zm10 10l.94 2.06.94-2.06 2.06-.94-2.06-.94-.94-2.06-.94 2.06-2.06.94z\"/><path d=\"M17.41 7.96l-1.37-1.37c-.4-.4-.92-.59-1.43-.59-.52 0-1.04.2-1.43.59L10.3 9.45l-7.72 7.72c-.78.78-.78 2.05 0 2.83L4 21.41c.39.39.9.59 1.41.59.51 0 1.02-.2 1.41-.59l7.78-7.78 2.81-2.81c.8-.78.8-2.07 0-2.86zM5.41 20L4 18.59l7.72-7.72 1.47 1.35L5.41 20z\"/>\n",
              "  </svg>\n",
              "      </button>\n",
              "      \n",
              "  <style>\n",
              "    .colab-df-container {\n",
              "      display:flex;\n",
              "      flex-wrap:wrap;\n",
              "      gap: 12px;\n",
              "    }\n",
              "\n",
              "    .colab-df-convert {\n",
              "      background-color: #E8F0FE;\n",
              "      border: none;\n",
              "      border-radius: 50%;\n",
              "      cursor: pointer;\n",
              "      display: none;\n",
              "      fill: #1967D2;\n",
              "      height: 32px;\n",
              "      padding: 0 0 0 0;\n",
              "      width: 32px;\n",
              "    }\n",
              "\n",
              "    .colab-df-convert:hover {\n",
              "      background-color: #E2EBFA;\n",
              "      box-shadow: 0px 1px 2px rgba(60, 64, 67, 0.3), 0px 1px 3px 1px rgba(60, 64, 67, 0.15);\n",
              "      fill: #174EA6;\n",
              "    }\n",
              "\n",
              "    [theme=dark] .colab-df-convert {\n",
              "      background-color: #3B4455;\n",
              "      fill: #D2E3FC;\n",
              "    }\n",
              "\n",
              "    [theme=dark] .colab-df-convert:hover {\n",
              "      background-color: #434B5C;\n",
              "      box-shadow: 0px 1px 3px 1px rgba(0, 0, 0, 0.15);\n",
              "      filter: drop-shadow(0px 1px 2px rgba(0, 0, 0, 0.3));\n",
              "      fill: #FFFFFF;\n",
              "    }\n",
              "  </style>\n",
              "\n",
              "      <script>\n",
              "        const buttonEl =\n",
              "          document.querySelector('#df-75218651-fbc0-422a-8f8b-085ef7747c0b button.colab-df-convert');\n",
              "        buttonEl.style.display =\n",
              "          google.colab.kernel.accessAllowed ? 'block' : 'none';\n",
              "\n",
              "        async function convertToInteractive(key) {\n",
              "          const element = document.querySelector('#df-75218651-fbc0-422a-8f8b-085ef7747c0b');\n",
              "          const dataTable =\n",
              "            await google.colab.kernel.invokeFunction('convertToInteractive',\n",
              "                                                     [key], {});\n",
              "          if (!dataTable) return;\n",
              "\n",
              "          const docLinkHtml = 'Like what you see? Visit the ' +\n",
              "            '<a target=\"_blank\" href=https://colab.research.google.com/notebooks/data_table.ipynb>data table notebook</a>'\n",
              "            + ' to learn more about interactive tables.';\n",
              "          element.innerHTML = '';\n",
              "          dataTable['output_type'] = 'display_data';\n",
              "          await google.colab.output.renderOutput(dataTable, element);\n",
              "          const docLink = document.createElement('div');\n",
              "          docLink.innerHTML = docLinkHtml;\n",
              "          element.appendChild(docLink);\n",
              "        }\n",
              "      </script>\n",
              "    </div>\n",
              "  </div>\n",
              "  "
            ]
          },
          "metadata": {},
          "execution_count": 6
        }
      ],
      "source": [
        "df.head()"
      ]
    },
    {
      "cell_type": "markdown",
      "metadata": {
        "id": "yHPak3KYkIm4"
      },
      "source": [
        "----\n",
        "----\n",
        "----\n",
        "## Train | Test Split Procedure \n",
        "\n",
        "0. Clean and adjust data as necessary for X and y\n",
        "1. Split Data in Train/Test for both X and y\n",
        "2. Fit/Train Scaler on Training X Data\n",
        "3. Scale X Test Data\n",
        "4. Create Model\n",
        "5. Fit/Train Model on X Train Data\n",
        "6. Evaluate Model on X Test Data (by creating predictions and comparing to Y_test)\n",
        "7. Adjust Parameters as Necessary and repeat steps 5 and 6"
      ]
    },
    {
      "cell_type": "code",
      "execution_count": 7,
      "metadata": {
        "id": "sIVkRwc8kIm4"
      },
      "outputs": [],
      "source": [
        "## CREATE X and y\n",
        "X = df.drop('sales',axis=1)\n",
        "y = df['sales']\n",
        "\n",
        "# TRAIN TEST SPLIT\n",
        "from sklearn.model_selection import train_test_split\n",
        "X_train, X_test, y_train, y_test = train_test_split(X, y, test_size=0.3, random_state=101)\n",
        "\n",
        "# SCALE DATA\n",
        "from sklearn.preprocessing import StandardScaler\n",
        "scaler = StandardScaler()\n",
        "scaler.fit(X_train)\n",
        "X_train = scaler.transform(X_train)\n",
        "X_test = scaler.transform(X_test)"
      ]
    },
    {
      "cell_type": "markdown",
      "metadata": {
        "id": "IGpVzt5lkIm5"
      },
      "source": [
        "**Create Model**"
      ]
    },
    {
      "cell_type": "code",
      "execution_count": 8,
      "metadata": {
        "id": "EBN7OEd5kIm5"
      },
      "outputs": [],
      "source": [
        "from sklearn.linear_model import Ridge"
      ]
    },
    {
      "cell_type": "code",
      "execution_count": 9,
      "metadata": {
        "id": "MP0mCLUzkIm5"
      },
      "outputs": [],
      "source": [
        "# Poor Alpha Choice on purpose!\n",
        "model = Ridge(alpha=100)"
      ]
    },
    {
      "cell_type": "code",
      "execution_count": 10,
      "metadata": {
        "colab": {
          "base_uri": "https://localhost:8080/",
          "height": 0
        },
        "id": "8kp4i6dQkIm5",
        "outputId": "cf2dbab8-7498-4114-b217-83ef7e9d58a1"
      },
      "outputs": [
        {
          "output_type": "execute_result",
          "data": {
            "text/plain": [
              "Ridge(alpha=100)"
            ]
          },
          "metadata": {},
          "execution_count": 10
        }
      ],
      "source": [
        "model.fit(X_train,y_train)"
      ]
    },
    {
      "cell_type": "code",
      "execution_count": 11,
      "metadata": {
        "id": "GHGMXoxykIm5"
      },
      "outputs": [],
      "source": [
        "y_pred = model.predict(X_test)"
      ]
    },
    {
      "cell_type": "markdown",
      "metadata": {
        "id": "SVA3HhxekIm5"
      },
      "source": [
        "**Evaluation**"
      ]
    },
    {
      "cell_type": "code",
      "execution_count": 12,
      "metadata": {
        "id": "kB8CEqNmkIm6"
      },
      "outputs": [],
      "source": [
        "from sklearn.metrics import mean_squared_error"
      ]
    },
    {
      "cell_type": "code",
      "execution_count": 13,
      "metadata": {
        "colab": {
          "base_uri": "https://localhost:8080/",
          "height": 0
        },
        "id": "QEiCScYtkIm6",
        "outputId": "dd7d4dbe-9259-422d-a037-ea80369ef292"
      },
      "outputs": [
        {
          "output_type": "execute_result",
          "data": {
            "text/plain": [
              "7.34177578903413"
            ]
          },
          "metadata": {},
          "execution_count": 13
        }
      ],
      "source": [
        "mean_squared_error(y_test,y_pred)"
      ]
    },
    {
      "cell_type": "markdown",
      "metadata": {
        "id": "Jc2oJ0iBkIm6"
      },
      "source": [
        "**Adjust Parameters and Re-evaluate**"
      ]
    },
    {
      "cell_type": "code",
      "execution_count": 14,
      "metadata": {
        "id": "bzd4sDpZkIm6"
      },
      "outputs": [],
      "source": [
        "model = Ridge(alpha=1)"
      ]
    },
    {
      "cell_type": "code",
      "execution_count": 15,
      "metadata": {
        "colab": {
          "base_uri": "https://localhost:8080/",
          "height": 0
        },
        "id": "FjMDDYUxkIm6",
        "outputId": "2b62d2cb-2366-4d62-adea-f1ab3ada4167"
      },
      "outputs": [
        {
          "output_type": "execute_result",
          "data": {
            "text/plain": [
              "Ridge(alpha=1)"
            ]
          },
          "metadata": {},
          "execution_count": 15
        }
      ],
      "source": [
        "model.fit(X_train,y_train)"
      ]
    },
    {
      "cell_type": "code",
      "execution_count": 16,
      "metadata": {
        "id": "n54IypmikIm6"
      },
      "outputs": [],
      "source": [
        "y_pred = model.predict(X_test)"
      ]
    },
    {
      "cell_type": "markdown",
      "metadata": {
        "id": "JqbgLHlhkIm6"
      },
      "source": [
        "**Another Evaluation**"
      ]
    },
    {
      "cell_type": "code",
      "execution_count": 17,
      "metadata": {
        "scrolled": true,
        "colab": {
          "base_uri": "https://localhost:8080/",
          "height": 0
        },
        "id": "Jm6JlidskIm6",
        "outputId": "6a4e7fd3-e2df-4290-c8e8-7f03ba4433b7"
      },
      "outputs": [
        {
          "output_type": "execute_result",
          "data": {
            "text/plain": [
              "2.319021579428752"
            ]
          },
          "metadata": {},
          "execution_count": 17
        }
      ],
      "source": [
        "mean_squared_error(y_test,y_pred)"
      ]
    },
    {
      "cell_type": "markdown",
      "metadata": {
        "id": "S3fdhw_CkIm7"
      },
      "source": [
        "Much better! We could repeat this until satisfied with performance metrics. (We previously showed RidgeCV can do this for us, but the purpose of this lecture is to generalize the CV process for any model)."
      ]
    },
    {
      "cell_type": "markdown",
      "metadata": {
        "id": "JDlSvi7fkIm7"
      },
      "source": [
        "----\n",
        "----\n",
        "----\n",
        "## Train | Validation | Test Split Procedure \n",
        "\n",
        "This is often also called a \"hold-out\" set, since you should not adjust parameters based on the final test set, but instead use it *only* for reporting final expected performance.\n",
        "\n",
        "0. Clean and adjust data as necessary for X and y\n",
        "1. Split Data in Train/Validation/Test for both X and y\n",
        "2. Fit/Train Scaler on Training X Data\n",
        "3. Scale X Eval Data\n",
        "4. Create Model\n",
        "5. Fit/Train Model on X Train Data\n",
        "6. Evaluate Model on X Evaluation Data (by creating predictions and comparing to Y_eval)\n",
        "7. Adjust Parameters as Necessary and repeat steps 5 and 6\n",
        "8. Get final metrics on Test set (not allowed to go back and adjust after this!)"
      ]
    },
    {
      "cell_type": "code",
      "execution_count": 18,
      "metadata": {
        "id": "SX2sXxZXkIm7"
      },
      "outputs": [],
      "source": [
        "## CREATE X and y\n",
        "X = df.drop('sales',axis=1)\n",
        "y = df['sales']"
      ]
    },
    {
      "cell_type": "code",
      "execution_count": 19,
      "metadata": {
        "id": "NEAV7VfTkIm7"
      },
      "outputs": [],
      "source": [
        "\n",
        "#### SPLIT TWICE! Here we create TRAIN | VALIDATION | TEST  #########\n",
        "####################################################################\n",
        "from sklearn.model_selection import train_test_split\n",
        "\n",
        "# 70% of data is training data, set aside other 30%\n",
        "X_train, X_OTHER, y_train, y_OTHER = train_test_split(X, y, test_size=0.3, random_state=101)\n",
        "\n",
        "# Remaining 30% is split into evaluation and test sets\n",
        "# Each is 15% of the original data size\n",
        "X_eval, X_test, y_eval, y_test = train_test_split(X_OTHER, y_OTHER, test_size=0.5, random_state=101)"
      ]
    },
    {
      "cell_type": "code",
      "execution_count": 20,
      "metadata": {
        "id": "yJSFLVXkkIm7"
      },
      "outputs": [],
      "source": [
        "# SCALE DATA\n",
        "from sklearn.preprocessing import StandardScaler\n",
        "scaler = StandardScaler()\n",
        "scaler.fit(X_train)\n",
        "X_train = scaler.transform(X_train)\n",
        "X_eval = scaler.transform(X_eval)\n",
        "X_test = scaler.transform(X_test)"
      ]
    },
    {
      "cell_type": "markdown",
      "metadata": {
        "id": "p9U4aLNskIm7"
      },
      "source": [
        "**Create Model**"
      ]
    },
    {
      "cell_type": "code",
      "execution_count": 21,
      "metadata": {
        "id": "HvBTYwjVkIm7"
      },
      "outputs": [],
      "source": [
        "from sklearn.linear_model import Ridge"
      ]
    },
    {
      "cell_type": "code",
      "execution_count": 22,
      "metadata": {
        "id": "Y0q6gRBykIm8"
      },
      "outputs": [],
      "source": [
        "# Poor Alpha Choice on purpose!\n",
        "model = Ridge(alpha=100)"
      ]
    },
    {
      "cell_type": "code",
      "execution_count": 23,
      "metadata": {
        "colab": {
          "base_uri": "https://localhost:8080/",
          "height": 0
        },
        "id": "9_1uH6ajkIm8",
        "outputId": "36f299e5-863b-4cb6-d72d-1c71084a66fe"
      },
      "outputs": [
        {
          "output_type": "execute_result",
          "data": {
            "text/plain": [
              "Ridge(alpha=100)"
            ]
          },
          "metadata": {},
          "execution_count": 23
        }
      ],
      "source": [
        "model.fit(X_train,y_train)"
      ]
    },
    {
      "cell_type": "code",
      "execution_count": 24,
      "metadata": {
        "id": "ry6ghrtXkIm8"
      },
      "outputs": [],
      "source": [
        "y_eval_pred = model.predict(X_eval)"
      ]
    },
    {
      "cell_type": "markdown",
      "metadata": {
        "id": "1GQK7GenkIm8"
      },
      "source": [
        "**Evaluation**"
      ]
    },
    {
      "cell_type": "code",
      "execution_count": 25,
      "metadata": {
        "id": "KEAGSHkUkIm8"
      },
      "outputs": [],
      "source": [
        "from sklearn.metrics import mean_squared_error"
      ]
    },
    {
      "cell_type": "code",
      "execution_count": 26,
      "metadata": {
        "colab": {
          "base_uri": "https://localhost:8080/",
          "height": 0
        },
        "id": "vIGgeEz8kIm8",
        "outputId": "fd20071a-bc0a-4f71-d932-3d98a28e6610"
      },
      "outputs": [
        {
          "output_type": "execute_result",
          "data": {
            "text/plain": [
              "7.320101458823871"
            ]
          },
          "metadata": {},
          "execution_count": 26
        }
      ],
      "source": [
        "mean_squared_error(y_eval,y_eval_pred)"
      ]
    },
    {
      "cell_type": "markdown",
      "metadata": {
        "id": "chYeZsT1kIm8"
      },
      "source": [
        "**Adjust Parameters and Re-evaluate**"
      ]
    },
    {
      "cell_type": "code",
      "execution_count": 27,
      "metadata": {
        "id": "4LYPyrw0kIm8"
      },
      "outputs": [],
      "source": [
        "model = Ridge(alpha=1)"
      ]
    },
    {
      "cell_type": "code",
      "execution_count": 28,
      "metadata": {
        "colab": {
          "base_uri": "https://localhost:8080/",
          "height": 0
        },
        "id": "Km2Hk1iFkIm8",
        "outputId": "08895ae6-ef50-4224-a281-99f27a336a73"
      },
      "outputs": [
        {
          "output_type": "execute_result",
          "data": {
            "text/plain": [
              "Ridge(alpha=1)"
            ]
          },
          "metadata": {},
          "execution_count": 28
        }
      ],
      "source": [
        "model.fit(X_train,y_train)"
      ]
    },
    {
      "cell_type": "code",
      "execution_count": 29,
      "metadata": {
        "id": "2yD9_rNAkIm9"
      },
      "outputs": [],
      "source": [
        "y_eval_pred = model.predict(X_eval)"
      ]
    },
    {
      "cell_type": "markdown",
      "metadata": {
        "id": "LqSGouvbkIm9"
      },
      "source": [
        "**Another Evaluation**"
      ]
    },
    {
      "cell_type": "code",
      "execution_count": 30,
      "metadata": {
        "scrolled": true,
        "colab": {
          "base_uri": "https://localhost:8080/",
          "height": 0
        },
        "id": "ML6srX4ykIm9",
        "outputId": "8fd08b43-4b41-47a9-d8e4-ee9668c559ea"
      },
      "outputs": [
        {
          "output_type": "execute_result",
          "data": {
            "text/plain": [
              "2.383783075056986"
            ]
          },
          "metadata": {},
          "execution_count": 30
        }
      ],
      "source": [
        "mean_squared_error(y_eval,y_eval_pred)"
      ]
    },
    {
      "cell_type": "markdown",
      "metadata": {
        "id": "8BytlHJEkIm_"
      },
      "source": [
        "**Final Evaluation (Can no longer edit parameters after this!)**"
      ]
    },
    {
      "cell_type": "code",
      "execution_count": 31,
      "metadata": {
        "id": "ZTKKLz2TkIm_"
      },
      "outputs": [],
      "source": [
        "y_final_test_pred = model.predict(X_test)"
      ]
    },
    {
      "cell_type": "code",
      "execution_count": 32,
      "metadata": {
        "colab": {
          "base_uri": "https://localhost:8080/",
          "height": 0
        },
        "id": "5wR90QNskIm_",
        "outputId": "41ed67b7-0f50-402c-ce6b-e247552b3d15"
      },
      "outputs": [
        {
          "output_type": "execute_result",
          "data": {
            "text/plain": [
              "2.2542600838005176"
            ]
          },
          "metadata": {},
          "execution_count": 32
        }
      ],
      "source": [
        "mean_squared_error(y_test,y_final_test_pred)"
      ]
    },
    {
      "cell_type": "markdown",
      "metadata": {
        "id": "RdARQ9NYkIm_"
      },
      "source": [
        "----\n",
        "----\n",
        "----\n",
        "## Cross Validation with cross_val_score\n",
        "\n",
        "----\n",
        "\n",
        "<img src=\"grid_search_cross_validation.png\">\n",
        "\n",
        "----"
      ]
    },
    {
      "cell_type": "code",
      "execution_count": 33,
      "metadata": {
        "id": "bWwLEy-8kIm_"
      },
      "outputs": [],
      "source": [
        "## CREATE X and y\n",
        "X = df.drop('sales',axis=1)\n",
        "y = df['sales']\n",
        "\n",
        "# TRAIN TEST SPLIT\n",
        "from sklearn.model_selection import train_test_split\n",
        "X_train, X_test, y_train, y_test = train_test_split(X, y, test_size=0.3, random_state=101)\n",
        "\n",
        "# SCALE DATA\n",
        "from sklearn.preprocessing import StandardScaler\n",
        "scaler = StandardScaler()\n",
        "scaler.fit(X_train)\n",
        "X_train = scaler.transform(X_train)\n",
        "X_test = scaler.transform(X_test)"
      ]
    },
    {
      "cell_type": "code",
      "execution_count": 34,
      "metadata": {
        "id": "wQjCaErzkInA"
      },
      "outputs": [],
      "source": [
        "model = Ridge(alpha=100)"
      ]
    },
    {
      "cell_type": "code",
      "execution_count": 35,
      "metadata": {
        "id": "BUF6jn58kInA"
      },
      "outputs": [],
      "source": [
        "from sklearn.model_selection import cross_val_score"
      ]
    },
    {
      "cell_type": "code",
      "execution_count": 36,
      "metadata": {
        "id": "evjQ0_WLkInA"
      },
      "outputs": [],
      "source": [
        "# SCORING OPTIONS:\n",
        "# https://scikit-learn.org/stable/modules/model_evaluation.html\n",
        "scores = cross_val_score(model,X_train,y_train,\n",
        "                         scoring='neg_mean_squared_error',cv=5)"
      ]
    },
    {
      "cell_type": "code",
      "execution_count": 37,
      "metadata": {
        "colab": {
          "base_uri": "https://localhost:8080/",
          "height": 0
        },
        "id": "ZbkbV_-3kInA",
        "outputId": "34655c50-8600-4de4-9db0-03917c2fa07c"
      },
      "outputs": [
        {
          "output_type": "execute_result",
          "data": {
            "text/plain": [
              "array([ -9.32552967,  -4.9449624 , -11.39665242,  -7.0242106 ,\n",
              "        -8.38562723])"
            ]
          },
          "metadata": {},
          "execution_count": 37
        }
      ],
      "source": [
        "scores"
      ]
    },
    {
      "cell_type": "code",
      "execution_count": 38,
      "metadata": {
        "colab": {
          "base_uri": "https://localhost:8080/",
          "height": 0
        },
        "id": "6asP1pp7kInA",
        "outputId": "8a9b0218-6ec2-4654-fdf8-4d52b6ed328d"
      },
      "outputs": [
        {
          "output_type": "execute_result",
          "data": {
            "text/plain": [
              "8.215396464543607"
            ]
          },
          "metadata": {},
          "execution_count": 38
        }
      ],
      "source": [
        "# Average of the MSE scores (we set back to positive)\n",
        "abs(scores.mean())"
      ]
    },
    {
      "cell_type": "markdown",
      "metadata": {
        "id": "CFDchj4EkInA"
      },
      "source": [
        "**Adjust model based on metrics**"
      ]
    },
    {
      "cell_type": "code",
      "execution_count": 39,
      "metadata": {
        "id": "Q4-rvohEkInA"
      },
      "outputs": [],
      "source": [
        "model = Ridge(alpha=1)"
      ]
    },
    {
      "cell_type": "code",
      "execution_count": 40,
      "metadata": {
        "id": "B0WC4UFhkInA"
      },
      "outputs": [],
      "source": [
        "# SCORING OPTIONS:\n",
        "# https://scikit-learn.org/stable/modules/model_evaluation.html\n",
        "scores = cross_val_score(model,X_train,y_train,\n",
        "                         scoring='neg_mean_squared_error',cv=5)"
      ]
    },
    {
      "cell_type": "code",
      "execution_count": 41,
      "metadata": {
        "colab": {
          "base_uri": "https://localhost:8080/",
          "height": 0
        },
        "id": "T4MzdhFCkInA",
        "outputId": "2b1b4a90-9153-4d83-ac6f-ed2c9e96e4e0"
      },
      "outputs": [
        {
          "output_type": "execute_result",
          "data": {
            "text/plain": [
              "3.344839296530695"
            ]
          },
          "metadata": {},
          "execution_count": 41
        }
      ],
      "source": [
        "# Average of the MSE scores (we set back to positive)\n",
        "abs(scores.mean())"
      ]
    },
    {
      "cell_type": "markdown",
      "metadata": {
        "id": "WG5mSs-ckInA"
      },
      "source": [
        "**Final Evaluation (Can no longer edit parameters after this!)**"
      ]
    },
    {
      "cell_type": "code",
      "execution_count": 42,
      "metadata": {
        "colab": {
          "base_uri": "https://localhost:8080/",
          "height": 0
        },
        "id": "j3SaGcKZkInA",
        "outputId": "221d84cc-c146-4afd-d423-948262f751a1"
      },
      "outputs": [
        {
          "output_type": "execute_result",
          "data": {
            "text/plain": [
              "Ridge(alpha=1)"
            ]
          },
          "metadata": {},
          "execution_count": 42
        }
      ],
      "source": [
        "# Need to fit the model first!\n",
        "model.fit(X_train,y_train)"
      ]
    },
    {
      "cell_type": "code",
      "execution_count": 43,
      "metadata": {
        "id": "27yPQA1KkInB"
      },
      "outputs": [],
      "source": [
        "y_final_test_pred = model.predict(X_test)"
      ]
    },
    {
      "cell_type": "code",
      "execution_count": 44,
      "metadata": {
        "colab": {
          "base_uri": "https://localhost:8080/",
          "height": 0
        },
        "id": "-IaYPqtnkInB",
        "outputId": "da8f3d8a-1881-4a3d-94c9-5b0531e6bb53"
      },
      "outputs": [
        {
          "output_type": "execute_result",
          "data": {
            "text/plain": [
              "2.319021579428752"
            ]
          },
          "metadata": {},
          "execution_count": 44
        }
      ],
      "source": [
        "mean_squared_error(y_test,y_final_test_pred)"
      ]
    },
    {
      "cell_type": "markdown",
      "metadata": {
        "id": "J9kfrB8XkInB"
      },
      "source": [
        "----\n",
        "----\n",
        "----\n",
        "\n",
        "# Cross Validation with cross_validate\n",
        "\n",
        "The cross_validate function differs from cross_val_score in two ways:\n",
        "\n",
        "It allows specifying multiple metrics for evaluation.\n",
        "\n",
        "It returns a dict containing fit-times, score-times (and optionally training scores as well as fitted estimators) in addition to the test score.\n",
        "\n",
        "For single metric evaluation, where the scoring parameter is a string, callable or None, the keys will be:\n",
        "        \n",
        "        - ['test_score', 'fit_time', 'score_time']\n",
        "\n",
        "And for multiple metric evaluation, the return value is a dict with the following keys:\n",
        "\n",
        "    ['test_<scorer1_name>', 'test_<scorer2_name>', 'test_<scorer...>', 'fit_time', 'score_time']\n",
        "\n",
        "return_train_score is set to False by default to save computation time. To evaluate the scores on the training set as well you need to be set to True."
      ]
    },
    {
      "cell_type": "code",
      "execution_count": 45,
      "metadata": {
        "id": "ybzsNk2rkInB"
      },
      "outputs": [],
      "source": [
        "## CREATE X and y\n",
        "X = df.drop('sales',axis=1)\n",
        "y = df['sales']\n",
        "\n",
        "# TRAIN TEST SPLIT\n",
        "from sklearn.model_selection import train_test_split\n",
        "X_train, X_test, y_train, y_test = train_test_split(X, y, test_size=0.3, random_state=101)\n",
        "\n",
        "# SCALE DATA\n",
        "from sklearn.preprocessing import StandardScaler\n",
        "scaler = StandardScaler()\n",
        "scaler.fit(X_train)\n",
        "X_train = scaler.transform(X_train)\n",
        "X_test = scaler.transform(X_test)"
      ]
    },
    {
      "cell_type": "code",
      "execution_count": 46,
      "metadata": {
        "id": "IyS-GMWakInB"
      },
      "outputs": [],
      "source": [
        "model = Ridge(alpha=100)"
      ]
    },
    {
      "cell_type": "code",
      "execution_count": 47,
      "metadata": {
        "id": "dsmDcd4RkInB"
      },
      "outputs": [],
      "source": [
        "from sklearn.model_selection import cross_validate"
      ]
    },
    {
      "cell_type": "code",
      "execution_count": 48,
      "metadata": {
        "id": "r6-wBnoFkInB"
      },
      "outputs": [],
      "source": [
        "# SCORING OPTIONS:\n",
        "# https://scikit-learn.org/stable/modules/model_evaluation.html\n",
        "scores = cross_validate(model,X_train,y_train,\n",
        "                         scoring=['neg_mean_absolute_error','neg_mean_squared_error','max_error'],cv=5)"
      ]
    },
    {
      "cell_type": "code",
      "execution_count": 49,
      "metadata": {
        "colab": {
          "base_uri": "https://localhost:8080/",
          "height": 0
        },
        "id": "Z_0KKtdmkInC",
        "outputId": "18e535c1-f434-4ac9-8449-29057dfa0936"
      },
      "outputs": [
        {
          "output_type": "execute_result",
          "data": {
            "text/plain": [
              "{'fit_time': array([0.00124335, 0.00136828, 0.0008657 , 0.00093126, 0.00361609]),\n",
              " 'score_time': array([0.00163698, 0.00101376, 0.00078177, 0.00100708, 0.00099683]),\n",
              " 'test_neg_mean_absolute_error': array([-2.31243044, -1.74653361, -2.56211701, -2.01873159, -2.27951906]),\n",
              " 'test_neg_mean_squared_error': array([ -9.32552967,  -4.9449624 , -11.39665242,  -7.0242106 ,\n",
              "         -8.38562723]),\n",
              " 'test_max_error': array([ -6.44988486,  -5.58926073, -10.33914027,  -6.61950405,\n",
              "         -7.75578515])}"
            ]
          },
          "metadata": {},
          "execution_count": 49
        }
      ],
      "source": [
        "scores"
      ]
    },
    {
      "cell_type": "code",
      "execution_count": 50,
      "metadata": {
        "colab": {
          "base_uri": "https://localhost:8080/",
          "height": 206
        },
        "id": "nUDe0qRVkInC",
        "outputId": "d4b6e9e7-9947-43e7-a622-c8e2600f8923"
      },
      "outputs": [
        {
          "output_type": "execute_result",
          "data": {
            "text/plain": [
              "   fit_time  score_time  test_neg_mean_absolute_error  \\\n",
              "0  0.001243    0.001637                     -2.312430   \n",
              "1  0.001368    0.001014                     -1.746534   \n",
              "2  0.000866    0.000782                     -2.562117   \n",
              "3  0.000931    0.001007                     -2.018732   \n",
              "4  0.003616    0.000997                     -2.279519   \n",
              "\n",
              "   test_neg_mean_squared_error  test_max_error  \n",
              "0                    -9.325530       -6.449885  \n",
              "1                    -4.944962       -5.589261  \n",
              "2                   -11.396652      -10.339140  \n",
              "3                    -7.024211       -6.619504  \n",
              "4                    -8.385627       -7.755785  "
            ],
            "text/html": [
              "\n",
              "  <div id=\"df-80ccfa1f-00cd-47bf-8fc3-efb0f2bdb2d9\">\n",
              "    <div class=\"colab-df-container\">\n",
              "      <div>\n",
              "<style scoped>\n",
              "    .dataframe tbody tr th:only-of-type {\n",
              "        vertical-align: middle;\n",
              "    }\n",
              "\n",
              "    .dataframe tbody tr th {\n",
              "        vertical-align: top;\n",
              "    }\n",
              "\n",
              "    .dataframe thead th {\n",
              "        text-align: right;\n",
              "    }\n",
              "</style>\n",
              "<table border=\"1\" class=\"dataframe\">\n",
              "  <thead>\n",
              "    <tr style=\"text-align: right;\">\n",
              "      <th></th>\n",
              "      <th>fit_time</th>\n",
              "      <th>score_time</th>\n",
              "      <th>test_neg_mean_absolute_error</th>\n",
              "      <th>test_neg_mean_squared_error</th>\n",
              "      <th>test_max_error</th>\n",
              "    </tr>\n",
              "  </thead>\n",
              "  <tbody>\n",
              "    <tr>\n",
              "      <th>0</th>\n",
              "      <td>0.001243</td>\n",
              "      <td>0.001637</td>\n",
              "      <td>-2.312430</td>\n",
              "      <td>-9.325530</td>\n",
              "      <td>-6.449885</td>\n",
              "    </tr>\n",
              "    <tr>\n",
              "      <th>1</th>\n",
              "      <td>0.001368</td>\n",
              "      <td>0.001014</td>\n",
              "      <td>-1.746534</td>\n",
              "      <td>-4.944962</td>\n",
              "      <td>-5.589261</td>\n",
              "    </tr>\n",
              "    <tr>\n",
              "      <th>2</th>\n",
              "      <td>0.000866</td>\n",
              "      <td>0.000782</td>\n",
              "      <td>-2.562117</td>\n",
              "      <td>-11.396652</td>\n",
              "      <td>-10.339140</td>\n",
              "    </tr>\n",
              "    <tr>\n",
              "      <th>3</th>\n",
              "      <td>0.000931</td>\n",
              "      <td>0.001007</td>\n",
              "      <td>-2.018732</td>\n",
              "      <td>-7.024211</td>\n",
              "      <td>-6.619504</td>\n",
              "    </tr>\n",
              "    <tr>\n",
              "      <th>4</th>\n",
              "      <td>0.003616</td>\n",
              "      <td>0.000997</td>\n",
              "      <td>-2.279519</td>\n",
              "      <td>-8.385627</td>\n",
              "      <td>-7.755785</td>\n",
              "    </tr>\n",
              "  </tbody>\n",
              "</table>\n",
              "</div>\n",
              "      <button class=\"colab-df-convert\" onclick=\"convertToInteractive('df-80ccfa1f-00cd-47bf-8fc3-efb0f2bdb2d9')\"\n",
              "              title=\"Convert this dataframe to an interactive table.\"\n",
              "              style=\"display:none;\">\n",
              "        \n",
              "  <svg xmlns=\"http://www.w3.org/2000/svg\" height=\"24px\"viewBox=\"0 0 24 24\"\n",
              "       width=\"24px\">\n",
              "    <path d=\"M0 0h24v24H0V0z\" fill=\"none\"/>\n",
              "    <path d=\"M18.56 5.44l.94 2.06.94-2.06 2.06-.94-2.06-.94-.94-2.06-.94 2.06-2.06.94zm-11 1L8.5 8.5l.94-2.06 2.06-.94-2.06-.94L8.5 2.5l-.94 2.06-2.06.94zm10 10l.94 2.06.94-2.06 2.06-.94-2.06-.94-.94-2.06-.94 2.06-2.06.94z\"/><path d=\"M17.41 7.96l-1.37-1.37c-.4-.4-.92-.59-1.43-.59-.52 0-1.04.2-1.43.59L10.3 9.45l-7.72 7.72c-.78.78-.78 2.05 0 2.83L4 21.41c.39.39.9.59 1.41.59.51 0 1.02-.2 1.41-.59l7.78-7.78 2.81-2.81c.8-.78.8-2.07 0-2.86zM5.41 20L4 18.59l7.72-7.72 1.47 1.35L5.41 20z\"/>\n",
              "  </svg>\n",
              "      </button>\n",
              "      \n",
              "  <style>\n",
              "    .colab-df-container {\n",
              "      display:flex;\n",
              "      flex-wrap:wrap;\n",
              "      gap: 12px;\n",
              "    }\n",
              "\n",
              "    .colab-df-convert {\n",
              "      background-color: #E8F0FE;\n",
              "      border: none;\n",
              "      border-radius: 50%;\n",
              "      cursor: pointer;\n",
              "      display: none;\n",
              "      fill: #1967D2;\n",
              "      height: 32px;\n",
              "      padding: 0 0 0 0;\n",
              "      width: 32px;\n",
              "    }\n",
              "\n",
              "    .colab-df-convert:hover {\n",
              "      background-color: #E2EBFA;\n",
              "      box-shadow: 0px 1px 2px rgba(60, 64, 67, 0.3), 0px 1px 3px 1px rgba(60, 64, 67, 0.15);\n",
              "      fill: #174EA6;\n",
              "    }\n",
              "\n",
              "    [theme=dark] .colab-df-convert {\n",
              "      background-color: #3B4455;\n",
              "      fill: #D2E3FC;\n",
              "    }\n",
              "\n",
              "    [theme=dark] .colab-df-convert:hover {\n",
              "      background-color: #434B5C;\n",
              "      box-shadow: 0px 1px 3px 1px rgba(0, 0, 0, 0.15);\n",
              "      filter: drop-shadow(0px 1px 2px rgba(0, 0, 0, 0.3));\n",
              "      fill: #FFFFFF;\n",
              "    }\n",
              "  </style>\n",
              "\n",
              "      <script>\n",
              "        const buttonEl =\n",
              "          document.querySelector('#df-80ccfa1f-00cd-47bf-8fc3-efb0f2bdb2d9 button.colab-df-convert');\n",
              "        buttonEl.style.display =\n",
              "          google.colab.kernel.accessAllowed ? 'block' : 'none';\n",
              "\n",
              "        async function convertToInteractive(key) {\n",
              "          const element = document.querySelector('#df-80ccfa1f-00cd-47bf-8fc3-efb0f2bdb2d9');\n",
              "          const dataTable =\n",
              "            await google.colab.kernel.invokeFunction('convertToInteractive',\n",
              "                                                     [key], {});\n",
              "          if (!dataTable) return;\n",
              "\n",
              "          const docLinkHtml = 'Like what you see? Visit the ' +\n",
              "            '<a target=\"_blank\" href=https://colab.research.google.com/notebooks/data_table.ipynb>data table notebook</a>'\n",
              "            + ' to learn more about interactive tables.';\n",
              "          element.innerHTML = '';\n",
              "          dataTable['output_type'] = 'display_data';\n",
              "          await google.colab.output.renderOutput(dataTable, element);\n",
              "          const docLink = document.createElement('div');\n",
              "          docLink.innerHTML = docLinkHtml;\n",
              "          element.appendChild(docLink);\n",
              "        }\n",
              "      </script>\n",
              "    </div>\n",
              "  </div>\n",
              "  "
            ]
          },
          "metadata": {},
          "execution_count": 50
        }
      ],
      "source": [
        "pd.DataFrame(scores)"
      ]
    },
    {
      "cell_type": "code",
      "execution_count": 51,
      "metadata": {
        "colab": {
          "base_uri": "https://localhost:8080/",
          "height": 0
        },
        "id": "nctbmXelkInC",
        "outputId": "78df2239-0975-4d0f-b182-eec68278453f"
      },
      "outputs": [
        {
          "output_type": "execute_result",
          "data": {
            "text/plain": [
              "fit_time                        0.001605\n",
              "score_time                      0.001087\n",
              "test_neg_mean_absolute_error   -2.183866\n",
              "test_neg_mean_squared_error    -8.215396\n",
              "test_max_error                 -7.350715\n",
              "dtype: float64"
            ]
          },
          "metadata": {},
          "execution_count": 51
        }
      ],
      "source": [
        "pd.DataFrame(scores).mean()"
      ]
    },
    {
      "cell_type": "markdown",
      "metadata": {
        "id": "perhMmIEkInC"
      },
      "source": [
        "**Adjust model based on metrics**"
      ]
    },
    {
      "cell_type": "code",
      "execution_count": 52,
      "metadata": {
        "id": "Z91laW9hkInC"
      },
      "outputs": [],
      "source": [
        "model = Ridge(alpha=1)"
      ]
    },
    {
      "cell_type": "code",
      "execution_count": 53,
      "metadata": {
        "id": "Ff77KOa0kInD"
      },
      "outputs": [],
      "source": [
        "# SCORING OPTIONS:\n",
        "# https://scikit-learn.org/stable/modules/model_evaluation.html\n",
        "scores = cross_validate(model,X_train,y_train,\n",
        "                         scoring=['neg_mean_absolute_error','neg_mean_squared_error','max_error'],cv=5)"
      ]
    },
    {
      "cell_type": "code",
      "execution_count": 54,
      "metadata": {
        "colab": {
          "base_uri": "https://localhost:8080/",
          "height": 0
        },
        "id": "69cVIoApkInD",
        "outputId": "4f1441d8-8024-4211-8240-af3a40aacb7a"
      },
      "outputs": [
        {
          "output_type": "execute_result",
          "data": {
            "text/plain": [
              "fit_time                        0.001580\n",
              "score_time                      0.001065\n",
              "test_neg_mean_absolute_error   -1.319685\n",
              "test_neg_mean_squared_error    -3.344839\n",
              "test_max_error                 -5.161145\n",
              "dtype: float64"
            ]
          },
          "metadata": {},
          "execution_count": 54
        }
      ],
      "source": [
        "pd.DataFrame(scores).mean()"
      ]
    },
    {
      "cell_type": "markdown",
      "metadata": {
        "id": "mc9mWHPfkInD"
      },
      "source": [
        "**Final Evaluation (Can no longer edit parameters after this!)**"
      ]
    },
    {
      "cell_type": "code",
      "execution_count": 55,
      "metadata": {
        "colab": {
          "base_uri": "https://localhost:8080/",
          "height": 0
        },
        "id": "AYaWA3CrkInD",
        "outputId": "0fb0c14d-24ee-4acf-8eb7-53aa3f7db52e"
      },
      "outputs": [
        {
          "output_type": "execute_result",
          "data": {
            "text/plain": [
              "Ridge(alpha=1)"
            ]
          },
          "metadata": {},
          "execution_count": 55
        }
      ],
      "source": [
        "# Need to fit the model first!\n",
        "model.fit(X_train,y_train)"
      ]
    },
    {
      "cell_type": "code",
      "execution_count": 56,
      "metadata": {
        "id": "78bexdsvkInD"
      },
      "outputs": [],
      "source": [
        "y_final_test_pred = model.predict(X_test)"
      ]
    },
    {
      "cell_type": "code",
      "execution_count": 57,
      "metadata": {
        "colab": {
          "base_uri": "https://localhost:8080/",
          "height": 0
        },
        "id": "zG-wOSKOkInD",
        "outputId": "d8de6666-4785-4870-cffa-df690ca0d5e3"
      },
      "outputs": [
        {
          "output_type": "execute_result",
          "data": {
            "text/plain": [
              "2.319021579428752"
            ]
          },
          "metadata": {},
          "execution_count": 57
        }
      ],
      "source": [
        "mean_squared_error(y_test,y_final_test_pred)"
      ]
    },
    {
      "cell_type": "markdown",
      "metadata": {
        "id": "TtrLFGdNkInD"
      },
      "source": [
        "----\n",
        "----"
      ]
    },
    {
      "cell_type": "code",
      "source": [],
      "metadata": {
        "id": "1EZyr4pDlJsZ"
      },
      "execution_count": null,
      "outputs": []
    }
  ],
  "metadata": {
    "anaconda-cloud": {},
    "kernelspec": {
      "display_name": "Python 3",
      "language": "python",
      "name": "python3"
    },
    "language_info": {
      "codemirror_mode": {
        "name": "ipython",
        "version": 3
      },
      "file_extension": ".py",
      "mimetype": "text/x-python",
      "name": "python",
      "nbconvert_exporter": "python",
      "pygments_lexer": "ipython3",
      "version": "3.7.6"
    },
    "colab": {
      "provenance": [],
      "collapsed_sections": []
    }
  },
  "nbformat": 4,
  "nbformat_minor": 0
}