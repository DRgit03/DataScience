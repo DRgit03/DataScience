{
  "cells": [
    {
      "cell_type": "markdown",
      "metadata": {
        "id": "IExtKO7DACTR"
      },
      "source": [
        "# Keras Syntax Basics\n",
        "\n",
        "With TensorFlow 2.0 , Keras is now the main API choice. Let's work through a simple regression project to understand the basics of the Keras syntax and adding layers."
      ]
    },
    {
      "cell_type": "markdown",
      "metadata": {
        "id": "rGty6UgvACTS"
      },
      "source": [
        "## The Data\n",
        "\n",
        "To learn the basic syntax of Keras, we will use a very simple fake data set, in the subsequent lectures we will focus on real datasets, along with feature engineering! For now, let's focus on the syntax of TensorFlow 2.0.\n",
        "\n",
        "Let's pretend this data are measurements of some rare gem stones, with 2 measurement features and a sale price. Our final goal would be to try to predict the sale price of a new gem stone we just mined from the ground, in order to try to set a fair price in the market.\n",
        "\n",
        "### Load the Data"
      ]
    },
    {
      "cell_type": "code",
      "execution_count": 1,
      "metadata": {
        "id": "OMtOR7ANACTS"
      },
      "outputs": [],
      "source": [
        "import pandas as pd"
      ]
    },
    {
      "cell_type": "code",
      "execution_count": 2,
      "metadata": {
        "id": "lF11aNTfACTS"
      },
      "outputs": [],
      "source": [
        "df = pd.read_csv('fake_reg.txt')"
      ]
    },
    {
      "cell_type": "code",
      "execution_count": 3,
      "metadata": {
        "colab": {
          "base_uri": "https://localhost:8080/",
          "height": 206
        },
        "id": "P4BKqL7PACTS",
        "outputId": "1692ad4a-2ebe-49fc-bc60-83c96040dc95"
      },
      "outputs": [
        {
          "output_type": "execute_result",
          "data": {
            "text/plain": [
              "        price     feature1     feature2\n",
              "0  461.527929   999.787558   999.766096\n",
              "1  548.130011   998.861615  1001.042403\n",
              "2  410.297162  1000.070267   998.844015\n",
              "3  540.382220   999.952251  1000.440940\n",
              "4  546.024553  1000.446011  1000.338531"
            ],
            "text/html": [
              "\n",
              "  <div id=\"df-15189a1d-a834-4f14-b507-3f748eaf81e5\">\n",
              "    <div class=\"colab-df-container\">\n",
              "      <div>\n",
              "<style scoped>\n",
              "    .dataframe tbody tr th:only-of-type {\n",
              "        vertical-align: middle;\n",
              "    }\n",
              "\n",
              "    .dataframe tbody tr th {\n",
              "        vertical-align: top;\n",
              "    }\n",
              "\n",
              "    .dataframe thead th {\n",
              "        text-align: right;\n",
              "    }\n",
              "</style>\n",
              "<table border=\"1\" class=\"dataframe\">\n",
              "  <thead>\n",
              "    <tr style=\"text-align: right;\">\n",
              "      <th></th>\n",
              "      <th>price</th>\n",
              "      <th>feature1</th>\n",
              "      <th>feature2</th>\n",
              "    </tr>\n",
              "  </thead>\n",
              "  <tbody>\n",
              "    <tr>\n",
              "      <th>0</th>\n",
              "      <td>461.527929</td>\n",
              "      <td>999.787558</td>\n",
              "      <td>999.766096</td>\n",
              "    </tr>\n",
              "    <tr>\n",
              "      <th>1</th>\n",
              "      <td>548.130011</td>\n",
              "      <td>998.861615</td>\n",
              "      <td>1001.042403</td>\n",
              "    </tr>\n",
              "    <tr>\n",
              "      <th>2</th>\n",
              "      <td>410.297162</td>\n",
              "      <td>1000.070267</td>\n",
              "      <td>998.844015</td>\n",
              "    </tr>\n",
              "    <tr>\n",
              "      <th>3</th>\n",
              "      <td>540.382220</td>\n",
              "      <td>999.952251</td>\n",
              "      <td>1000.440940</td>\n",
              "    </tr>\n",
              "    <tr>\n",
              "      <th>4</th>\n",
              "      <td>546.024553</td>\n",
              "      <td>1000.446011</td>\n",
              "      <td>1000.338531</td>\n",
              "    </tr>\n",
              "  </tbody>\n",
              "</table>\n",
              "</div>\n",
              "      <button class=\"colab-df-convert\" onclick=\"convertToInteractive('df-15189a1d-a834-4f14-b507-3f748eaf81e5')\"\n",
              "              title=\"Convert this dataframe to an interactive table.\"\n",
              "              style=\"display:none;\">\n",
              "        \n",
              "  <svg xmlns=\"http://www.w3.org/2000/svg\" height=\"24px\"viewBox=\"0 0 24 24\"\n",
              "       width=\"24px\">\n",
              "    <path d=\"M0 0h24v24H0V0z\" fill=\"none\"/>\n",
              "    <path d=\"M18.56 5.44l.94 2.06.94-2.06 2.06-.94-2.06-.94-.94-2.06-.94 2.06-2.06.94zm-11 1L8.5 8.5l.94-2.06 2.06-.94-2.06-.94L8.5 2.5l-.94 2.06-2.06.94zm10 10l.94 2.06.94-2.06 2.06-.94-2.06-.94-.94-2.06-.94 2.06-2.06.94z\"/><path d=\"M17.41 7.96l-1.37-1.37c-.4-.4-.92-.59-1.43-.59-.52 0-1.04.2-1.43.59L10.3 9.45l-7.72 7.72c-.78.78-.78 2.05 0 2.83L4 21.41c.39.39.9.59 1.41.59.51 0 1.02-.2 1.41-.59l7.78-7.78 2.81-2.81c.8-.78.8-2.07 0-2.86zM5.41 20L4 18.59l7.72-7.72 1.47 1.35L5.41 20z\"/>\n",
              "  </svg>\n",
              "      </button>\n",
              "      \n",
              "  <style>\n",
              "    .colab-df-container {\n",
              "      display:flex;\n",
              "      flex-wrap:wrap;\n",
              "      gap: 12px;\n",
              "    }\n",
              "\n",
              "    .colab-df-convert {\n",
              "      background-color: #E8F0FE;\n",
              "      border: none;\n",
              "      border-radius: 50%;\n",
              "      cursor: pointer;\n",
              "      display: none;\n",
              "      fill: #1967D2;\n",
              "      height: 32px;\n",
              "      padding: 0 0 0 0;\n",
              "      width: 32px;\n",
              "    }\n",
              "\n",
              "    .colab-df-convert:hover {\n",
              "      background-color: #E2EBFA;\n",
              "      box-shadow: 0px 1px 2px rgba(60, 64, 67, 0.3), 0px 1px 3px 1px rgba(60, 64, 67, 0.15);\n",
              "      fill: #174EA6;\n",
              "    }\n",
              "\n",
              "    [theme=dark] .colab-df-convert {\n",
              "      background-color: #3B4455;\n",
              "      fill: #D2E3FC;\n",
              "    }\n",
              "\n",
              "    [theme=dark] .colab-df-convert:hover {\n",
              "      background-color: #434B5C;\n",
              "      box-shadow: 0px 1px 3px 1px rgba(0, 0, 0, 0.15);\n",
              "      filter: drop-shadow(0px 1px 2px rgba(0, 0, 0, 0.3));\n",
              "      fill: #FFFFFF;\n",
              "    }\n",
              "  </style>\n",
              "\n",
              "      <script>\n",
              "        const buttonEl =\n",
              "          document.querySelector('#df-15189a1d-a834-4f14-b507-3f748eaf81e5 button.colab-df-convert');\n",
              "        buttonEl.style.display =\n",
              "          google.colab.kernel.accessAllowed ? 'block' : 'none';\n",
              "\n",
              "        async function convertToInteractive(key) {\n",
              "          const element = document.querySelector('#df-15189a1d-a834-4f14-b507-3f748eaf81e5');\n",
              "          const dataTable =\n",
              "            await google.colab.kernel.invokeFunction('convertToInteractive',\n",
              "                                                     [key], {});\n",
              "          if (!dataTable) return;\n",
              "\n",
              "          const docLinkHtml = 'Like what you see? Visit the ' +\n",
              "            '<a target=\"_blank\" href=https://colab.research.google.com/notebooks/data_table.ipynb>data table notebook</a>'\n",
              "            + ' to learn more about interactive tables.';\n",
              "          element.innerHTML = '';\n",
              "          dataTable['output_type'] = 'display_data';\n",
              "          await google.colab.output.renderOutput(dataTable, element);\n",
              "          const docLink = document.createElement('div');\n",
              "          docLink.innerHTML = docLinkHtml;\n",
              "          element.appendChild(docLink);\n",
              "        }\n",
              "      </script>\n",
              "    </div>\n",
              "  </div>\n",
              "  "
            ]
          },
          "metadata": {},
          "execution_count": 3
        }
      ],
      "source": [
        "df.head()"
      ]
    },
    {
      "cell_type": "markdown",
      "metadata": {
        "id": "9kd3YgOkACTT"
      },
      "source": [
        "### Explore the data\n",
        "\n",
        "Let's take a quick look, we should see strong correlation between the features and the \"price\" of this made up product."
      ]
    },
    {
      "cell_type": "code",
      "execution_count": 4,
      "metadata": {
        "id": "aBli0kJkACTT"
      },
      "outputs": [],
      "source": [
        "import seaborn as sns\n",
        "import matplotlib.pyplot as plt"
      ]
    },
    {
      "cell_type": "code",
      "execution_count": 5,
      "metadata": {
        "colab": {
          "base_uri": "https://localhost:8080/",
          "height": 567
        },
        "id": "GF_e95dWACTT",
        "outputId": "13f1cfcb-ad28-4bfd-ae6e-65682d663ecb"
      },
      "outputs": [
        {
          "output_type": "execute_result",
          "data": {
            "text/plain": [
              "<seaborn.axisgrid.PairGrid at 0x7ff3b4e8fb50>"
            ]
          },
          "metadata": {},
          "execution_count": 5
        },
        {
          "output_type": "display_data",
          "data": {
            "text/plain": [
              "<Figure size 540x540 with 12 Axes>"
            ],
            "image/png": "[encoded data removed]"
          },
          "metadata": {
            "needs_background": "light"
          }
        }
      ],
      "source": [
        "sns.pairplot(df)"
      ]
    },
    {
      "cell_type": "markdown",
      "metadata": {
        "id": "Oxc6lvCQACTT"
      },
      "source": [
        "Feel free to visualize more, but this data is fake, so we will focus on feature engineering and exploratory data analysis later on in the course in much more detail!"
      ]
    },
    {
      "cell_type": "markdown",
      "metadata": {
        "id": "MXMoH_uRACTU"
      },
      "source": [
        "### Test/Train Split"
      ]
    },
    {
      "cell_type": "code",
      "execution_count": 6,
      "metadata": {
        "id": "XtZKZqEeACTU"
      },
      "outputs": [],
      "source": [
        "from sklearn.model_selection import train_test_split"
      ]
    },
    {
      "cell_type": "code",
      "execution_count": 7,
      "metadata": {
        "id": "cFZEbq-oACTU"
      },
      "outputs": [],
      "source": [
        "# Convert Pandas to Numpy for Keras\n",
        "\n",
        "# Features\n",
        "X = df[['feature1','feature2']].values\n",
        "\n",
        "# Label\n",
        "y = df['price'].values\n",
        "\n",
        "# Split\n",
        "X_train, X_test, y_train, y_test = train_test_split(X,y,test_size=0.3,random_state=42)"
      ]
    },
    {
      "cell_type": "code",
      "execution_count": 8,
      "metadata": {
        "colab": {
          "base_uri": "https://localhost:8080/"
        },
        "id": "Og7BApDqACTU",
        "outputId": "24fcc082-484f-4ee5-c5fb-4403a108f09c"
      },
      "outputs": [
        {
          "output_type": "execute_result",
          "data": {
            "text/plain": [
              "(700, 2)"
            ]
          },
          "metadata": {},
          "execution_count": 8
        }
      ],
      "source": [
        "X_train.shape"
      ]
    },
    {
      "cell_type": "code",
      "execution_count": 9,
      "metadata": {
        "colab": {
          "base_uri": "https://localhost:8080/"
        },
        "id": "ytnYJBW7ACTV",
        "outputId": "320d7e48-465b-427b-f6f0-c039fcbd9fe5"
      },
      "outputs": [
        {
          "output_type": "execute_result",
          "data": {
            "text/plain": [
              "(300, 2)"
            ]
          },
          "metadata": {},
          "execution_count": 9
        }
      ],
      "source": [
        "X_test.shape"
      ]
    },
    {
      "cell_type": "code",
      "execution_count": 10,
      "metadata": {
        "colab": {
          "base_uri": "https://localhost:8080/"
        },
        "id": "_a0tixMxACTV",
        "outputId": "34ba793f-f614-4a77-c210-386c669e96e1"
      },
      "outputs": [
        {
          "output_type": "execute_result",
          "data": {
            "text/plain": [
              "(700,)"
            ]
          },
          "metadata": {},
          "execution_count": 10
        }
      ],
      "source": [
        "y_train.shape"
      ]
    },
    {
      "cell_type": "code",
      "execution_count": 11,
      "metadata": {
        "colab": {
          "base_uri": "https://localhost:8080/"
        },
        "id": "e1CJhVqIACTV",
        "outputId": "d3b777c8-53be-4196-fd56-976c724ee34a"
      },
      "outputs": [
        {
          "output_type": "execute_result",
          "data": {
            "text/plain": [
              "(300,)"
            ]
          },
          "metadata": {},
          "execution_count": 11
        }
      ],
      "source": [
        "y_test.shape"
      ]
    },
    {
      "cell_type": "markdown",
      "metadata": {
        "id": "DwVV-aKcACTV"
      },
      "source": [
        "## Normalizing/Scaling the Data\n",
        "\n",
        "We scale the feature data.\n",
        "\n",
        "[Why we don't need to scale the label](https://stats.stackexchange.com/questions/111467/is-it-necessary-to-scale-the-target-value-in-addition-to-scaling-features-for-re)"
      ]
    },
    {
      "cell_type": "code",
      "execution_count": 12,
      "metadata": {
        "id": "S4gvVbJZACTV"
      },
      "outputs": [],
      "source": [
        "from sklearn.preprocessing import MinMaxScaler"
      ]
    },
    {
      "cell_type": "code",
      "execution_count": 13,
      "metadata": {
        "colab": {
          "base_uri": "https://localhost:8080/"
        },
        "id": "Vh-NcPVXACTV",
        "outputId": "1d130679-0c29-4990-92fe-4e03ccf57973"
      },
      "outputs": [
        {
          "output_type": "stream",
          "name": "stdout",
          "text": [
            "Help on class MinMaxScaler in module sklearn.preprocessing._data:\n",
            "\n",
            "class MinMaxScaler(sklearn.base._OneToOneFeatureMixin, sklearn.base.TransformerMixin, sklearn.base.BaseEstimator)\n",
            " |  MinMaxScaler(feature_range=(0, 1), *, copy=True, clip=False)\n",
            " |  \n",
            " |  Transform features by scaling each feature to a given range.\n",
            " |  \n",
            " |  This estimator scales and translates each feature individually such\n",
            " |  that it is in the given range on the training set, e.g. between\n",
            " |  zero and one.\n",
            " |  \n",
            " |  The transformation is given by::\n",
            " |  \n",
            " |      X_std = (X - X.min(axis=0)) / (X.max(axis=0) - X.min(axis=0))\n",
            " |      X_scaled = X_std * (max - min) + min\n",
            " |  \n",
            " |  where min, max = feature_range.\n",
            " |  \n",
            " |  This transformation is often used as an alternative to zero mean,\n",
            " |  unit variance scaling.\n",
            " |  \n",
            " |  Read more in the :ref:`User Guide <preprocessing_scaler>`.\n",
            " |  \n",
            " |  Parameters\n",
            " |  ----------\n",
            " |  feature_range : tuple (min, max), default=(0, 1)\n",
            " |      Desired range of transformed data.\n",
            " |  \n",
            " |  copy : bool, default=True\n",
            " |      Set to False to perform inplace row normalization and avoid a\n",
            " |      copy (if the input is already a numpy array).\n",
            " |  \n",
            " |  clip : bool, default=False\n",
            " |      Set to True to clip transformed values of held-out data to\n",
            " |      provided `feature range`.\n",
            " |  \n",
            " |      .. versionadded:: 0.24\n",
            " |  \n",
            " |  Attributes\n",
            " |  ----------\n",
            " |  min_ : ndarray of shape (n_features,)\n",
            " |      Per feature adjustment for minimum. Equivalent to\n",
            " |      ``min - X.min(axis=0) * self.scale_``\n",
            " |  \n",
            " |  scale_ : ndarray of shape (n_features,)\n",
            " |      Per feature relative scaling of the data. Equivalent to\n",
            " |      ``(max - min) / (X.max(axis=0) - X.min(axis=0))``\n",
            " |  \n",
            " |      .. versionadded:: 0.17\n",
            " |         *scale_* attribute.\n",
            " |  \n",
            " |  data_min_ : ndarray of shape (n_features,)\n",
            " |      Per feature minimum seen in the data\n",
            " |  \n",
            " |      .. versionadded:: 0.17\n",
            " |         *data_min_*\n",
            " |  \n",
            " |  data_max_ : ndarray of shape (n_features,)\n",
            " |      Per feature maximum seen in the data\n",
            " |  \n",
            " |      .. versionadded:: 0.17\n",
            " |         *data_max_*\n",
            " |  \n",
            " |  data_range_ : ndarray of shape (n_features,)\n",
            " |      Per feature range ``(data_max_ - data_min_)`` seen in the data\n",
            " |  \n",
            " |      .. versionadded:: 0.17\n",
            " |         *data_range_*\n",
            " |  \n",
            " |  n_features_in_ : int\n",
            " |      Number of features seen during :term:`fit`.\n",
            " |  \n",
            " |      .. versionadded:: 0.24\n",
            " |  \n",
            " |  n_samples_seen_ : int\n",
            " |      The number of samples processed by the estimator.\n",
            " |      It will be reset on new calls to fit, but increments across\n",
            " |      ``partial_fit`` calls.\n",
            " |  \n",
            " |  feature_names_in_ : ndarray of shape (`n_features_in_`,)\n",
            " |      Names of features seen during :term:`fit`. Defined only when `X`\n",
            " |      has feature names that are all strings.\n",
            " |  \n",
            " |      .. versionadded:: 1.0\n",
            " |  \n",
            " |  See Also\n",
            " |  --------\n",
            " |  minmax_scale : Equivalent function without the estimator API.\n",
            " |  \n",
            " |  Notes\n",
            " |  -----\n",
            " |  NaNs are treated as missing values: disregarded in fit, and maintained in\n",
            " |  transform.\n",
            " |  \n",
            " |  For a comparison of the different scalers, transformers, and normalizers,\n",
            " |  see :ref:`examples/preprocessing/plot_all_scaling.py\n",
            " |  <sphx_glr_auto_examples_preprocessing_plot_all_scaling.py>`.\n",
            " |  \n",
            " |  Examples\n",
            " |  --------\n",
            " |  >>> from sklearn.preprocessing import MinMaxScaler\n",
            " |  >>> data = [[-1, 2], [-0.5, 6], [0, 10], [1, 18]]\n",
            " |  >>> scaler = MinMaxScaler()\n",
            " |  >>> print(scaler.fit(data))\n",
            " |  MinMaxScaler()\n",
            " |  >>> print(scaler.data_max_)\n",
            " |  [ 1. 18.]\n",
            " |  >>> print(scaler.transform(data))\n",
            " |  [[0.   0.  ]\n",
            " |   [0.25 0.25]\n",
            " |   [0.5  0.5 ]\n",
            " |   [1.   1.  ]]\n",
            " |  >>> print(scaler.transform([[2, 2]]))\n",
            " |  [[1.5 0. ]]\n",
            " |  \n",
            " |  Method resolution order:\n",
            " |      MinMaxScaler\n",
            " |      sklearn.base._OneToOneFeatureMixin\n",
            " |      sklearn.base.TransformerMixin\n",
            " |      sklearn.base.BaseEstimator\n",
            " |      builtins.object\n",
            " |  \n",
            " |  Methods defined here:\n",
            " |  \n",
            " |  __init__(self, feature_range=(0, 1), *, copy=True, clip=False)\n",
            " |      Initialize self.  See help(type(self)) for accurate signature.\n",
            " |  \n",
            " |  fit(self, X, y=None)\n",
            " |      Compute the minimum and maximum to be used for later scaling.\n",
            " |      \n",
            " |      Parameters\n",
            " |      ----------\n",
            " |      X : array-like of shape (n_samples, n_features)\n",
            " |          The data used to compute the per-feature minimum and maximum\n",
            " |          used for later scaling along the features axis.\n",
            " |      \n",
            " |      y : None\n",
            " |          Ignored.\n",
            " |      \n",
            " |      Returns\n",
            " |      -------\n",
            " |      self : object\n",
            " |          Fitted scaler.\n",
            " |  \n",
            " |  inverse_transform(self, X)\n",
            " |      Undo the scaling of X according to feature_range.\n",
            " |      \n",
            " |      Parameters\n",
            " |      ----------\n",
            " |      X : array-like of shape (n_samples, n_features)\n",
            " |          Input data that will be transformed. It cannot be sparse.\n",
            " |      \n",
            " |      Returns\n",
            " |      -------\n",
            " |      Xt : ndarray of shape (n_samples, n_features)\n",
            " |          Transformed data.\n",
            " |  \n",
            " |  partial_fit(self, X, y=None)\n",
            " |      Online computation of min and max on X for later scaling.\n",
            " |      \n",
            " |      All of X is processed as a single batch. This is intended for cases\n",
            " |      when :meth:`fit` is not feasible due to very large number of\n",
            " |      `n_samples` or because X is read from a continuous stream.\n",
            " |      \n",
            " |      Parameters\n",
            " |      ----------\n",
            " |      X : array-like of shape (n_samples, n_features)\n",
            " |          The data used to compute the mean and standard deviation\n",
            " |          used for later scaling along the features axis.\n",
            " |      \n",
            " |      y : None\n",
            " |          Ignored.\n",
            " |      \n",
            " |      Returns\n",
            " |      -------\n",
            " |      self : object\n",
            " |          Fitted scaler.\n",
            " |  \n",
            " |  transform(self, X)\n",
            " |      Scale features of X according to feature_range.\n",
            " |      \n",
            " |      Parameters\n",
            " |      ----------\n",
            " |      X : array-like of shape (n_samples, n_features)\n",
            " |          Input data that will be transformed.\n",
            " |      \n",
            " |      Returns\n",
            " |      -------\n",
            " |      Xt : ndarray of shape (n_samples, n_features)\n",
            " |          Transformed data.\n",
            " |  \n",
            " |  ----------------------------------------------------------------------\n",
            " |  Methods inherited from sklearn.base._OneToOneFeatureMixin:\n",
            " |  \n",
            " |  get_feature_names_out(self, input_features=None)\n",
            " |      Get output feature names for transformation.\n",
            " |      \n",
            " |      Parameters\n",
            " |      ----------\n",
            " |      input_features : array-like of str or None, default=None\n",
            " |          Input features.\n",
            " |      \n",
            " |          - If `input_features` is `None`, then `feature_names_in_` is\n",
            " |            used as feature names in. If `feature_names_in_` is not defined,\n",
            " |            then names are generated: `[x0, x1, ..., x(n_features_in_)]`.\n",
            " |          - If `input_features` is an array-like, then `input_features` must\n",
            " |            match `feature_names_in_` if `feature_names_in_` is defined.\n",
            " |      \n",
            " |      Returns\n",
            " |      -------\n",
            " |      feature_names_out : ndarray of str objects\n",
            " |          Same as input features.\n",
            " |  \n",
            " |  ----------------------------------------------------------------------\n",
            " |  Data descriptors inherited from sklearn.base._OneToOneFeatureMixin:\n",
            " |  \n",
            " |  __dict__\n",
            " |      dictionary for instance variables (if defined)\n",
            " |  \n",
            " |  __weakref__\n",
            " |      list of weak references to the object (if defined)\n",
            " |  \n",
            " |  ----------------------------------------------------------------------\n",
            " |  Methods inherited from sklearn.base.TransformerMixin:\n",
            " |  \n",
            " |  fit_transform(self, X, y=None, **fit_params)\n",
            " |      Fit to data, then transform it.\n",
            " |      \n",
            " |      Fits transformer to `X` and `y` with optional parameters `fit_params`\n",
            " |      and returns a transformed version of `X`.\n",
            " |      \n",
            " |      Parameters\n",
            " |      ----------\n",
            " |      X : array-like of shape (n_samples, n_features)\n",
            " |          Input samples.\n",
            " |      \n",
            " |      y :  array-like of shape (n_samples,) or (n_samples, n_outputs),                 default=None\n",
            " |          Target values (None for unsupervised transformations).\n",
            " |      \n",
            " |      **fit_params : dict\n",
            " |          Additional fit parameters.\n",
            " |      \n",
            " |      Returns\n",
            " |      -------\n",
            " |      X_new : ndarray array of shape (n_samples, n_features_new)\n",
            " |          Transformed array.\n",
            " |  \n",
            " |  ----------------------------------------------------------------------\n",
            " |  Methods inherited from sklearn.base.BaseEstimator:\n",
            " |  \n",
            " |  __getstate__(self)\n",
            " |  \n",
            " |  __repr__(self, N_CHAR_MAX=700)\n",
            " |      Return repr(self).\n",
            " |  \n",
            " |  __setstate__(self, state)\n",
            " |  \n",
            " |  get_params(self, deep=True)\n",
            " |      Get parameters for this estimator.\n",
            " |      \n",
            " |      Parameters\n",
            " |      ----------\n",
            " |      deep : bool, default=True\n",
            " |          If True, will return the parameters for this estimator and\n",
            " |          contained subobjects that are estimators.\n",
            " |      \n",
            " |      Returns\n",
            " |      -------\n",
            " |      params : dict\n",
            " |          Parameter names mapped to their values.\n",
            " |  \n",
            " |  set_params(self, **params)\n",
            " |      Set the parameters of this estimator.\n",
            " |      \n",
            " |      The method works on simple estimators as well as on nested objects\n",
            " |      (such as :class:`~sklearn.pipeline.Pipeline`). The latter have\n",
            " |      parameters of the form ``<component>__<parameter>`` so that it's\n",
            " |      possible to update each component of a nested object.\n",
            " |      \n",
            " |      Parameters\n",
            " |      ----------\n",
            " |      **params : dict\n",
            " |          Estimator parameters.\n",
            " |      \n",
            " |      Returns\n",
            " |      -------\n",
            " |      self : estimator instance\n",
            " |          Estimator instance.\n",
            "\n"
          ]
        }
      ],
      "source": [
        "help(MinMaxScaler)"
      ]
    },
    {
      "cell_type": "code",
      "execution_count": 14,
      "metadata": {
        "id": "K7EQfo2uACTV"
      },
      "outputs": [],
      "source": [
        "scaler = MinMaxScaler()"
      ]
    },
    {
      "cell_type": "code",
      "execution_count": 15,
      "metadata": {
        "id": "aqpeSS5PACTV"
      },
      "outputs": [],
      "source": [
        "# Notice to prevent data leakage from the test set, we only fit our scaler to the training set"
      ]
    },
    {
      "cell_type": "code",
      "execution_count": 16,
      "metadata": {
        "colab": {
          "base_uri": "https://localhost:8080/"
        },
        "id": "I3BYGIdGACTW",
        "outputId": "414ff1db-2a48-451e-d183-1266e664872f"
      },
      "outputs": [
        {
          "output_type": "execute_result",
          "data": {
            "text/plain": [
              "MinMaxScaler()"
            ]
          },
          "metadata": {},
          "execution_count": 16
        }
      ],
      "source": [
        "scaler.fit(X_train)"
      ]
    },
    {
      "cell_type": "code",
      "execution_count": 17,
      "metadata": {
        "id": "9V5quGNjACTW"
      },
      "outputs": [],
      "source": [
        "X_train = scaler.transform(X_train)\n",
        "X_test = scaler.transform(X_test)"
      ]
    },
    {
      "cell_type": "markdown",
      "metadata": {
        "id": "e5T9sjkBACTW"
      },
      "source": [
        "# TensorFlow 2.0 Syntax\n",
        "\n",
        "\n",
        "## Import Options\n",
        "\n",
        "There are several ways you can import Keras from Tensorflow (this is hugely a personal style choice, please use any import methods you prefer). We will use the method shown in the **official TF documentation**."
      ]
    },
    {
      "cell_type": "code",
      "execution_count": 18,
      "metadata": {
        "id": "u5Vk8TY_ACTW"
      },
      "outputs": [],
      "source": [
        "import tensorflow as tf"
      ]
    },
    {
      "cell_type": "code",
      "execution_count": 19,
      "metadata": {
        "id": "m5BE8POcACTW"
      },
      "outputs": [],
      "source": [
        "from tensorflow.keras.models import Sequential"
      ]
    },
    {
      "cell_type": "markdown",
      "metadata": {
        "id": "2TJfxmFSACTW"
      },
      "source": [
        "## Creating a Model\n",
        "\n",
        "There are two ways to create models through the TF 2 Keras API, either pass in a list of layers all at once, or add them one by one.\n",
        "\n",
        "Let's show both methods (its up to you to choose which method you prefer)."
      ]
    },
    {
      "cell_type": "code",
      "execution_count": 21,
      "metadata": {
        "id": "RrTrK4UuACTX"
      },
      "outputs": [],
      "source": [
        "from tensorflow.keras.models import Sequential\n",
        "from tensorflow.keras.layers import Dense, Activation"
      ]
    },
    {
      "cell_type": "markdown",
      "metadata": {
        "id": "oeODFztJACTX"
      },
      "source": [
        "### Model - as a list of layers"
      ]
    },
    {
      "cell_type": "code",
      "execution_count": 22,
      "metadata": {
        "id": "QAuoDbvHACTX"
      },
      "outputs": [],
      "source": [
        "model = Sequential([\n",
        "    Dense(units=2),\n",
        "    Dense(units=2),\n",
        "    Dense(units=2)\n",
        "])"
      ]
    },
    {
      "cell_type": "markdown",
      "metadata": {
        "id": "gcBEylvwACTX"
      },
      "source": [
        "### Model - adding in layers one by one"
      ]
    },
    {
      "cell_type": "code",
      "execution_count": 23,
      "metadata": {
        "id": "r_7bwYaVACTX"
      },
      "outputs": [],
      "source": [
        "model = Sequential()\n",
        "\n",
        "model.add(Dense(2))\n",
        "model.add(Dense(2))\n",
        "model.add(Dense(2))"
      ]
    },
    {
      "cell_type": "markdown",
      "metadata": {
        "id": "Cf0ghkg0ACTX"
      },
      "source": [
        "Let's go ahead and build a simple model and then compile it by defining our solver"
      ]
    },
    {
      "cell_type": "code",
      "execution_count": 24,
      "metadata": {
        "id": "xJMLnPFfACTX"
      },
      "outputs": [],
      "source": [
        "model = Sequential()\n",
        "\n",
        "model.add(Dense(4,activation='relu'))\n",
        "model.add(Dense(4,activation='relu'))\n",
        "model.add(Dense(4,activation='relu'))\n",
        "\n",
        "# Final output node for prediction\n",
        "model.add(Dense(1))\n",
        "\n",
        "model.compile(optimizer='rmsprop',loss='mse')"
      ]
    },
    {
      "cell_type": "markdown",
      "metadata": {
        "id": "W1Wsb1VQACTY"
      },
      "source": [
        "### Choosing an optimizer and loss\n",
        "\n",
        "Keep in mind what kind of problem you are trying to solve:\n",
        "\n",
        "    # For a multi-class classification problem\n",
        "    model.compile(optimizer='rmsprop',\n",
        "                  loss='categorical_crossentropy',\n",
        "                  metrics=['accuracy'])\n",
        "\n",
        "    # For a binary classification problem\n",
        "    model.compile(optimizer='rmsprop',\n",
        "                  loss='binary_crossentropy',\n",
        "                  metrics=['accuracy'])\n",
        "\n",
        "    # For a mean squared error regression problem\n",
        "    model.compile(optimizer='rmsprop',\n",
        "                  loss='mse')"
      ]
    },
    {
      "cell_type": "markdown",
      "metadata": {
        "id": "IRWDDZc1ACTY"
      },
      "source": [
        "# Training\n",
        "\n",
        "Below are some common definitions that are necessary to know and understand to correctly utilize Keras:\n",
        "\n",
        "* Sample: one element of a dataset.\n",
        "    * Example: one image is a sample in a convolutional network\n",
        "    * Example: one audio file is a sample for a speech recognition model\n",
        "* Batch: a set of N samples. The samples in a batch are processed independently, in parallel. If training, a batch results in only one update to the model.A batch generally approximates the distribution of the input data better than a single input. The larger the batch, the better the approximation; however, it is also true that the batch will take longer to process and will still result in only one update. For inference (evaluate/predict), it is recommended to pick a batch size that is as large as you can afford without going out of memory (since larger batches will usually result in faster evaluation/prediction).\n",
        "* Epoch: an arbitrary cutoff, generally defined as \"one pass over the entire dataset\", used to separate training into distinct phases, which is useful for logging and periodic evaluation.\n",
        "* When using validation_data or validation_split with the fit method of Keras models, evaluation will be run at the end of every epoch.\n",
        "* Within Keras, there is the ability to add callbacks specifically designed to be run at the end of an epoch. Examples of these are learning rate changes and model checkpointing (saving)."
      ]
    },
    {
      "cell_type": "code",
      "execution_count": 25,
      "metadata": {
        "colab": {
          "base_uri": "https://localhost:8080/"
        },
        "id": "Rn9LaRc6ACTY",
        "outputId": "bc8ca1ff-7201-4258-84cc-2a3fe3b83648"
      },
      "outputs": [
        {
          "output_type": "stream",
          "name": "stdout",
          "text": [
            "Epoch 1/250\n",
            "22/22 [==============================] - 1s 2ms/step - loss: 255990.2344\n",
            "Epoch 2/250\n",
            "22/22 [==============================] - 0s 2ms/step - loss: 255729.8281\n",
            "Epoch 3/250\n",
            "22/22 [==============================] - 0s 2ms/step - loss: 255472.2031\n",
            "Epoch 4/250\n",
            "22/22 [==============================] - 0s 2ms/step - loss: 255194.9062\n",
            "Epoch 5/250\n",
            "22/22 [==============================] - 0s 2ms/step - loss: 254894.7656\n",
            "Epoch 6/250\n",
            "22/22 [==============================] - 0s 2ms/step - loss: 254569.2344\n",
            "Epoch 7/250\n",
            "22/22 [==============================] - 0s 2ms/step - loss: 254221.3906\n",
            "Epoch 8/250\n",
            "22/22 [==============================] - 0s 2ms/step - loss: 253849.9375\n",
            "Epoch 9/250\n",
            "22/22 [==============================] - 0s 2ms/step - loss: 253451.6094\n",
            "Epoch 10/250\n",
            "22/22 [==============================] - 0s 2ms/step - loss: 253023.7656\n",
            "Epoch 11/250\n",
            "22/22 [==============================] - 0s 2ms/step - loss: 252559.2969\n",
            "Epoch 12/250\n",
            "22/22 [==============================] - 0s 2ms/step - loss: 252054.2344\n",
            "Epoch 13/250\n",
            "22/22 [==============================] - 0s 2ms/step - loss: 251504.9844\n",
            "Epoch 14/250\n",
            "22/22 [==============================] - 0s 2ms/step - loss: 250915.5469\n",
            "Epoch 15/250\n",
            "22/22 [==============================] - 0s 3ms/step - loss: 250278.2188\n",
            "Epoch 16/250\n",
            "22/22 [==============================] - 0s 2ms/step - loss: 249592.4375\n",
            "Epoch 17/250\n",
            "22/22 [==============================] - 0s 2ms/step - loss: 248854.0156\n",
            "Epoch 18/250\n",
            "22/22 [==============================] - 0s 2ms/step - loss: 248061.8906\n",
            "Epoch 19/250\n",
            "22/22 [==============================] - 0s 2ms/step - loss: 247214.8594\n",
            "Epoch 20/250\n",
            "22/22 [==============================] - 0s 2ms/step - loss: 246311.4062\n",
            "Epoch 21/250\n",
            "22/22 [==============================] - 0s 2ms/step - loss: 245352.6094\n",
            "Epoch 22/250\n",
            "22/22 [==============================] - 0s 2ms/step - loss: 244326.7188\n",
            "Epoch 23/250\n",
            "22/22 [==============================] - 0s 2ms/step - loss: 243232.9219\n",
            "Epoch 24/250\n",
            "22/22 [==============================] - 0s 2ms/step - loss: 242068.9531\n",
            "Epoch 25/250\n",
            "22/22 [==============================] - 0s 2ms/step - loss: 240839.9062\n",
            "Epoch 26/250\n",
            "22/22 [==============================] - 0s 2ms/step - loss: 239537.4375\n",
            "Epoch 27/250\n",
            "22/22 [==============================] - 0s 2ms/step - loss: 238153.2500\n",
            "Epoch 28/250\n",
            "22/22 [==============================] - 0s 3ms/step - loss: 236689.8281\n",
            "Epoch 29/250\n",
            "22/22 [==============================] - 0s 3ms/step - loss: 235154.4219\n",
            "Epoch 30/250\n",
            "22/22 [==============================] - 0s 2ms/step - loss: 233528.8281\n",
            "Epoch 31/250\n",
            "22/22 [==============================] - 0s 2ms/step - loss: 231817.2188\n",
            "Epoch 32/250\n",
            "22/22 [==============================] - 0s 3ms/step - loss: 230032.9375\n",
            "Epoch 33/250\n",
            "22/22 [==============================] - 0s 3ms/step - loss: 228144.8906\n",
            "Epoch 34/250\n",
            "22/22 [==============================] - 0s 3ms/step - loss: 226166.2188\n",
            "Epoch 35/250\n",
            "22/22 [==============================] - 0s 3ms/step - loss: 224087.0781\n",
            "Epoch 36/250\n",
            "22/22 [==============================] - 0s 5ms/step - loss: 221909.2344\n",
            "Epoch 37/250\n",
            "22/22 [==============================] - 0s 3ms/step - loss: 219630.8125\n",
            "Epoch 38/250\n",
            "22/22 [==============================] - 0s 5ms/step - loss: 217264.0938\n",
            "Epoch 39/250\n",
            "22/22 [==============================] - 0s 5ms/step - loss: 214797.8438\n",
            "Epoch 40/250\n",
            "22/22 [==============================] - 0s 5ms/step - loss: 212208.8281\n",
            "Epoch 41/250\n",
            "22/22 [==============================] - 0s 5ms/step - loss: 209521.9844\n",
            "Epoch 42/250\n",
            "22/22 [==============================] - 0s 4ms/step - loss: 206712.4531\n",
            "Epoch 43/250\n",
            "22/22 [==============================] - 0s 4ms/step - loss: 203805.0000\n",
            "Epoch 44/250\n",
            "22/22 [==============================] - 0s 6ms/step - loss: 200794.7812\n",
            "Epoch 45/250\n",
            "22/22 [==============================] - 0s 6ms/step - loss: 197670.6094\n",
            "Epoch 46/250\n",
            "22/22 [==============================] - 0s 6ms/step - loss: 194435.0156\n",
            "Epoch 47/250\n",
            "22/22 [==============================] - 0s 5ms/step - loss: 191064.2969\n",
            "Epoch 48/250\n",
            "22/22 [==============================] - 0s 9ms/step - loss: 187604.2031\n",
            "Epoch 49/250\n",
            "22/22 [==============================] - 0s 6ms/step - loss: 184020.9688\n",
            "Epoch 50/250\n",
            "22/22 [==============================] - 0s 3ms/step - loss: 180323.2969\n",
            "Epoch 51/250\n",
            "22/22 [==============================] - 0s 6ms/step - loss: 176526.4375\n",
            "Epoch 52/250\n",
            "22/22 [==============================] - 0s 5ms/step - loss: 172618.8438\n",
            "Epoch 53/250\n",
            "22/22 [==============================] - 0s 6ms/step - loss: 168596.0156\n",
            "Epoch 54/250\n",
            "22/22 [==============================] - 0s 6ms/step - loss: 164459.4688\n",
            "Epoch 55/250\n",
            "22/22 [==============================] - 0s 4ms/step - loss: 160225.7344\n",
            "Epoch 56/250\n",
            "22/22 [==============================] - 0s 6ms/step - loss: 155900.8438\n",
            "Epoch 57/250\n",
            "22/22 [==============================] - 0s 7ms/step - loss: 151445.9844\n",
            "Epoch 58/250\n",
            "22/22 [==============================] - 0s 7ms/step - loss: 146888.6562\n",
            "Epoch 59/250\n",
            "22/22 [==============================] - 0s 6ms/step - loss: 142276.6094\n",
            "Epoch 60/250\n",
            "22/22 [==============================] - 0s 4ms/step - loss: 137557.3594\n",
            "Epoch 61/250\n",
            "22/22 [==============================] - 0s 4ms/step - loss: 132748.6094\n",
            "Epoch 62/250\n",
            "22/22 [==============================] - 0s 4ms/step - loss: 127846.2969\n",
            "Epoch 63/250\n",
            "22/22 [==============================] - 0s 4ms/step - loss: 122879.3359\n",
            "Epoch 64/250\n",
            "22/22 [==============================] - 0s 3ms/step - loss: 117862.6094\n",
            "Epoch 65/250\n",
            "22/22 [==============================] - 0s 8ms/step - loss: 112771.9531\n",
            "Epoch 66/250\n",
            "22/22 [==============================] - 0s 6ms/step - loss: 107636.0938\n",
            "Epoch 67/250\n",
            "22/22 [==============================] - 0s 4ms/step - loss: 102452.6484\n",
            "Epoch 68/250\n",
            "22/22 [==============================] - 0s 8ms/step - loss: 97234.9844\n",
            "Epoch 69/250\n",
            "22/22 [==============================] - 0s 4ms/step - loss: 92003.3750\n",
            "Epoch 70/250\n",
            "22/22 [==============================] - 0s 2ms/step - loss: 86740.3594\n",
            "Epoch 71/250\n",
            "22/22 [==============================] - 0s 2ms/step - loss: 81469.1328\n",
            "Epoch 72/250\n",
            "22/22 [==============================] - 0s 2ms/step - loss: 76250.5312\n",
            "Epoch 73/250\n",
            "22/22 [==============================] - 0s 2ms/step - loss: 71035.0312\n",
            "Epoch 74/250\n",
            "22/22 [==============================] - 0s 2ms/step - loss: 65862.4688\n",
            "Epoch 75/250\n",
            "22/22 [==============================] - 0s 2ms/step - loss: 60734.9648\n",
            "Epoch 76/250\n",
            "22/22 [==============================] - 0s 2ms/step - loss: 55693.7148\n",
            "Epoch 77/250\n",
            "22/22 [==============================] - 0s 2ms/step - loss: 50745.1328\n",
            "Epoch 78/250\n",
            "22/22 [==============================] - 0s 2ms/step - loss: 45918.1406\n",
            "Epoch 79/250\n",
            "22/22 [==============================] - 0s 2ms/step - loss: 41172.8516\n",
            "Epoch 80/250\n",
            "22/22 [==============================] - 0s 2ms/step - loss: 36639.8359\n",
            "Epoch 81/250\n",
            "22/22 [==============================] - 0s 2ms/step - loss: 32228.8711\n",
            "Epoch 82/250\n",
            "22/22 [==============================] - 0s 2ms/step - loss: 28045.6973\n",
            "Epoch 83/250\n",
            "22/22 [==============================] - 0s 2ms/step - loss: 24059.6230\n",
            "Epoch 84/250\n",
            "22/22 [==============================] - 0s 2ms/step - loss: 20342.7520\n",
            "Epoch 85/250\n",
            "22/22 [==============================] - 0s 3ms/step - loss: 16869.9629\n",
            "Epoch 86/250\n",
            "22/22 [==============================] - 0s 2ms/step - loss: 13694.7939\n",
            "Epoch 87/250\n",
            "22/22 [==============================] - 0s 2ms/step - loss: 10857.0166\n",
            "Epoch 88/250\n",
            "22/22 [==============================] - 0s 2ms/step - loss: 8373.9980\n",
            "Epoch 89/250\n",
            "22/22 [==============================] - 0s 2ms/step - loss: 6263.2588\n",
            "Epoch 90/250\n",
            "22/22 [==============================] - 0s 2ms/step - loss: 4586.2983\n",
            "Epoch 91/250\n",
            "22/22 [==============================] - 0s 3ms/step - loss: 3286.5276\n",
            "Epoch 92/250\n",
            "22/22 [==============================] - 0s 2ms/step - loss: 2403.5369\n",
            "Epoch 93/250\n",
            "22/22 [==============================] - 0s 2ms/step - loss: 1925.7488\n",
            "Epoch 94/250\n",
            "22/22 [==============================] - 0s 2ms/step - loss: 1758.3646\n",
            "Epoch 95/250\n",
            "22/22 [==============================] - 0s 3ms/step - loss: 1723.1199\n",
            "Epoch 96/250\n",
            "22/22 [==============================] - 0s 2ms/step - loss: 1698.4034\n",
            "Epoch 97/250\n",
            "22/22 [==============================] - 0s 2ms/step - loss: 1670.5721\n",
            "Epoch 98/250\n",
            "22/22 [==============================] - 0s 2ms/step - loss: 1639.8472\n",
            "Epoch 99/250\n",
            "22/22 [==============================] - 0s 2ms/step - loss: 1611.5093\n",
            "Epoch 100/250\n",
            "22/22 [==============================] - 0s 2ms/step - loss: 1587.5560\n",
            "Epoch 101/250\n",
            "22/22 [==============================] - 0s 2ms/step - loss: 1558.5205\n",
            "Epoch 102/250\n",
            "22/22 [==============================] - 0s 2ms/step - loss: 1531.8269\n",
            "Epoch 103/250\n",
            "22/22 [==============================] - 0s 2ms/step - loss: 1508.5432\n",
            "Epoch 104/250\n",
            "22/22 [==============================] - 0s 2ms/step - loss: 1478.9198\n",
            "Epoch 105/250\n",
            "22/22 [==============================] - 0s 2ms/step - loss: 1455.9309\n",
            "Epoch 106/250\n",
            "22/22 [==============================] - 0s 2ms/step - loss: 1427.5548\n",
            "Epoch 107/250\n",
            "22/22 [==============================] - 0s 2ms/step - loss: 1399.4628\n",
            "Epoch 108/250\n",
            "22/22 [==============================] - 0s 2ms/step - loss: 1372.5354\n",
            "Epoch 109/250\n",
            "22/22 [==============================] - 0s 2ms/step - loss: 1345.5688\n",
            "Epoch 110/250\n",
            "22/22 [==============================] - 0s 2ms/step - loss: 1316.3375\n",
            "Epoch 111/250\n",
            "22/22 [==============================] - 0s 2ms/step - loss: 1291.1670\n",
            "Epoch 112/250\n",
            "22/22 [==============================] - 0s 2ms/step - loss: 1262.9248\n",
            "Epoch 113/250\n",
            "22/22 [==============================] - 0s 3ms/step - loss: 1239.7119\n",
            "Epoch 114/250\n",
            "22/22 [==============================] - 0s 2ms/step - loss: 1213.4640\n",
            "Epoch 115/250\n",
            "22/22 [==============================] - 0s 2ms/step - loss: 1189.9220\n",
            "Epoch 116/250\n",
            "22/22 [==============================] - 0s 2ms/step - loss: 1164.8018\n",
            "Epoch 117/250\n",
            "22/22 [==============================] - 0s 2ms/step - loss: 1143.5471\n",
            "Epoch 118/250\n",
            "22/22 [==============================] - 0s 2ms/step - loss: 1118.8809\n",
            "Epoch 119/250\n",
            "22/22 [==============================] - 0s 2ms/step - loss: 1094.5992\n",
            "Epoch 120/250\n",
            "22/22 [==============================] - 0s 2ms/step - loss: 1069.6943\n",
            "Epoch 121/250\n",
            "22/22 [==============================] - 0s 2ms/step - loss: 1046.4866\n",
            "Epoch 122/250\n",
            "22/22 [==============================] - 0s 2ms/step - loss: 1025.2864\n",
            "Epoch 123/250\n",
            "22/22 [==============================] - 0s 2ms/step - loss: 1004.5587\n",
            "Epoch 124/250\n",
            "22/22 [==============================] - 0s 2ms/step - loss: 983.3779\n",
            "Epoch 125/250\n",
            "22/22 [==============================] - 0s 2ms/step - loss: 960.8763\n",
            "Epoch 126/250\n",
            "22/22 [==============================] - 0s 2ms/step - loss: 938.0303\n",
            "Epoch 127/250\n",
            "22/22 [==============================] - 0s 2ms/step - loss: 917.0782\n",
            "Epoch 128/250\n",
            "22/22 [==============================] - 0s 2ms/step - loss: 888.6778\n",
            "Epoch 129/250\n",
            "22/22 [==============================] - 0s 2ms/step - loss: 872.7518\n",
            "Epoch 130/250\n",
            "22/22 [==============================] - 0s 2ms/step - loss: 847.4966\n",
            "Epoch 131/250\n",
            "22/22 [==============================] - 0s 2ms/step - loss: 826.3038\n",
            "Epoch 132/250\n",
            "22/22 [==============================] - 0s 2ms/step - loss: 805.5255\n",
            "Epoch 133/250\n",
            "22/22 [==============================] - 0s 3ms/step - loss: 782.9443\n",
            "Epoch 134/250\n",
            "22/22 [==============================] - 0s 2ms/step - loss: 758.8869\n",
            "Epoch 135/250\n",
            "22/22 [==============================] - 0s 2ms/step - loss: 735.4260\n",
            "Epoch 136/250\n",
            "22/22 [==============================] - 0s 2ms/step - loss: 713.8996\n",
            "Epoch 137/250\n",
            "22/22 [==============================] - 0s 2ms/step - loss: 689.2097\n",
            "Epoch 138/250\n",
            "22/22 [==============================] - 0s 2ms/step - loss: 666.3646\n",
            "Epoch 139/250\n",
            "22/22 [==============================] - 0s 2ms/step - loss: 644.9069\n",
            "Epoch 140/250\n",
            "22/22 [==============================] - 0s 2ms/step - loss: 629.3688\n",
            "Epoch 141/250\n",
            "22/22 [==============================] - 0s 2ms/step - loss: 609.2946\n",
            "Epoch 142/250\n",
            "22/22 [==============================] - 0s 2ms/step - loss: 590.5057\n",
            "Epoch 143/250\n",
            "22/22 [==============================] - 0s 2ms/step - loss: 571.1417\n",
            "Epoch 144/250\n",
            "22/22 [==============================] - 0s 2ms/step - loss: 553.3381\n",
            "Epoch 145/250\n",
            "22/22 [==============================] - 0s 2ms/step - loss: 532.1641\n",
            "Epoch 146/250\n",
            "22/22 [==============================] - 0s 2ms/step - loss: 514.8461\n",
            "Epoch 147/250\n",
            "22/22 [==============================] - 0s 2ms/step - loss: 497.0856\n",
            "Epoch 148/250\n",
            "22/22 [==============================] - 0s 4ms/step - loss: 478.4697\n",
            "Epoch 149/250\n",
            "22/22 [==============================] - 0s 5ms/step - loss: 460.0237\n",
            "Epoch 150/250\n",
            "22/22 [==============================] - 0s 4ms/step - loss: 440.3329\n",
            "Epoch 151/250\n",
            "22/22 [==============================] - 0s 3ms/step - loss: 421.1476\n",
            "Epoch 152/250\n",
            "22/22 [==============================] - 0s 4ms/step - loss: 404.4854\n",
            "Epoch 153/250\n",
            "22/22 [==============================] - 0s 4ms/step - loss: 388.1433\n",
            "Epoch 154/250\n",
            "22/22 [==============================] - 0s 4ms/step - loss: 371.8426\n",
            "Epoch 155/250\n",
            "22/22 [==============================] - 0s 6ms/step - loss: 356.1284\n",
            "Epoch 156/250\n",
            "22/22 [==============================] - 0s 4ms/step - loss: 341.9357\n",
            "Epoch 157/250\n",
            "22/22 [==============================] - 0s 3ms/step - loss: 328.6422\n",
            "Epoch 158/250\n",
            "22/22 [==============================] - 0s 3ms/step - loss: 312.6223\n",
            "Epoch 159/250\n",
            "22/22 [==============================] - 0s 4ms/step - loss: 299.6360\n",
            "Epoch 160/250\n",
            "22/22 [==============================] - 0s 2ms/step - loss: 286.0933\n",
            "Epoch 161/250\n",
            "22/22 [==============================] - 0s 2ms/step - loss: 272.9462\n",
            "Epoch 162/250\n",
            "22/22 [==============================] - 0s 2ms/step - loss: 260.2258\n",
            "Epoch 163/250\n",
            "22/22 [==============================] - 0s 2ms/step - loss: 247.4792\n",
            "Epoch 164/250\n",
            "22/22 [==============================] - 0s 2ms/step - loss: 233.6105\n",
            "Epoch 165/250\n",
            "22/22 [==============================] - 0s 2ms/step - loss: 220.1533\n",
            "Epoch 166/250\n",
            "22/22 [==============================] - 0s 2ms/step - loss: 208.0065\n",
            "Epoch 167/250\n",
            "22/22 [==============================] - 0s 2ms/step - loss: 196.3495\n",
            "Epoch 168/250\n",
            "22/22 [==============================] - 0s 2ms/step - loss: 184.7581\n",
            "Epoch 169/250\n",
            "22/22 [==============================] - 0s 2ms/step - loss: 173.7454\n",
            "Epoch 170/250\n",
            "22/22 [==============================] - 0s 2ms/step - loss: 163.5799\n",
            "Epoch 171/250\n",
            "22/22 [==============================] - 0s 2ms/step - loss: 153.0479\n",
            "Epoch 172/250\n",
            "22/22 [==============================] - 0s 2ms/step - loss: 143.1565\n",
            "Epoch 173/250\n",
            "22/22 [==============================] - 0s 2ms/step - loss: 133.2762\n",
            "Epoch 174/250\n",
            "22/22 [==============================] - 0s 2ms/step - loss: 125.4996\n",
            "Epoch 175/250\n",
            "22/22 [==============================] - 0s 2ms/step - loss: 118.3650\n",
            "Epoch 176/250\n",
            "22/22 [==============================] - 0s 2ms/step - loss: 111.2910\n",
            "Epoch 177/250\n",
            "22/22 [==============================] - 0s 2ms/step - loss: 103.1459\n",
            "Epoch 178/250\n",
            "22/22 [==============================] - 0s 2ms/step - loss: 96.4381\n",
            "Epoch 179/250\n",
            "22/22 [==============================] - 0s 2ms/step - loss: 88.1001\n",
            "Epoch 180/250\n",
            "22/22 [==============================] - 0s 3ms/step - loss: 82.2422\n",
            "Epoch 181/250\n",
            "22/22 [==============================] - 0s 2ms/step - loss: 75.9380\n",
            "Epoch 182/250\n",
            "22/22 [==============================] - 0s 2ms/step - loss: 71.1011\n",
            "Epoch 183/250\n",
            "22/22 [==============================] - 0s 2ms/step - loss: 66.1644\n",
            "Epoch 184/250\n",
            "22/22 [==============================] - 0s 2ms/step - loss: 60.4891\n",
            "Epoch 185/250\n",
            "22/22 [==============================] - 0s 2ms/step - loss: 56.5342\n",
            "Epoch 186/250\n",
            "22/22 [==============================] - 0s 2ms/step - loss: 52.0135\n",
            "Epoch 187/250\n",
            "22/22 [==============================] - 0s 2ms/step - loss: 48.2940\n",
            "Epoch 188/250\n",
            "22/22 [==============================] - 0s 2ms/step - loss: 44.8045\n",
            "Epoch 189/250\n",
            "22/22 [==============================] - 0s 2ms/step - loss: 41.7324\n",
            "Epoch 190/250\n",
            "22/22 [==============================] - 0s 2ms/step - loss: 38.9305\n",
            "Epoch 191/250\n",
            "22/22 [==============================] - 0s 3ms/step - loss: 36.9219\n",
            "Epoch 192/250\n",
            "22/22 [==============================] - 0s 2ms/step - loss: 34.6842\n",
            "Epoch 193/250\n",
            "22/22 [==============================] - 0s 2ms/step - loss: 32.9822\n",
            "Epoch 194/250\n",
            "22/22 [==============================] - 0s 2ms/step - loss: 32.0068\n",
            "Epoch 195/250\n",
            "22/22 [==============================] - 0s 2ms/step - loss: 30.5896\n",
            "Epoch 196/250\n",
            "22/22 [==============================] - 0s 3ms/step - loss: 29.8913\n",
            "Epoch 197/250\n",
            "22/22 [==============================] - 0s 4ms/step - loss: 28.7064\n",
            "Epoch 198/250\n",
            "22/22 [==============================] - 0s 3ms/step - loss: 27.8378\n",
            "Epoch 199/250\n",
            "22/22 [==============================] - 0s 3ms/step - loss: 27.2760\n",
            "Epoch 200/250\n",
            "22/22 [==============================] - 0s 2ms/step - loss: 26.8623\n",
            "Epoch 201/250\n",
            "22/22 [==============================] - 0s 2ms/step - loss: 26.2964\n",
            "Epoch 202/250\n",
            "22/22 [==============================] - 0s 2ms/step - loss: 26.1884\n",
            "Epoch 203/250\n",
            "22/22 [==============================] - 0s 2ms/step - loss: 25.8626\n",
            "Epoch 204/250\n",
            "22/22 [==============================] - 0s 2ms/step - loss: 25.5507\n",
            "Epoch 205/250\n",
            "22/22 [==============================] - 0s 2ms/step - loss: 25.6221\n",
            "Epoch 206/250\n",
            "22/22 [==============================] - 0s 2ms/step - loss: 25.2892\n",
            "Epoch 207/250\n",
            "22/22 [==============================] - 0s 2ms/step - loss: 24.5873\n",
            "Epoch 208/250\n",
            "22/22 [==============================] - 0s 3ms/step - loss: 24.5349\n",
            "Epoch 209/250\n",
            "22/22 [==============================] - 0s 2ms/step - loss: 24.9862\n",
            "Epoch 210/250\n",
            "22/22 [==============================] - 0s 2ms/step - loss: 24.6366\n",
            "Epoch 211/250\n",
            "22/22 [==============================] - 0s 2ms/step - loss: 24.6634\n",
            "Epoch 212/250\n",
            "22/22 [==============================] - 0s 2ms/step - loss: 24.4002\n",
            "Epoch 213/250\n",
            "22/22 [==============================] - 0s 2ms/step - loss: 24.5542\n",
            "Epoch 214/250\n",
            "22/22 [==============================] - 0s 3ms/step - loss: 24.2521\n",
            "Epoch 215/250\n",
            "22/22 [==============================] - 0s 3ms/step - loss: 24.3476\n",
            "Epoch 216/250\n",
            "22/22 [==============================] - 0s 2ms/step - loss: 24.2837\n",
            "Epoch 217/250\n",
            "22/22 [==============================] - 0s 2ms/step - loss: 24.2734\n",
            "Epoch 218/250\n",
            "22/22 [==============================] - 0s 2ms/step - loss: 24.3858\n",
            "Epoch 219/250\n",
            "22/22 [==============================] - 0s 2ms/step - loss: 24.2067\n",
            "Epoch 220/250\n",
            "22/22 [==============================] - 0s 3ms/step - loss: 24.1647\n",
            "Epoch 221/250\n",
            "22/22 [==============================] - 0s 2ms/step - loss: 24.3292\n",
            "Epoch 222/250\n",
            "22/22 [==============================] - 0s 2ms/step - loss: 24.0893\n",
            "Epoch 223/250\n",
            "22/22 [==============================] - 0s 2ms/step - loss: 23.8699\n",
            "Epoch 224/250\n",
            "22/22 [==============================] - 0s 2ms/step - loss: 24.3932\n",
            "Epoch 225/250\n",
            "22/22 [==============================] - 0s 2ms/step - loss: 24.2948\n",
            "Epoch 226/250\n",
            "22/22 [==============================] - 0s 2ms/step - loss: 24.0341\n",
            "Epoch 227/250\n",
            "22/22 [==============================] - 0s 2ms/step - loss: 24.1747\n",
            "Epoch 228/250\n",
            "22/22 [==============================] - 0s 2ms/step - loss: 24.0698\n",
            "Epoch 229/250\n",
            "22/22 [==============================] - 0s 3ms/step - loss: 23.9510\n",
            "Epoch 230/250\n",
            "22/22 [==============================] - 0s 2ms/step - loss: 24.2296\n",
            "Epoch 231/250\n",
            "22/22 [==============================] - 0s 2ms/step - loss: 24.3768\n",
            "Epoch 232/250\n",
            "22/22 [==============================] - 0s 2ms/step - loss: 24.5096\n",
            "Epoch 233/250\n",
            "22/22 [==============================] - 0s 3ms/step - loss: 24.0653\n",
            "Epoch 234/250\n",
            "22/22 [==============================] - 0s 2ms/step - loss: 24.2624\n",
            "Epoch 235/250\n",
            "22/22 [==============================] - 0s 2ms/step - loss: 24.3374\n",
            "Epoch 236/250\n",
            "22/22 [==============================] - 0s 2ms/step - loss: 23.9463\n",
            "Epoch 237/250\n",
            "22/22 [==============================] - 0s 2ms/step - loss: 24.1276\n",
            "Epoch 238/250\n",
            "22/22 [==============================] - 0s 2ms/step - loss: 24.1663\n",
            "Epoch 239/250\n",
            "22/22 [==============================] - 0s 3ms/step - loss: 24.3895\n",
            "Epoch 240/250\n",
            "22/22 [==============================] - 0s 2ms/step - loss: 24.1387\n",
            "Epoch 241/250\n",
            "22/22 [==============================] - 0s 2ms/step - loss: 24.0037\n",
            "Epoch 242/250\n",
            "22/22 [==============================] - 0s 2ms/step - loss: 24.4254\n",
            "Epoch 243/250\n",
            "22/22 [==============================] - 0s 2ms/step - loss: 24.1210\n",
            "Epoch 244/250\n",
            "22/22 [==============================] - 0s 2ms/step - loss: 24.3700\n",
            "Epoch 245/250\n",
            "22/22 [==============================] - 0s 2ms/step - loss: 24.1646\n",
            "Epoch 246/250\n",
            "22/22 [==============================] - 0s 2ms/step - loss: 24.1667\n",
            "Epoch 247/250\n",
            "22/22 [==============================] - 0s 3ms/step - loss: 23.8092\n",
            "Epoch 248/250\n",
            "22/22 [==============================] - 0s 2ms/step - loss: 24.2845\n",
            "Epoch 249/250\n",
            "22/22 [==============================] - 0s 2ms/step - loss: 24.3410\n",
            "Epoch 250/250\n",
            "22/22 [==============================] - 0s 3ms/step - loss: 24.1651\n"
          ]
        },
        {
          "output_type": "execute_result",
          "data": {
            "text/plain": [
              "<keras.callbacks.History at 0x7ff3520d1850>"
            ]
          },
          "metadata": {},
          "execution_count": 25
        }
      ],
      "source": [
        "model.fit(X_train,y_train,epochs=250)"
      ]
    },
    {
      "cell_type": "markdown",
      "metadata": {
        "id": "LdHVYskhACTY"
      },
      "source": [
        "## Evaluation\n",
        "\n",
        "Let's evaluate our performance on our training set and our test set. We can compare these two performances to check for overfitting."
      ]
    },
    {
      "cell_type": "code",
      "execution_count": 26,
      "metadata": {
        "colab": {
          "base_uri": "https://localhost:8080/"
        },
        "id": "5cFSJ-HTACTY",
        "outputId": "7a1e5617-2b97-453d-c339-579f59c86adc"
      },
      "outputs": [
        {
          "output_type": "execute_result",
          "data": {
            "text/plain": [
              "{'loss': [255990.234375,\n",
              "  255729.828125,\n",
              "  255472.203125,\n",
              "  255194.90625,\n",
              "  254894.765625,\n",
              "  254569.234375,\n",
              "  254221.390625,\n",
              "  253849.9375,\n",
              "  253451.609375,\n",
              "  253023.765625,\n",
              "  252559.296875,\n",
              "  252054.234375,\n",
              "  251504.984375,\n",
              "  250915.546875,\n",
              "  250278.21875,\n",
              "  249592.4375,\n",
              "  248854.015625,\n",
              "  248061.890625,\n",
              "  247214.859375,\n",
              "  246311.40625,\n",
              "  245352.609375,\n",
              "  244326.71875,\n",
              "  243232.921875,\n",
              "  242068.953125,\n",
              "  240839.90625,\n",
              "  239537.4375,\n",
              "  238153.25,\n",
              "  236689.828125,\n",
              "  235154.421875,\n",
              "  233528.828125,\n",
              "  231817.21875,\n",
              "  230032.9375,\n",
              "  228144.890625,\n",
              "  226166.21875,\n",
              "  224087.078125,\n",
              "  221909.234375,\n",
              "  219630.8125,\n",
              "  217264.09375,\n",
              "  214797.84375,\n",
              "  212208.828125,\n",
              "  209521.984375,\n",
              "  206712.453125,\n",
              "  203805.0,\n",
              "  200794.78125,\n",
              "  197670.609375,\n",
              "  194435.015625,\n",
              "  191064.296875,\n",
              "  187604.203125,\n",
              "  184020.96875,\n",
              "  180323.296875,\n",
              "  176526.4375,\n",
              "  172618.84375,\n",
              "  168596.015625,\n",
              "  164459.46875,\n",
              "  160225.734375,\n",
              "  155900.84375,\n",
              "  151445.984375,\n",
              "  146888.65625,\n",
              "  142276.609375,\n",
              "  137557.359375,\n",
              "  132748.609375,\n",
              "  127846.296875,\n",
              "  122879.3359375,\n",
              "  117862.609375,\n",
              "  112771.953125,\n",
              "  107636.09375,\n",
              "  102452.6484375,\n",
              "  97234.984375,\n",
              "  92003.375,\n",
              "  86740.359375,\n",
              "  81469.1328125,\n",
              "  76250.53125,\n",
              "  71035.03125,\n",
              "  65862.46875,\n",
              "  60734.96484375,\n",
              "  55693.71484375,\n",
              "  50745.1328125,\n",
              "  45918.140625,\n",
              "  41172.8515625,\n",
              "  36639.8359375,\n",
              "  32228.87109375,\n",
              "  28045.697265625,\n",
              "  24059.623046875,\n",
              "  20342.751953125,\n",
              "  16869.962890625,\n",
              "  13694.7939453125,\n",
              "  10857.0166015625,\n",
              "  8373.998046875,\n",
              "  6263.2587890625,\n",
              "  4586.29833984375,\n",
              "  3286.527587890625,\n",
              "  2403.536865234375,\n",
              "  1925.748779296875,\n",
              "  1758.3646240234375,\n",
              "  1723.119873046875,\n",
              "  1698.4034423828125,\n",
              "  1670.5721435546875,\n",
              "  1639.84716796875,\n",
              "  1611.50927734375,\n",
              "  1587.5560302734375,\n",
              "  1558.5205078125,\n",
              "  1531.826904296875,\n",
              "  1508.543212890625,\n",
              "  1478.9197998046875,\n",
              "  1455.930908203125,\n",
              "  1427.5548095703125,\n",
              "  1399.4627685546875,\n",
              "  1372.535400390625,\n",
              "  1345.56884765625,\n",
              "  1316.3375244140625,\n",
              "  1291.1669921875,\n",
              "  1262.9248046875,\n",
              "  1239.7119140625,\n",
              "  1213.4639892578125,\n",
              "  1189.9219970703125,\n",
              "  1164.8017578125,\n",
              "  1143.547119140625,\n",
              "  1118.880859375,\n",
              "  1094.5992431640625,\n",
              "  1069.6943359375,\n",
              "  1046.486572265625,\n",
              "  1025.286376953125,\n",
              "  1004.5586547851562,\n",
              "  983.3779296875,\n",
              "  960.8763427734375,\n",
              "  938.0303344726562,\n",
              "  917.0781860351562,\n",
              "  888.6777954101562,\n",
              "  872.7517700195312,\n",
              "  847.49658203125,\n",
              "  826.3038330078125,\n",
              "  805.5254516601562,\n",
              "  782.9442749023438,\n",
              "  758.8869018554688,\n",
              "  735.426025390625,\n",
              "  713.8995971679688,\n",
              "  689.209716796875,\n",
              "  666.3646240234375,\n",
              "  644.9069213867188,\n",
              "  629.3687744140625,\n",
              "  609.2945556640625,\n",
              "  590.5057373046875,\n",
              "  571.1416625976562,\n",
              "  553.3380737304688,\n",
              "  532.1641235351562,\n",
              "  514.8461303710938,\n",
              "  497.0855712890625,\n",
              "  478.4697265625,\n",
              "  460.0236511230469,\n",
              "  440.3328552246094,\n",
              "  421.14764404296875,\n",
              "  404.48541259765625,\n",
              "  388.1433410644531,\n",
              "  371.8425598144531,\n",
              "  356.1284484863281,\n",
              "  341.9356994628906,\n",
              "  328.6421813964844,\n",
              "  312.6223449707031,\n",
              "  299.6360168457031,\n",
              "  286.09326171875,\n",
              "  272.94622802734375,\n",
              "  260.22576904296875,\n",
              "  247.4791717529297,\n",
              "  233.61048889160156,\n",
              "  220.1533203125,\n",
              "  208.00645446777344,\n",
              "  196.34950256347656,\n",
              "  184.75807189941406,\n",
              "  173.745361328125,\n",
              "  163.57986450195312,\n",
              "  153.04791259765625,\n",
              "  143.15647888183594,\n",
              "  133.2761688232422,\n",
              "  125.4996109008789,\n",
              "  118.36504364013672,\n",
              "  111.29104614257812,\n",
              "  103.14588165283203,\n",
              "  96.4381103515625,\n",
              "  88.1001205444336,\n",
              "  82.24220275878906,\n",
              "  75.9380111694336,\n",
              "  71.10111999511719,\n",
              "  66.16435241699219,\n",
              "  60.489097595214844,\n",
              "  56.53424835205078,\n",
              "  52.013458251953125,\n",
              "  48.29402160644531,\n",
              "  44.80447769165039,\n",
              "  41.732364654541016,\n",
              "  38.93048095703125,\n",
              "  36.92189025878906,\n",
              "  34.68421936035156,\n",
              "  32.982154846191406,\n",
              "  32.00678634643555,\n",
              "  30.589580535888672,\n",
              "  29.891271591186523,\n",
              "  28.706390380859375,\n",
              "  27.8377742767334,\n",
              "  27.275968551635742,\n",
              "  26.862266540527344,\n",
              "  26.296428680419922,\n",
              "  26.188404083251953,\n",
              "  25.862571716308594,\n",
              "  25.550678253173828,\n",
              "  25.62208366394043,\n",
              "  25.28920555114746,\n",
              "  24.587299346923828,\n",
              "  24.534910202026367,\n",
              "  24.98623275756836,\n",
              "  24.636634826660156,\n",
              "  24.663368225097656,\n",
              "  24.400245666503906,\n",
              "  24.554216384887695,\n",
              "  24.252090454101562,\n",
              "  24.34760284423828,\n",
              "  24.28370475769043,\n",
              "  24.273406982421875,\n",
              "  24.385772705078125,\n",
              "  24.206674575805664,\n",
              "  24.16466522216797,\n",
              "  24.32915687561035,\n",
              "  24.089326858520508,\n",
              "  23.86989974975586,\n",
              "  24.393239974975586,\n",
              "  24.29475975036621,\n",
              "  24.034088134765625,\n",
              "  24.1746768951416,\n",
              "  24.069751739501953,\n",
              "  23.951038360595703,\n",
              "  24.22958755493164,\n",
              "  24.376840591430664,\n",
              "  24.509628295898438,\n",
              "  24.065343856811523,\n",
              "  24.26242446899414,\n",
              "  24.3374080657959,\n",
              "  23.946260452270508,\n",
              "  24.127592086791992,\n",
              "  24.16628646850586,\n",
              "  24.389528274536133,\n",
              "  24.138689041137695,\n",
              "  24.003747940063477,\n",
              "  24.42540740966797,\n",
              "  24.120967864990234,\n",
              "  24.369966506958008,\n",
              "  24.164569854736328,\n",
              "  24.16669273376465,\n",
              "  23.809194564819336,\n",
              "  24.284461975097656,\n",
              "  24.34103012084961,\n",
              "  24.16507339477539]}"
            ]
          },
          "metadata": {},
          "execution_count": 26
        }
      ],
      "source": [
        "model.history.history"
      ]
    },
    {
      "cell_type": "code",
      "execution_count": 27,
      "metadata": {
        "id": "QJ7pdqALACTY"
      },
      "outputs": [],
      "source": [
        "loss = model.history.history['loss']"
      ]
    },
    {
      "cell_type": "code",
      "execution_count": 28,
      "metadata": {
        "scrolled": true,
        "colab": {
          "base_uri": "https://localhost:8080/",
          "height": 281
        },
        "id": "CyxDUjwMACTY",
        "outputId": "7921c906-af7e-4bb9-ea24-072403903993"
      },
      "outputs": [
        {
          "output_type": "display_data",
          "data": {
            "text/plain": [
              "<Figure size 432x288 with 1 Axes>"
            ],
            "image/png": "[encoded data removed]"
          },
          "metadata": {
            "needs_background": "light"
          }
        }
      ],
      "source": [
        "sns.lineplot(x=range(len(loss)),y=loss)\n",
        "plt.title(\"Training Loss per Epoch\");"
      ]
    },
    {
      "cell_type": "markdown",
      "metadata": {
        "id": "n1Pc3Bn6ACTZ"
      },
      "source": [
        "### Compare final evaluation (MSE) on training set and test set.\n",
        "\n",
        "These should hopefully be fairly close to each other."
      ]
    },
    {
      "cell_type": "code",
      "execution_count": 29,
      "metadata": {
        "colab": {
          "base_uri": "https://localhost:8080/"
        },
        "id": "unBMuaCDACTZ",
        "outputId": "d8bf99a6-98a2-4b43-9155-4349e8cbc13f"
      },
      "outputs": [
        {
          "output_type": "execute_result",
          "data": {
            "text/plain": [
              "['loss']"
            ]
          },
          "metadata": {},
          "execution_count": 29
        }
      ],
      "source": [
        "model.metrics_names"
      ]
    },
    {
      "cell_type": "code",
      "execution_count": 30,
      "metadata": {
        "id": "1cqCi3SPACTZ"
      },
      "outputs": [],
      "source": [
        "training_score = model.evaluate(X_train,y_train,verbose=0)\n",
        "test_score = model.evaluate(X_test,y_test,verbose=0)"
      ]
    },
    {
      "cell_type": "code",
      "execution_count": 31,
      "metadata": {
        "colab": {
          "base_uri": "https://localhost:8080/"
        },
        "id": "RFpe1vGwACTZ",
        "outputId": "23e1b286-5e3a-4a87-89ee-e2cfc03afc52"
      },
      "outputs": [
        {
          "output_type": "execute_result",
          "data": {
            "text/plain": [
              "23.944311141967773"
            ]
          },
          "metadata": {},
          "execution_count": 31
        }
      ],
      "source": [
        "training_score"
      ]
    },
    {
      "cell_type": "code",
      "execution_count": 32,
      "metadata": {
        "colab": {
          "base_uri": "https://localhost:8080/"
        },
        "id": "gJIwwz5jACTZ",
        "outputId": "50ea03dd-e4a7-402f-d271-578d59e1693d"
      },
      "outputs": [
        {
          "output_type": "execute_result",
          "data": {
            "text/plain": [
              "24.951452255249023"
            ]
          },
          "metadata": {},
          "execution_count": 32
        }
      ],
      "source": [
        "test_score"
      ]
    },
    {
      "cell_type": "markdown",
      "metadata": {
        "id": "HRwA7DpMACTZ"
      },
      "source": [
        "### Further Evaluations"
      ]
    },
    {
      "cell_type": "code",
      "execution_count": 33,
      "metadata": {
        "colab": {
          "base_uri": "https://localhost:8080/"
        },
        "id": "PCwNHYk0ACTZ",
        "outputId": "b9b39859-1e6d-49a0-fe34-9e0582aaf066"
      },
      "outputs": [
        {
          "output_type": "stream",
          "name": "stdout",
          "text": [
            "10/10 [==============================] - 0s 2ms/step\n"
          ]
        }
      ],
      "source": [
        "test_predictions = model.predict(X_test)"
      ]
    },
    {
      "cell_type": "code",
      "execution_count": 34,
      "metadata": {
        "colab": {
          "base_uri": "https://localhost:8080/"
        },
        "id": "-ZATGdRpACTZ",
        "outputId": "bcff51db-059f-459f-9177-7a3a01c40562"
      },
      "outputs": [
        {
          "output_type": "execute_result",
          "data": {
            "text/plain": [
              "array([[405.1465 ],\n",
              "       [623.40375],\n",
              "       [591.9858 ],\n",
              "       [572.1094 ],\n",
              "       [366.5118 ],\n",
              "       [579.0479 ],\n",
              "       [514.9518 ],\n",
              "       [458.9507 ],\n",
              "       [549.1269 ],\n",
              "       [447.35938],\n",
              "       [611.6486 ],\n",
              "       [548.76807],\n",
              "       [418.96024],\n",
              "       [408.736  ],\n",
              "       [651.0657 ],\n",
              "       [437.14606],\n",
              "       [508.27988],\n",
              "       [659.8311 ],\n",
              "       [662.46375],\n",
              "       [565.38403],\n",
              "       [334.10254],\n",
              "       [444.69455],\n",
              "       [382.39758],\n",
              "       [378.60922],\n",
              "       [566.4604 ],\n",
              "       [610.477  ],\n",
              "       [532.258  ],\n",
              "       [427.71426],\n",
              "       [655.33325],\n",
              "       [413.92325],\n",
              "       [442.4792 ],\n",
              "       [484.98752],\n",
              "       [438.26956],\n",
              "       [681.7328 ],\n",
              "       [424.5896 ],\n",
              "       [417.5605 ],\n",
              "       [501.74533],\n",
              "       [550.33417],\n",
              "       [509.62473],\n",
              "       [395.25156],\n",
              "       [618.44684],\n",
              "       [416.47427],\n",
              "       [604.3061 ],\n",
              "       [445.7903 ],\n",
              "       [501.85025],\n",
              "       [581.5358 ],\n",
              "       [668.8353 ],\n",
              "       [490.24744],\n",
              "       [318.41507],\n",
              "       [485.291  ],\n",
              "       [517.1191 ],\n",
              "       [381.62946],\n",
              "       [541.7412 ],\n",
              "       [408.45078],\n",
              "       [641.3752 ],\n",
              "       [490.9446 ],\n",
              "       [627.84076],\n",
              "       [626.8323 ],\n",
              "       [446.92758],\n",
              "       [484.58395],\n",
              "       [491.01248],\n",
              "       [474.38992],\n",
              "       [682.64935],\n",
              "       [403.16006],\n",
              "       [701.002  ],\n",
              "       [586.2748 ],\n",
              "       [582.982  ],\n",
              "       [537.7022 ],\n",
              "       [484.43906],\n",
              "       [516.443  ],\n",
              "       [361.0765 ],\n",
              "       [540.61914],\n",
              "       [570.50366],\n",
              "       [528.2796 ],\n",
              "       [453.5747 ],\n",
              "       [530.9936 ],\n",
              "       [507.04733],\n",
              "       [443.2189 ],\n",
              "       [543.2394 ],\n",
              "       [640.594  ],\n",
              "       [465.9121 ],\n",
              "       [567.1142 ],\n",
              "       [690.6077 ],\n",
              "       [458.6104 ],\n",
              "       [708.80597],\n",
              "       [472.56277],\n",
              "       [403.1077 ],\n",
              "       [584.97296],\n",
              "       [436.58453],\n",
              "       [488.81046],\n",
              "       [616.89667],\n",
              "       [439.31778],\n",
              "       [455.2133 ],\n",
              "       [435.1279 ],\n",
              "       [506.80142],\n",
              "       [608.32574],\n",
              "       [321.4891 ],\n",
              "       [436.12177],\n",
              "       [536.1973 ],\n",
              "       [518.51825],\n",
              "       [604.9471 ],\n",
              "       [525.3198 ],\n",
              "       [333.96915],\n",
              "       [576.001  ],\n",
              "       [431.691  ],\n",
              "       [562.37585],\n",
              "       [513.2653 ],\n",
              "       [390.95834],\n",
              "       [566.15985],\n",
              "       [454.621  ],\n",
              "       [448.36133],\n",
              "       [640.8268 ],\n",
              "       [524.2181 ],\n",
              "       [550.53314],\n",
              "       [417.55695],\n",
              "       [478.613  ],\n",
              "       [586.3902 ],\n",
              "       [667.2651 ],\n",
              "       [700.3508 ],\n",
              "       [659.30676],\n",
              "       [560.43304],\n",
              "       [503.01953],\n",
              "       [390.24457],\n",
              "       [281.2102 ],\n",
              "       [479.46872],\n",
              "       [616.21216],\n",
              "       [373.14377],\n",
              "       [512.1252 ],\n",
              "       [510.9268 ],\n",
              "       [493.368  ],\n",
              "       [480.32217],\n",
              "       [423.68246],\n",
              "       [493.33218],\n",
              "       [471.332  ],\n",
              "       [600.28546],\n",
              "       [573.4079 ],\n",
              "       [414.86597],\n",
              "       [630.511  ],\n",
              "       [466.22137],\n",
              "       [564.1879 ],\n",
              "       [405.55173],\n",
              "       [532.04675],\n",
              "       [572.50903],\n",
              "       [356.95328],\n",
              "       [549.7163 ],\n",
              "       [603.2291 ],\n",
              "       [384.17325],\n",
              "       [542.28174],\n",
              "       [562.46173],\n",
              "       [452.72787],\n",
              "       [632.07367],\n",
              "       [372.1472 ],\n",
              "       [474.13937],\n",
              "       [528.76465],\n",
              "       [372.14798],\n",
              "       [461.12482],\n",
              "       [436.19864],\n",
              "       [498.36594],\n",
              "       [345.94742],\n",
              "       [395.13556],\n",
              "       [604.4422 ],\n",
              "       [506.5115 ],\n",
              "       [468.48636],\n",
              "       [490.21603],\n",
              "       [535.11633],\n",
              "       [344.3673 ],\n",
              "       [512.1391 ],\n",
              "       [250.64618],\n",
              "       [503.954  ],\n",
              "       [541.0086 ],\n",
              "       [489.2442 ],\n",
              "       [470.90945],\n",
              "       [392.40668],\n",
              "       [416.079  ],\n",
              "       [549.4578 ],\n",
              "       [475.68536],\n",
              "       [579.8416 ],\n",
              "       [489.66666],\n",
              "       [600.8954 ],\n",
              "       [546.84766],\n",
              "       [541.8188 ],\n",
              "       [500.4465 ],\n",
              "       [645.7211 ],\n",
              "       [560.2952 ],\n",
              "       [577.76776],\n",
              "       [443.9613 ],\n",
              "       [415.35696],\n",
              "       [419.92807],\n",
              "       [568.97296],\n",
              "       [608.8983 ],\n",
              "       [437.60306],\n",
              "       [487.82797],\n",
              "       [587.652  ],\n",
              "       [525.27185],\n",
              "       [357.2339 ],\n",
              "       [645.30756],\n",
              "       [527.9219 ],\n",
              "       [337.0722 ],\n",
              "       [492.5627 ],\n",
              "       [409.9919 ],\n",
              "       [606.4676 ],\n",
              "       [346.36716],\n",
              "       [522.261  ],\n",
              "       [404.5394 ],\n",
              "       [258.31662],\n",
              "       [519.7482 ],\n",
              "       [340.71255],\n",
              "       [361.94003],\n",
              "       [576.26105],\n",
              "       [416.51074],\n",
              "       [550.8731 ],\n",
              "       [520.9672 ],\n",
              "       [510.6887 ],\n",
              "       [324.60117],\n",
              "       [404.05057],\n",
              "       [602.29694],\n",
              "       [617.7536 ],\n",
              "       [603.19196],\n",
              "       [566.13   ],\n",
              "       [473.31827],\n",
              "       [460.23117],\n",
              "       [508.3065 ],\n",
              "       [445.74893],\n",
              "       [511.1506 ],\n",
              "       [502.28528],\n",
              "       [399.98706],\n",
              "       [605.40497],\n",
              "       [257.99927],\n",
              "       [628.11566],\n",
              "       [588.95703],\n",
              "       [326.98514],\n",
              "       [479.44028],\n",
              "       [595.2103 ],\n",
              "       [378.25143],\n",
              "       [460.0239 ],\n",
              "       [324.84366],\n",
              "       [518.5372 ],\n",
              "       [409.44772],\n",
              "       [556.1087 ],\n",
              "       [641.7542 ],\n",
              "       [536.69977],\n",
              "       [503.03018],\n",
              "       [634.88934],\n",
              "       [515.09564],\n",
              "       [531.5784 ],\n",
              "       [518.7153 ],\n",
              "       [457.298  ],\n",
              "       [505.67136],\n",
              "       [460.96097],\n",
              "       [591.535  ],\n",
              "       [465.78772],\n",
              "       [427.06638],\n",
              "       [541.48676],\n",
              "       [493.6758 ],\n",
              "       [679.60065],\n",
              "       [372.63144],\n",
              "       [551.47955],\n",
              "       [577.83527],\n",
              "       [433.8517 ],\n",
              "       [542.90765],\n",
              "       [585.8404 ],\n",
              "       [579.09235],\n",
              "       [720.8239 ],\n",
              "       [432.6436 ],\n",
              "       [398.44254],\n",
              "       [313.8519 ],\n",
              "       [448.16122],\n",
              "       [387.91107],\n",
              "       [543.0924 ],\n",
              "       [522.61206],\n",
              "       [564.31915],\n",
              "       [447.877  ],\n",
              "       [534.2671 ],\n",
              "       [381.64377],\n",
              "       [501.3769 ],\n",
              "       [636.99963],\n",
              "       [496.38174],\n",
              "       [568.2775 ],\n",
              "       [469.9927 ],\n",
              "       [273.1198 ],\n",
              "       [517.24976],\n",
              "       [621.28284],\n",
              "       [350.3731 ],\n",
              "       [450.34158],\n",
              "       [499.1733 ],\n",
              "       [542.84564],\n",
              "       [611.6815 ],\n",
              "       [388.07333],\n",
              "       [449.3002 ],\n",
              "       [482.26883],\n",
              "       [598.1988 ],\n",
              "       [499.28018],\n",
              "       [321.31375],\n",
              "       [555.0172 ],\n",
              "       [444.49222],\n",
              "       [528.92365],\n",
              "       [515.25684],\n",
              "       [609.5108 ],\n",
              "       [416.7935 ],\n",
              "       [410.74802]], dtype=float32)"
            ]
          },
          "metadata": {},
          "execution_count": 34
        }
      ],
      "source": [
        "test_predictions"
      ]
    },
    {
      "cell_type": "code",
      "execution_count": 35,
      "metadata": {
        "id": "PNM5zSElACTZ"
      },
      "outputs": [],
      "source": [
        "pred_df = pd.DataFrame(y_test,columns=['Test Y'])"
      ]
    },
    {
      "cell_type": "code",
      "execution_count": 36,
      "metadata": {
        "colab": {
          "base_uri": "https://localhost:8080/",
          "height": 424
        },
        "id": "BLBmp18sACTZ",
        "outputId": "f54e9855-f5c6-4ef0-ff69-e29e99408c4e"
      },
      "outputs": [
        {
          "output_type": "execute_result",
          "data": {
            "text/plain": [
              "         Test Y\n",
              "0    402.296319\n",
              "1    624.156198\n",
              "2    582.455066\n",
              "3    578.588606\n",
              "4    371.224104\n",
              "..          ...\n",
              "295  525.704657\n",
              "296  502.909473\n",
              "297  612.727910\n",
              "298  417.569725\n",
              "299  410.538250\n",
              "\n",
              "[300 rows x 1 columns]"
            ],
            "text/html": [
              "\n",
              "  <div id=\"df-416e95ed-8b90-4c2b-9b88-18d33f617f3b\">\n",
              "    <div class=\"colab-df-container\">\n",
              "      <div>\n",
              "<style scoped>\n",
              "    .dataframe tbody tr th:only-of-type {\n",
              "        vertical-align: middle;\n",
              "    }\n",
              "\n",
              "    .dataframe tbody tr th {\n",
              "        vertical-align: top;\n",
              "    }\n",
              "\n",
              "    .dataframe thead th {\n",
              "        text-align: right;\n",
              "    }\n",
              "</style>\n",
              "<table border=\"1\" class=\"dataframe\">\n",
              "  <thead>\n",
              "    <tr style=\"text-align: right;\">\n",
              "      <th></th>\n",
              "      <th>Test Y</th>\n",
              "    </tr>\n",
              "  </thead>\n",
              "  <tbody>\n",
              "    <tr>\n",
              "      <th>0</th>\n",
              "      <td>402.296319</td>\n",
              "    </tr>\n",
              "    <tr>\n",
              "      <th>1</th>\n",
              "      <td>624.156198</td>\n",
              "    </tr>\n",
              "    <tr>\n",
              "      <th>2</th>\n",
              "      <td>582.455066</td>\n",
              "    </tr>\n",
              "    <tr>\n",
              "      <th>3</th>\n",
              "      <td>578.588606</td>\n",
              "    </tr>\n",
              "    <tr>\n",
              "      <th>4</th>\n",
              "      <td>371.224104</td>\n",
              "    </tr>\n",
              "    <tr>\n",
              "      <th>...</th>\n",
              "      <td>...</td>\n",
              "    </tr>\n",
              "    <tr>\n",
              "      <th>295</th>\n",
              "      <td>525.704657</td>\n",
              "    </tr>\n",
              "    <tr>\n",
              "      <th>296</th>\n",
              "      <td>502.909473</td>\n",
              "    </tr>\n",
              "    <tr>\n",
              "      <th>297</th>\n",
              "      <td>612.727910</td>\n",
              "    </tr>\n",
              "    <tr>\n",
              "      <th>298</th>\n",
              "      <td>417.569725</td>\n",
              "    </tr>\n",
              "    <tr>\n",
              "      <th>299</th>\n",
              "      <td>410.538250</td>\n",
              "    </tr>\n",
              "  </tbody>\n",
              "</table>\n",
              "<p>300 rows × 1 columns</p>\n",
              "</div>\n",
              "      <button class=\"colab-df-convert\" onclick=\"convertToInteractive('df-416e95ed-8b90-4c2b-9b88-18d33f617f3b')\"\n",
              "              title=\"Convert this dataframe to an interactive table.\"\n",
              "              style=\"display:none;\">\n",
              "        \n",
              "  <svg xmlns=\"http://www.w3.org/2000/svg\" height=\"24px\"viewBox=\"0 0 24 24\"\n",
              "       width=\"24px\">\n",
              "    <path d=\"M0 0h24v24H0V0z\" fill=\"none\"/>\n",
              "    <path d=\"M18.56 5.44l.94 2.06.94-2.06 2.06-.94-2.06-.94-.94-2.06-.94 2.06-2.06.94zm-11 1L8.5 8.5l.94-2.06 2.06-.94-2.06-.94L8.5 2.5l-.94 2.06-2.06.94zm10 10l.94 2.06.94-2.06 2.06-.94-2.06-.94-.94-2.06-.94 2.06-2.06.94z\"/><path d=\"M17.41 7.96l-1.37-1.37c-.4-.4-.92-.59-1.43-.59-.52 0-1.04.2-1.43.59L10.3 9.45l-7.72 7.72c-.78.78-.78 2.05 0 2.83L4 21.41c.39.39.9.59 1.41.59.51 0 1.02-.2 1.41-.59l7.78-7.78 2.81-2.81c.8-.78.8-2.07 0-2.86zM5.41 20L4 18.59l7.72-7.72 1.47 1.35L5.41 20z\"/>\n",
              "  </svg>\n",
              "      </button>\n",
              "      \n",
              "  <style>\n",
              "    .colab-df-container {\n",
              "      display:flex;\n",
              "      flex-wrap:wrap;\n",
              "      gap: 12px;\n",
              "    }\n",
              "\n",
              "    .colab-df-convert {\n",
              "      background-color: #E8F0FE;\n",
              "      border: none;\n",
              "      border-radius: 50%;\n",
              "      cursor: pointer;\n",
              "      display: none;\n",
              "      fill: #1967D2;\n",
              "      height: 32px;\n",
              "      padding: 0 0 0 0;\n",
              "      width: 32px;\n",
              "    }\n",
              "\n",
              "    .colab-df-convert:hover {\n",
              "      background-color: #E2EBFA;\n",
              "      box-shadow: 0px 1px 2px rgba(60, 64, 67, 0.3), 0px 1px 3px 1px rgba(60, 64, 67, 0.15);\n",
              "      fill: #174EA6;\n",
              "    }\n",
              "\n",
              "    [theme=dark] .colab-df-convert {\n",
              "      background-color: #3B4455;\n",
              "      fill: #D2E3FC;\n",
              "    }\n",
              "\n",
              "    [theme=dark] .colab-df-convert:hover {\n",
              "      background-color: #434B5C;\n",
              "      box-shadow: 0px 1px 3px 1px rgba(0, 0, 0, 0.15);\n",
              "      filter: drop-shadow(0px 1px 2px rgba(0, 0, 0, 0.3));\n",
              "      fill: #FFFFFF;\n",
              "    }\n",
              "  </style>\n",
              "\n",
              "      <script>\n",
              "        const buttonEl =\n",
              "          document.querySelector('#df-416e95ed-8b90-4c2b-9b88-18d33f617f3b button.colab-df-convert');\n",
              "        buttonEl.style.display =\n",
              "          google.colab.kernel.accessAllowed ? 'block' : 'none';\n",
              "\n",
              "        async function convertToInteractive(key) {\n",
              "          const element = document.querySelector('#df-416e95ed-8b90-4c2b-9b88-18d33f617f3b');\n",
              "          const dataTable =\n",
              "            await google.colab.kernel.invokeFunction('convertToInteractive',\n",
              "                                                     [key], {});\n",
              "          if (!dataTable) return;\n",
              "\n",
              "          const docLinkHtml = 'Like what you see? Visit the ' +\n",
              "            '<a target=\"_blank\" href=https://colab.research.google.com/notebooks/data_table.ipynb>data table notebook</a>'\n",
              "            + ' to learn more about interactive tables.';\n",
              "          element.innerHTML = '';\n",
              "          dataTable['output_type'] = 'display_data';\n",
              "          await google.colab.output.renderOutput(dataTable, element);\n",
              "          const docLink = document.createElement('div');\n",
              "          docLink.innerHTML = docLinkHtml;\n",
              "          element.appendChild(docLink);\n",
              "        }\n",
              "      </script>\n",
              "    </div>\n",
              "  </div>\n",
              "  "
            ]
          },
          "metadata": {},
          "execution_count": 36
        }
      ],
      "source": [
        "pred_df"
      ]
    },
    {
      "cell_type": "code",
      "execution_count": 37,
      "metadata": {
        "id": "7nNDmPseACTZ"
      },
      "outputs": [],
      "source": [
        "test_predictions = pd.Series(test_predictions.reshape(300,))"
      ]
    },
    {
      "cell_type": "code",
      "execution_count": 38,
      "metadata": {
        "colab": {
          "base_uri": "https://localhost:8080/"
        },
        "id": "nQRm3QjWACTZ",
        "outputId": "12b3a19c-c7cb-4fe7-9709-e86b62769a5c"
      },
      "outputs": [
        {
          "output_type": "execute_result",
          "data": {
            "text/plain": [
              "0      405.146515\n",
              "1      623.403748\n",
              "2      591.985779\n",
              "3      572.109375\n",
              "4      366.511810\n",
              "          ...    \n",
              "295    528.923645\n",
              "296    515.256836\n",
              "297    609.510803\n",
              "298    416.793488\n",
              "299    410.748016\n",
              "Length: 300, dtype: float32"
            ]
          },
          "metadata": {},
          "execution_count": 38
        }
      ],
      "source": [
        "test_predictions"
      ]
    },
    {
      "cell_type": "code",
      "execution_count": 39,
      "metadata": {
        "id": "tD8BOcXDACTa"
      },
      "outputs": [],
      "source": [
        "pred_df = pd.concat([pred_df,test_predictions],axis=1)"
      ]
    },
    {
      "cell_type": "code",
      "execution_count": 40,
      "metadata": {
        "id": "1LkgmRRfACTa"
      },
      "outputs": [],
      "source": [
        "pred_df.columns = ['Test Y','Model Predictions']"
      ]
    },
    {
      "cell_type": "code",
      "execution_count": 41,
      "metadata": {
        "colab": {
          "base_uri": "https://localhost:8080/",
          "height": 424
        },
        "id": "UmvLrTGUACTa",
        "outputId": "792ebf2b-75a3-4b98-fcee-e3e048fc1d99"
      },
      "outputs": [
        {
          "output_type": "execute_result",
          "data": {
            "text/plain": [
              "         Test Y  Model Predictions\n",
              "0    402.296319         405.146515\n",
              "1    624.156198         623.403748\n",
              "2    582.455066         591.985779\n",
              "3    578.588606         572.109375\n",
              "4    371.224104         366.511810\n",
              "..          ...                ...\n",
              "295  525.704657         528.923645\n",
              "296  502.909473         515.256836\n",
              "297  612.727910         609.510803\n",
              "298  417.569725         416.793488\n",
              "299  410.538250         410.748016\n",
              "\n",
              "[300 rows x 2 columns]"
            ],
            "text/html": [
              "\n",
              "  <div id=\"df-6857e281-7a74-425c-8127-1e9dd2ff1fc7\">\n",
              "    <div class=\"colab-df-container\">\n",
              "      <div>\n",
              "<style scoped>\n",
              "    .dataframe tbody tr th:only-of-type {\n",
              "        vertical-align: middle;\n",
              "    }\n",
              "\n",
              "    .dataframe tbody tr th {\n",
              "        vertical-align: top;\n",
              "    }\n",
              "\n",
              "    .dataframe thead th {\n",
              "        text-align: right;\n",
              "    }\n",
              "</style>\n",
              "<table border=\"1\" class=\"dataframe\">\n",
              "  <thead>\n",
              "    <tr style=\"text-align: right;\">\n",
              "      <th></th>\n",
              "      <th>Test Y</th>\n",
              "      <th>Model Predictions</th>\n",
              "    </tr>\n",
              "  </thead>\n",
              "  <tbody>\n",
              "    <tr>\n",
              "      <th>0</th>\n",
              "      <td>402.296319</td>\n",
              "      <td>405.146515</td>\n",
              "    </tr>\n",
              "    <tr>\n",
              "      <th>1</th>\n",
              "      <td>624.156198</td>\n",
              "      <td>623.403748</td>\n",
              "    </tr>\n",
              "    <tr>\n",
              "      <th>2</th>\n",
              "      <td>582.455066</td>\n",
              "      <td>591.985779</td>\n",
              "    </tr>\n",
              "    <tr>\n",
              "      <th>3</th>\n",
              "      <td>578.588606</td>\n",
              "      <td>572.109375</td>\n",
              "    </tr>\n",
              "    <tr>\n",
              "      <th>4</th>\n",
              "      <td>371.224104</td>\n",
              "      <td>366.511810</td>\n",
              "    </tr>\n",
              "    <tr>\n",
              "      <th>...</th>\n",
              "      <td>...</td>\n",
              "      <td>...</td>\n",
              "    </tr>\n",
              "    <tr>\n",
              "      <th>295</th>\n",
              "      <td>525.704657</td>\n",
              "      <td>528.923645</td>\n",
              "    </tr>\n",
              "    <tr>\n",
              "      <th>296</th>\n",
              "      <td>502.909473</td>\n",
              "      <td>515.256836</td>\n",
              "    </tr>\n",
              "    <tr>\n",
              "      <th>297</th>\n",
              "      <td>612.727910</td>\n",
              "      <td>609.510803</td>\n",
              "    </tr>\n",
              "    <tr>\n",
              "      <th>298</th>\n",
              "      <td>417.569725</td>\n",
              "      <td>416.793488</td>\n",
              "    </tr>\n",
              "    <tr>\n",
              "      <th>299</th>\n",
              "      <td>410.538250</td>\n",
              "      <td>410.748016</td>\n",
              "    </tr>\n",
              "  </tbody>\n",
              "</table>\n",
              "<p>300 rows × 2 columns</p>\n",
              "</div>\n",
              "      <button class=\"colab-df-convert\" onclick=\"convertToInteractive('df-6857e281-7a74-425c-8127-1e9dd2ff1fc7')\"\n",
              "              title=\"Convert this dataframe to an interactive table.\"\n",
              "              style=\"display:none;\">\n",
              "        \n",
              "  <svg xmlns=\"http://www.w3.org/2000/svg\" height=\"24px\"viewBox=\"0 0 24 24\"\n",
              "       width=\"24px\">\n",
              "    <path d=\"M0 0h24v24H0V0z\" fill=\"none\"/>\n",
              "    <path d=\"M18.56 5.44l.94 2.06.94-2.06 2.06-.94-2.06-.94-.94-2.06-.94 2.06-2.06.94zm-11 1L8.5 8.5l.94-2.06 2.06-.94-2.06-.94L8.5 2.5l-.94 2.06-2.06.94zm10 10l.94 2.06.94-2.06 2.06-.94-2.06-.94-.94-2.06-.94 2.06-2.06.94z\"/><path d=\"M17.41 7.96l-1.37-1.37c-.4-.4-.92-.59-1.43-.59-.52 0-1.04.2-1.43.59L10.3 9.45l-7.72 7.72c-.78.78-.78 2.05 0 2.83L4 21.41c.39.39.9.59 1.41.59.51 0 1.02-.2 1.41-.59l7.78-7.78 2.81-2.81c.8-.78.8-2.07 0-2.86zM5.41 20L4 18.59l7.72-7.72 1.47 1.35L5.41 20z\"/>\n",
              "  </svg>\n",
              "      </button>\n",
              "      \n",
              "  <style>\n",
              "    .colab-df-container {\n",
              "      display:flex;\n",
              "      flex-wrap:wrap;\n",
              "      gap: 12px;\n",
              "    }\n",
              "\n",
              "    .colab-df-convert {\n",
              "      background-color: #E8F0FE;\n",
              "      border: none;\n",
              "      border-radius: 50%;\n",
              "      cursor: pointer;\n",
              "      display: none;\n",
              "      fill: #1967D2;\n",
              "      height: 32px;\n",
              "      padding: 0 0 0 0;\n",
              "      width: 32px;\n",
              "    }\n",
              "\n",
              "    .colab-df-convert:hover {\n",
              "      background-color: #E2EBFA;\n",
              "      box-shadow: 0px 1px 2px rgba(60, 64, 67, 0.3), 0px 1px 3px 1px rgba(60, 64, 67, 0.15);\n",
              "      fill: #174EA6;\n",
              "    }\n",
              "\n",
              "    [theme=dark] .colab-df-convert {\n",
              "      background-color: #3B4455;\n",
              "      fill: #D2E3FC;\n",
              "    }\n",
              "\n",
              "    [theme=dark] .colab-df-convert:hover {\n",
              "      background-color: #434B5C;\n",
              "      box-shadow: 0px 1px 3px 1px rgba(0, 0, 0, 0.15);\n",
              "      filter: drop-shadow(0px 1px 2px rgba(0, 0, 0, 0.3));\n",
              "      fill: #FFFFFF;\n",
              "    }\n",
              "  </style>\n",
              "\n",
              "      <script>\n",
              "        const buttonEl =\n",
              "          document.querySelector('#df-6857e281-7a74-425c-8127-1e9dd2ff1fc7 button.colab-df-convert');\n",
              "        buttonEl.style.display =\n",
              "          google.colab.kernel.accessAllowed ? 'block' : 'none';\n",
              "\n",
              "        async function convertToInteractive(key) {\n",
              "          const element = document.querySelector('#df-6857e281-7a74-425c-8127-1e9dd2ff1fc7');\n",
              "          const dataTable =\n",
              "            await google.colab.kernel.invokeFunction('convertToInteractive',\n",
              "                                                     [key], {});\n",
              "          if (!dataTable) return;\n",
              "\n",
              "          const docLinkHtml = 'Like what you see? Visit the ' +\n",
              "            '<a target=\"_blank\" href=https://colab.research.google.com/notebooks/data_table.ipynb>data table notebook</a>'\n",
              "            + ' to learn more about interactive tables.';\n",
              "          element.innerHTML = '';\n",
              "          dataTable['output_type'] = 'display_data';\n",
              "          await google.colab.output.renderOutput(dataTable, element);\n",
              "          const docLink = document.createElement('div');\n",
              "          docLink.innerHTML = docLinkHtml;\n",
              "          element.appendChild(docLink);\n",
              "        }\n",
              "      </script>\n",
              "    </div>\n",
              "  </div>\n",
              "  "
            ]
          },
          "metadata": {},
          "execution_count": 41
        }
      ],
      "source": [
        "pred_df"
      ]
    },
    {
      "cell_type": "markdown",
      "metadata": {
        "id": "wLDbDjluACTa"
      },
      "source": [
        "Let's compare to the real test labels!"
      ]
    },
    {
      "cell_type": "code",
      "execution_count": 42,
      "metadata": {
        "colab": {
          "base_uri": "https://localhost:8080/",
          "height": 296
        },
        "id": "4VJ6OwxxACTa",
        "outputId": "04244865-0a62-43e2-f746-3e8c8888261b"
      },
      "outputs": [
        {
          "output_type": "execute_result",
          "data": {
            "text/plain": [
              "<matplotlib.axes._subplots.AxesSubplot at 0x7ff351efd410>"
            ]
          },
          "metadata": {},
          "execution_count": 42
        },
        {
          "output_type": "display_data",
          "data": {
            "text/plain": [
              "<Figure size 432x288 with 1 Axes>"
            ],
            "image/png": "[encoded data removed]"
          },
          "metadata": {
            "needs_background": "light"
          }
        }
      ],
      "source": [
        "sns.scatterplot(x='Test Y',y='Model Predictions',data=pred_df)"
      ]
    },
    {
      "cell_type": "code",
      "execution_count": 43,
      "metadata": {
        "id": "pm_tG6Z1ACTa"
      },
      "outputs": [],
      "source": [
        "pred_df['Error'] = pred_df['Test Y'] - pred_df['Model Predictions']"
      ]
    },
    {
      "cell_type": "code",
      "execution_count": 44,
      "metadata": {
        "colab": {
          "base_uri": "https://localhost:8080/",
          "height": 351
        },
        "id": "Bdd1e8dtACTa",
        "outputId": "c577455a-2f51-4c1b-a5a7-eca660bd5b30"
      },
      "outputs": [
        {
          "output_type": "stream",
          "name": "stderr",
          "text": [
            "/usr/local/lib/python3.7/dist-packages/seaborn/distributions.py:2619: FutureWarning: `distplot` is a deprecated function and will be removed in a future version. Please adapt your code to use either `displot` (a figure-level function with similar flexibility) or `histplot` (an axes-level function for histograms).\n",
            "  warnings.warn(msg, FutureWarning)\n"
          ]
        },
        {
          "output_type": "execute_result",
          "data": {
            "text/plain": [
              "<matplotlib.axes._subplots.AxesSubplot at 0x7ff351f03a90>"
            ]
          },
          "metadata": {},
          "execution_count": 44
        },
        {
          "output_type": "display_data",
          "data": {
            "text/plain": [
              "<Figure size 432x288 with 1 Axes>"
            ],
            "image/png": "[encoded data removed]"
          },
          "metadata": {
            "needs_background": "light"
          }
        }
      ],
      "source": [
        "sns.distplot(pred_df['Error'],bins=50)"
      ]
    },
    {
      "cell_type": "code",
      "execution_count": 45,
      "metadata": {
        "id": "ajNeJ_4YACTa"
      },
      "outputs": [],
      "source": [
        "from sklearn.metrics import mean_absolute_error,mean_squared_error"
      ]
    },
    {
      "cell_type": "code",
      "execution_count": 46,
      "metadata": {
        "colab": {
          "base_uri": "https://localhost:8080/"
        },
        "id": "9ivL-DG-ACTa",
        "outputId": "54dd9733-f2f5-4cf3-8654-15393f3db2b5"
      },
      "outputs": [
        {
          "output_type": "execute_result",
          "data": {
            "text/plain": [
              "3.999661854585119"
            ]
          },
          "metadata": {},
          "execution_count": 46
        }
      ],
      "source": [
        "mean_absolute_error(pred_df['Test Y'],pred_df['Model Predictions'])"
      ]
    },
    {
      "cell_type": "code",
      "execution_count": 47,
      "metadata": {
        "colab": {
          "base_uri": "https://localhost:8080/"
        },
        "id": "nhVBPh5sACTa",
        "outputId": "49655a67-70f2-4505-a543-57451ef0b48b"
      },
      "outputs": [
        {
          "output_type": "execute_result",
          "data": {
            "text/plain": [
              "24.951455849413954"
            ]
          },
          "metadata": {},
          "execution_count": 47
        }
      ],
      "source": [
        "mean_squared_error(pred_df['Test Y'],pred_df['Model Predictions'])"
      ]
    },
    {
      "cell_type": "code",
      "execution_count": 48,
      "metadata": {
        "colab": {
          "base_uri": "https://localhost:8080/"
        },
        "id": "YI3KKRnMACTb",
        "outputId": "e69a988e-2e13-4cf8-d887-46f6a2e2c416"
      },
      "outputs": [
        {
          "output_type": "execute_result",
          "data": {
            "text/plain": [
              "24.951452255249023"
            ]
          },
          "metadata": {},
          "execution_count": 48
        }
      ],
      "source": [
        "# Essentially the same thing, difference just due to precision\n",
        "test_score"
      ]
    },
    {
      "cell_type": "code",
      "execution_count": 49,
      "metadata": {
        "colab": {
          "base_uri": "https://localhost:8080/"
        },
        "id": "25zPFyQxACTb",
        "outputId": "d240535f-63c1-4db6-e039-2750c280c331"
      },
      "outputs": [
        {
          "output_type": "execute_result",
          "data": {
            "text/plain": [
              "4.995142866350173"
            ]
          },
          "metadata": {},
          "execution_count": 49
        }
      ],
      "source": [
        "#RMSE\n",
        "test_score**0.5"
      ]
    },
    {
      "cell_type": "markdown",
      "metadata": {
        "id": "gbsqVs79ACTb"
      },
      "source": [
        "# Predicting on brand new data\n",
        "\n",
        "What if we just saw a brand new gemstone from the ground? What should we price it at? This is the **exact** same procedure as predicting on a new test data!"
      ]
    },
    {
      "cell_type": "code",
      "execution_count": 50,
      "metadata": {
        "id": "KkE0grpkACTb"
      },
      "outputs": [],
      "source": [
        "# [[Feature1, Feature2]]\n",
        "new_gem = [[998,1000]]"
      ]
    },
    {
      "cell_type": "code",
      "execution_count": 51,
      "metadata": {
        "colab": {
          "base_uri": "https://localhost:8080/"
        },
        "id": "JQKKtE-MACTb",
        "outputId": "60b2097d-105d-4bf9-da4a-f4aa32fd39ab"
      },
      "outputs": [
        {
          "output_type": "execute_result",
          "data": {
            "text/plain": [
              "array([[0.14117652, 0.53968792]])"
            ]
          },
          "metadata": {},
          "execution_count": 51
        }
      ],
      "source": [
        "# Don't forget to scale!\n",
        "scaler.transform(new_gem)"
      ]
    },
    {
      "cell_type": "code",
      "execution_count": 52,
      "metadata": {
        "id": "znAueIHhACTb"
      },
      "outputs": [],
      "source": [
        "new_gem = scaler.transform(new_gem)"
      ]
    },
    {
      "cell_type": "code",
      "execution_count": 53,
      "metadata": {
        "colab": {
          "base_uri": "https://localhost:8080/"
        },
        "id": "ggOUz10eACTb",
        "outputId": "93bc3731-50cc-4f60-f012-e160f95ae52d"
      },
      "outputs": [
        {
          "output_type": "stream",
          "name": "stdout",
          "text": [
            "1/1 [==============================] - 0s 18ms/step\n"
          ]
        },
        {
          "output_type": "execute_result",
          "data": {
            "text/plain": [
              "array([[419.58084]], dtype=float32)"
            ]
          },
          "metadata": {},
          "execution_count": 53
        }
      ],
      "source": [
        "model.predict(new_gem)"
      ]
    },
    {
      "cell_type": "markdown",
      "metadata": {
        "id": "jzL5cQyeACTb"
      },
      "source": [
        "## Saving and Loading a Model"
      ]
    },
    {
      "cell_type": "code",
      "execution_count": 54,
      "metadata": {
        "id": "6Igit9-4ACTb"
      },
      "outputs": [],
      "source": [
        "from tensorflow.keras.models import load_model"
      ]
    },
    {
      "cell_type": "code",
      "execution_count": 55,
      "metadata": {
        "id": "sEChC4cBACTc"
      },
      "outputs": [],
      "source": [
        "model.save('my_model.h5')  # creates a HDF5 file 'my_model.h5'"
      ]
    },
    {
      "cell_type": "code",
      "execution_count": 56,
      "metadata": {
        "id": "Fs9Ddk59ACTc"
      },
      "outputs": [],
      "source": [
        "later_model = load_model('my_model.h5')"
      ]
    },
    {
      "cell_type": "code",
      "execution_count": 57,
      "metadata": {
        "colab": {
          "base_uri": "https://localhost:8080/"
        },
        "id": "pdRHX63oACTc",
        "outputId": "50dcf461-2a33-4f80-aa86-7ad04fb69010"
      },
      "outputs": [
        {
          "output_type": "stream",
          "name": "stdout",
          "text": [
            "1/1 [==============================] - 0s 61ms/step\n"
          ]
        },
        {
          "output_type": "execute_result",
          "data": {
            "text/plain": [
              "array([[419.58084]], dtype=float32)"
            ]
          },
          "metadata": {},
          "execution_count": 57
        }
      ],
      "source": [
        "later_model.predict(new_gem)"
      ]
    },
    {
      "cell_type": "code",
      "source": [],
      "metadata": {
        "id": "6q85Ed7cAXND"
      },
      "execution_count": null,
      "outputs": []
    }
  ],
  "metadata": {
    "kernelspec": {
      "display_name": "Python 3",
      "language": "python",
      "name": "python3"
    },
    "language_info": {
      "codemirror_mode": {
        "name": "ipython",
        "version": 3
      },
      "file_extension": ".py",
      "mimetype": "text/x-python",
      "name": "python",
      "nbconvert_exporter": "python",
      "pygments_lexer": "ipython3",
      "version": "3.7.5"
    },
    "colab": {
      "provenance": [],
      "collapsed_sections": [
        "W1Wsb1VQACTY"
      ]
    }
  },
  "nbformat": 4,
  "nbformat_minor": 0
}