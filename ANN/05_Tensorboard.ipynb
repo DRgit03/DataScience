{
  "cells": [
    {
      "cell_type": "markdown",
      "metadata": {
        "id": "-1IZh5bt6XI0"
      },
      "source": [
        "# Tensorboard\n",
        "\n",
        "---\n",
        "---\n",
        "\n",
        "---\n",
        "---\n",
        "\n",
        "Let's explore the built in data visualization capabilities that come with Tensorboard.\n",
        "\n",
        "Full official tutorial available here: https://www.tensorflow.org/tensorboard/get_started\n",
        "\n",
        "## Data"
      ]
    },
    {
      "cell_type": "code",
      "execution_count": 1,
      "metadata": {
        "id": "zA_yY4LV6XI0"
      },
      "outputs": [],
      "source": [
        "import pandas as pd\n",
        "import numpy as np"
      ]
    },
    {
      "cell_type": "code",
      "execution_count": 2,
      "metadata": {
        "id": "F1gFMUDY6XI1"
      },
      "outputs": [],
      "source": [
        "df = pd.read_csv('cancer_classification.csv')"
      ]
    },
    {
      "cell_type": "markdown",
      "metadata": {
        "id": "mMlJPRYQ6XI1"
      },
      "source": [
        "### Train Test Split"
      ]
    },
    {
      "cell_type": "code",
      "execution_count": 3,
      "metadata": {
        "id": "4BE94L2e6XI2"
      },
      "outputs": [],
      "source": [
        "X = df.drop('benign_0__mal_1',axis=1).values\n",
        "y = df['benign_0__mal_1'].values"
      ]
    },
    {
      "cell_type": "code",
      "execution_count": 4,
      "metadata": {
        "id": "u_-9xES96XI2"
      },
      "outputs": [],
      "source": [
        "from sklearn.model_selection import train_test_split"
      ]
    },
    {
      "cell_type": "code",
      "execution_count": 5,
      "metadata": {
        "id": "VYSsgCVR6XI2"
      },
      "outputs": [],
      "source": [
        "X_train, X_test, y_train, y_test = train_test_split(X,y,test_size=0.25,random_state=101)"
      ]
    },
    {
      "cell_type": "markdown",
      "metadata": {
        "id": "sUn6BH8S6XI2"
      },
      "source": [
        "\n",
        "### Scaling Data"
      ]
    },
    {
      "cell_type": "code",
      "execution_count": 6,
      "metadata": {
        "id": "T1UkuLli6XI2"
      },
      "outputs": [],
      "source": [
        "from sklearn.preprocessing import MinMaxScaler"
      ]
    },
    {
      "cell_type": "code",
      "execution_count": 7,
      "metadata": {
        "id": "xPmcOuQI6XI3"
      },
      "outputs": [],
      "source": [
        "scaler = MinMaxScaler()"
      ]
    },
    {
      "cell_type": "code",
      "execution_count": 8,
      "metadata": {
        "colab": {
          "base_uri": "https://localhost:8080/"
        },
        "id": "1mw_6wRQ6XI3",
        "outputId": "b270b44f-75fc-4f7a-ee46-5a0b62adfe69"
      },
      "outputs": [
        {
          "output_type": "execute_result",
          "data": {
            "text/plain": [
              "MinMaxScaler()"
            ]
          },
          "metadata": {},
          "execution_count": 8
        }
      ],
      "source": [
        "scaler.fit(X_train)"
      ]
    },
    {
      "cell_type": "code",
      "execution_count": 9,
      "metadata": {
        "id": "d2jBe5sQ6XI4"
      },
      "outputs": [],
      "source": [
        "X_train = scaler.transform(X_train)\n",
        "X_test = scaler.transform(X_test)"
      ]
    },
    {
      "cell_type": "markdown",
      "metadata": {
        "id": "HZuqhkv46XI4"
      },
      "source": [
        "## Creating the Model"
      ]
    },
    {
      "cell_type": "code",
      "execution_count": 10,
      "metadata": {
        "id": "ANpRdBjG6XI4"
      },
      "outputs": [],
      "source": [
        "import tensorflow as tf\n",
        "from tensorflow.keras.models import Sequential\n",
        "from tensorflow.keras.layers import Dense, Activation,Dropout"
      ]
    },
    {
      "cell_type": "code",
      "execution_count": 11,
      "metadata": {
        "id": "JZ5e5O3c6XI4"
      },
      "outputs": [],
      "source": [
        "from tensorflow.keras.callbacks import EarlyStopping,TensorBoard"
      ]
    },
    {
      "cell_type": "code",
      "execution_count": 12,
      "metadata": {
        "id": "bFnPar1p6XI4"
      },
      "outputs": [],
      "source": [
        "early_stop = EarlyStopping(monitor='val_loss', mode='min', verbose=1, patience=25)"
      ]
    },
    {
      "cell_type": "code",
      "execution_count": 13,
      "metadata": {
        "colab": {
          "base_uri": "https://localhost:8080/",
          "height": 35
        },
        "id": "mU6mVBaT6XI4",
        "outputId": "83e96c5a-39bb-4714-c037-b773e945c38b"
      },
      "outputs": [
        {
          "output_type": "execute_result",
          "data": {
            "text/plain": [
              "'/content'"
            ],
            "application/vnd.google.colaboratory.intrinsic+json": {
              "type": "string"
            }
          },
          "metadata": {},
          "execution_count": 13
        }
      ],
      "source": [
        "pwd"
      ]
    },
    {
      "cell_type": "markdown",
      "metadata": {
        "id": "RlPmJdJO6XI5"
      },
      "source": [
        "## Creating the Tensorboard Callback\n",
        "\n",
        "TensorBoard is a visualization tool provided with TensorFlow.\n",
        "\n",
        "This callback logs events for TensorBoard, including:\n",
        "* Metrics summary plots\n",
        "* Training graph visualization\n",
        "* Activation histograms\n",
        "* Sampled profiling\n",
        "\n",
        "If you have installed TensorFlow with pip, you should be able\n",
        "to launch TensorBoard from the command line:\n",
        "\n",
        "```sh\n",
        "tensorboard --logdir=path_to_your_logs\n",
        "```\n",
        "\n",
        "You can find more information about TensorBoard\n",
        "[here](https://www.tensorflow.org/tensorboard/).\n",
        "\n",
        "    Arguments:\n",
        "        log_dir: the path of the directory where to save the log files to be\n",
        "          parsed by TensorBoard.\n",
        "        histogram_freq: frequency (in epochs) at which to compute activation and\n",
        "          weight histograms for the layers of the model. If set to 0, histograms\n",
        "          won't be computed. Validation data (or split) must be specified for\n",
        "          histogram visualizations.\n",
        "        write_graph: whether to visualize the graph in TensorBoard. The log file\n",
        "          can become quite large when write_graph is set to True.\n",
        "        write_images: whether to write model weights to visualize as image in\n",
        "          TensorBoard.\n",
        "        update_freq: `'batch'` or `'epoch'` or integer. When using `'batch'`,\n",
        "          writes the losses and metrics to TensorBoard after each batch. The same\n",
        "          applies for `'epoch'`. If using an integer, let's say `1000`, the\n",
        "          callback will write the metrics and losses to TensorBoard every 1000\n",
        "          samples. Note that writing too frequently to TensorBoard can slow down\n",
        "          your training.\n",
        "        profile_batch: Profile the batch to sample compute characteristics. By\n",
        "          default, it will profile the second batch. Set profile_batch=0 to\n",
        "          disable profiling. Must run in TensorFlow eager mode.\n",
        "        embeddings_freq: frequency (in epochs) at which embedding layers will\n",
        "          be visualized. If set to 0, embeddings won't be visualized.\n",
        "       "
      ]
    },
    {
      "cell_type": "code",
      "execution_count": 14,
      "metadata": {
        "id": "Y-FqwxlG6XI5"
      },
      "outputs": [],
      "source": [
        "from datetime import datetime"
      ]
    },
    {
      "cell_type": "code",
      "execution_count": 15,
      "metadata": {
        "colab": {
          "base_uri": "https://localhost:8080/",
          "height": 35
        },
        "id": "jmuYDz026XI6",
        "outputId": "bb4312b3-7ee4-4e2b-ef35-18c3566ab92d"
      },
      "outputs": [
        {
          "output_type": "execute_result",
          "data": {
            "text/plain": [
              "'2022-11-15--1532'"
            ],
            "application/vnd.google.colaboratory.intrinsic+json": {
              "type": "string"
            }
          },
          "metadata": {},
          "execution_count": 15
        }
      ],
      "source": [
        "datetime.now().strftime(\"%Y-%m-%d--%H%M\")"
      ]
    },
    {
      "cell_type": "code",
      "execution_count": 16,
      "metadata": {
        "id": "VelJ92-V6XI6"
      },
      "outputs": [],
      "source": [
        "# WINDOWS: Use \"logs\\\\fit\"\n",
        "# MACOS/LINUX: Use \"logs\\fit\"\n",
        "\n",
        "log_directory = 'logs\\\\fit'\n",
        "\n",
        "# OPTIONAL: ADD A TIMESTAMP FOR UNIQUE FOLDER\n",
        "# timestamp = datetime.now().strftime(\"%Y-%m-%d--%H%M\")\n",
        "# log_directory = log_directory + '\\\\' + timestamp\n",
        "\n",
        "\n",
        "board = TensorBoard(log_dir=log_directory,histogram_freq=1,\n",
        "    write_graph=True,\n",
        "    write_images=True,\n",
        "    update_freq='epoch',\n",
        "    profile_batch=2,\n",
        "    embeddings_freq=1)"
      ]
    },
    {
      "cell_type": "markdown",
      "metadata": {
        "id": "Wj4m1zJ66XI6"
      },
      "source": [
        "Now create the model layers:"
      ]
    },
    {
      "cell_type": "code",
      "execution_count": 17,
      "metadata": {
        "id": "dx7ic_GB6XI6"
      },
      "outputs": [],
      "source": [
        "model = Sequential()\n",
        "model.add(Dense(units=30,activation='relu'))\n",
        "model.add(Dropout(0.5))\n",
        "model.add(Dense(units=15,activation='relu'))\n",
        "model.add(Dropout(0.5))\n",
        "model.add(Dense(units=1,activation='sigmoid'))\n",
        "model.compile(loss='binary_crossentropy', optimizer='adam')"
      ]
    },
    {
      "cell_type": "markdown",
      "metadata": {
        "id": "3Bxcw5FR6XI7"
      },
      "source": [
        "## Train the Model"
      ]
    },
    {
      "cell_type": "code",
      "execution_count": 18,
      "metadata": {
        "colab": {
          "base_uri": "https://localhost:8080/"
        },
        "id": "tLliiXVs6XI7",
        "outputId": "402250fa-57e9-400d-c8f3-a8cf83aa0a24"
      },
      "outputs": [
        {
          "output_type": "stream",
          "name": "stdout",
          "text": [
            "Epoch 1/600\n",
            "14/14 [==============================] - 1s 31ms/step - loss: 0.7181 - val_loss: 0.6660\n",
            "Epoch 2/600\n",
            "14/14 [==============================] - 0s 10ms/step - loss: 0.6708 - val_loss: 0.6382\n",
            "Epoch 3/600\n",
            "14/14 [==============================] - 0s 11ms/step - loss: 0.6585 - val_loss: 0.6127\n",
            "Epoch 4/600\n",
            "14/14 [==============================] - 0s 9ms/step - loss: 0.6221 - val_loss: 0.5854\n",
            "Epoch 5/600\n",
            "14/14 [==============================] - 0s 9ms/step - loss: 0.6219 - val_loss: 0.5609\n",
            "Epoch 6/600\n",
            "14/14 [==============================] - 0s 10ms/step - loss: 0.5715 - val_loss: 0.5346\n",
            "Epoch 7/600\n",
            "14/14 [==============================] - 0s 10ms/step - loss: 0.5509 - val_loss: 0.5019\n",
            "Epoch 8/600\n",
            "14/14 [==============================] - 0s 11ms/step - loss: 0.5383 - val_loss: 0.4683\n",
            "Epoch 9/600\n",
            "14/14 [==============================] - 0s 9ms/step - loss: 0.5041 - val_loss: 0.4363\n",
            "Epoch 10/600\n",
            "14/14 [==============================] - 0s 10ms/step - loss: 0.4772 - val_loss: 0.4043\n",
            "Epoch 11/600\n",
            "14/14 [==============================] - 0s 9ms/step - loss: 0.4551 - val_loss: 0.3788\n",
            "Epoch 12/600\n",
            "14/14 [==============================] - 0s 9ms/step - loss: 0.4473 - val_loss: 0.3550\n",
            "Epoch 13/600\n",
            "14/14 [==============================] - 0s 10ms/step - loss: 0.4130 - val_loss: 0.3275\n",
            "Epoch 14/600\n",
            "14/14 [==============================] - 0s 9ms/step - loss: 0.3945 - val_loss: 0.3061\n",
            "Epoch 15/600\n",
            "14/14 [==============================] - 0s 9ms/step - loss: 0.3900 - val_loss: 0.2893\n",
            "Epoch 16/600\n",
            "14/14 [==============================] - 0s 9ms/step - loss: 0.3665 - val_loss: 0.2731\n",
            "Epoch 17/600\n",
            "14/14 [==============================] - 0s 10ms/step - loss: 0.3389 - val_loss: 0.2535\n",
            "Epoch 18/600\n",
            "14/14 [==============================] - 0s 10ms/step - loss: 0.3235 - val_loss: 0.2380\n",
            "Epoch 19/600\n",
            "14/14 [==============================] - 0s 10ms/step - loss: 0.2955 - val_loss: 0.2211\n",
            "Epoch 20/600\n",
            "14/14 [==============================] - 0s 11ms/step - loss: 0.3212 - val_loss: 0.2131\n",
            "Epoch 21/600\n",
            "14/14 [==============================] - 0s 11ms/step - loss: 0.2795 - val_loss: 0.1976\n",
            "Epoch 22/600\n",
            "14/14 [==============================] - 0s 11ms/step - loss: 0.2809 - val_loss: 0.1901\n",
            "Epoch 23/600\n",
            "14/14 [==============================] - 0s 11ms/step - loss: 0.2549 - val_loss: 0.1801\n",
            "Epoch 24/600\n",
            "14/14 [==============================] - 0s 12ms/step - loss: 0.2782 - val_loss: 0.1731\n",
            "Epoch 25/600\n",
            "14/14 [==============================] - 0s 11ms/step - loss: 0.2419 - val_loss: 0.1663\n",
            "Epoch 26/600\n",
            "14/14 [==============================] - 0s 10ms/step - loss: 0.2425 - val_loss: 0.1599\n",
            "Epoch 27/600\n",
            "14/14 [==============================] - 0s 9ms/step - loss: 0.2267 - val_loss: 0.1554\n",
            "Epoch 28/600\n",
            "14/14 [==============================] - 0s 10ms/step - loss: 0.2270 - val_loss: 0.1556\n",
            "Epoch 29/600\n",
            "14/14 [==============================] - 0s 10ms/step - loss: 0.2237 - val_loss: 0.1422\n",
            "Epoch 30/600\n",
            "14/14 [==============================] - 0s 10ms/step - loss: 0.2303 - val_loss: 0.1393\n",
            "Epoch 31/600\n",
            "14/14 [==============================] - 0s 10ms/step - loss: 0.2255 - val_loss: 0.1477\n",
            "Epoch 32/600\n",
            "14/14 [==============================] - 0s 10ms/step - loss: 0.2063 - val_loss: 0.1439\n",
            "Epoch 33/600\n",
            "14/14 [==============================] - 0s 11ms/step - loss: 0.2206 - val_loss: 0.1438\n",
            "Epoch 34/600\n",
            "14/14 [==============================] - 0s 9ms/step - loss: 0.2014 - val_loss: 0.1323\n",
            "Epoch 35/600\n",
            "14/14 [==============================] - 0s 11ms/step - loss: 0.1927 - val_loss: 0.1365\n",
            "Epoch 36/600\n",
            "14/14 [==============================] - 0s 9ms/step - loss: 0.2037 - val_loss: 0.1343\n",
            "Epoch 37/600\n",
            "14/14 [==============================] - 0s 9ms/step - loss: 0.1892 - val_loss: 0.1288\n",
            "Epoch 38/600\n",
            "14/14 [==============================] - 0s 11ms/step - loss: 0.1840 - val_loss: 0.1262\n",
            "Epoch 39/600\n",
            "14/14 [==============================] - 0s 9ms/step - loss: 0.2018 - val_loss: 0.1221\n",
            "Epoch 40/600\n",
            "14/14 [==============================] - 0s 10ms/step - loss: 0.2046 - val_loss: 0.1213\n",
            "Epoch 41/600\n",
            "14/14 [==============================] - 0s 9ms/step - loss: 0.1810 - val_loss: 0.1301\n",
            "Epoch 42/600\n",
            "14/14 [==============================] - 0s 10ms/step - loss: 0.1971 - val_loss: 0.1277\n",
            "Epoch 43/600\n",
            "14/14 [==============================] - 0s 10ms/step - loss: 0.1979 - val_loss: 0.1191\n",
            "Epoch 44/600\n",
            "14/14 [==============================] - 0s 9ms/step - loss: 0.1775 - val_loss: 0.1239\n",
            "Epoch 45/600\n",
            "14/14 [==============================] - 0s 12ms/step - loss: 0.1760 - val_loss: 0.1205\n",
            "Epoch 46/600\n",
            "14/14 [==============================] - 0s 11ms/step - loss: 0.1576 - val_loss: 0.1208\n",
            "Epoch 47/600\n",
            "14/14 [==============================] - 0s 11ms/step - loss: 0.1797 - val_loss: 0.1196\n",
            "Epoch 48/600\n",
            "14/14 [==============================] - 0s 10ms/step - loss: 0.1660 - val_loss: 0.1189\n",
            "Epoch 49/600\n",
            "14/14 [==============================] - 0s 10ms/step - loss: 0.1571 - val_loss: 0.1120\n",
            "Epoch 50/600\n",
            "14/14 [==============================] - 0s 11ms/step - loss: 0.1367 - val_loss: 0.1153\n",
            "Epoch 51/600\n",
            "14/14 [==============================] - 0s 11ms/step - loss: 0.1849 - val_loss: 0.1107\n",
            "Epoch 52/600\n",
            "14/14 [==============================] - 0s 12ms/step - loss: 0.1601 - val_loss: 0.1123\n",
            "Epoch 53/600\n",
            "14/14 [==============================] - 0s 9ms/step - loss: 0.1770 - val_loss: 0.1111\n",
            "Epoch 54/600\n",
            "14/14 [==============================] - 0s 10ms/step - loss: 0.1597 - val_loss: 0.1127\n",
            "Epoch 55/600\n",
            "14/14 [==============================] - 0s 11ms/step - loss: 0.1398 - val_loss: 0.1164\n",
            "Epoch 56/600\n",
            "14/14 [==============================] - 0s 10ms/step - loss: 0.1596 - val_loss: 0.1232\n",
            "Epoch 57/600\n",
            "14/14 [==============================] - 0s 9ms/step - loss: 0.1218 - val_loss: 0.1124\n",
            "Epoch 58/600\n",
            "14/14 [==============================] - 0s 11ms/step - loss: 0.1337 - val_loss: 0.1074\n",
            "Epoch 59/600\n",
            "14/14 [==============================] - 0s 10ms/step - loss: 0.1472 - val_loss: 0.1105\n",
            "Epoch 60/600\n",
            "14/14 [==============================] - 0s 11ms/step - loss: 0.1334 - val_loss: 0.1096\n",
            "Epoch 61/600\n",
            "14/14 [==============================] - 0s 11ms/step - loss: 0.1470 - val_loss: 0.1163\n",
            "Epoch 62/600\n",
            "14/14 [==============================] - 0s 10ms/step - loss: 0.1421 - val_loss: 0.1053\n",
            "Epoch 63/600\n",
            "14/14 [==============================] - 0s 9ms/step - loss: 0.1391 - val_loss: 0.1123\n",
            "Epoch 64/600\n",
            "14/14 [==============================] - 0s 9ms/step - loss: 0.1439 - val_loss: 0.1083\n",
            "Epoch 65/600\n",
            "14/14 [==============================] - 0s 10ms/step - loss: 0.1306 - val_loss: 0.1053\n",
            "Epoch 66/600\n",
            "14/14 [==============================] - 0s 10ms/step - loss: 0.1387 - val_loss: 0.1135\n",
            "Epoch 67/600\n",
            "14/14 [==============================] - 0s 9ms/step - loss: 0.1305 - val_loss: 0.1063\n",
            "Epoch 68/600\n",
            "14/14 [==============================] - 0s 11ms/step - loss: 0.1425 - val_loss: 0.1036\n",
            "Epoch 69/600\n",
            "14/14 [==============================] - 0s 10ms/step - loss: 0.1234 - val_loss: 0.1116\n",
            "Epoch 70/600\n",
            "14/14 [==============================] - 0s 10ms/step - loss: 0.1022 - val_loss: 0.1047\n",
            "Epoch 71/600\n",
            "14/14 [==============================] - 0s 10ms/step - loss: 0.1411 - val_loss: 0.1243\n",
            "Epoch 72/600\n",
            "14/14 [==============================] - 0s 9ms/step - loss: 0.1200 - val_loss: 0.1037\n",
            "Epoch 73/600\n",
            "14/14 [==============================] - 0s 10ms/step - loss: 0.1188 - val_loss: 0.1010\n",
            "Epoch 74/600\n",
            "14/14 [==============================] - 0s 10ms/step - loss: 0.1042 - val_loss: 0.1027\n",
            "Epoch 75/600\n",
            "14/14 [==============================] - 0s 10ms/step - loss: 0.1128 - val_loss: 0.1110\n",
            "Epoch 76/600\n",
            "14/14 [==============================] - 0s 11ms/step - loss: 0.1014 - val_loss: 0.1105\n",
            "Epoch 77/600\n",
            "14/14 [==============================] - 0s 11ms/step - loss: 0.1309 - val_loss: 0.0986\n",
            "Epoch 78/600\n",
            "14/14 [==============================] - 0s 9ms/step - loss: 0.1168 - val_loss: 0.0984\n",
            "Epoch 79/600\n",
            "14/14 [==============================] - 0s 10ms/step - loss: 0.1115 - val_loss: 0.1102\n",
            "Epoch 80/600\n",
            "14/14 [==============================] - 0s 11ms/step - loss: 0.1249 - val_loss: 0.1059\n",
            "Epoch 81/600\n",
            "14/14 [==============================] - 0s 11ms/step - loss: 0.1203 - val_loss: 0.0992\n",
            "Epoch 82/600\n",
            "14/14 [==============================] - 0s 10ms/step - loss: 0.1201 - val_loss: 0.1067\n",
            "Epoch 83/600\n",
            "14/14 [==============================] - 0s 10ms/step - loss: 0.1248 - val_loss: 0.1022\n",
            "Epoch 84/600\n",
            "14/14 [==============================] - 0s 10ms/step - loss: 0.1143 - val_loss: 0.1065\n",
            "Epoch 85/600\n",
            "14/14 [==============================] - 0s 10ms/step - loss: 0.1043 - val_loss: 0.1049\n",
            "Epoch 86/600\n",
            "14/14 [==============================] - 0s 11ms/step - loss: 0.1062 - val_loss: 0.1000\n",
            "Epoch 87/600\n",
            "14/14 [==============================] - 0s 9ms/step - loss: 0.1063 - val_loss: 0.0966\n",
            "Epoch 88/600\n",
            "14/14 [==============================] - 0s 10ms/step - loss: 0.1035 - val_loss: 0.1038\n",
            "Epoch 89/600\n",
            "14/14 [==============================] - 0s 10ms/step - loss: 0.0976 - val_loss: 0.0968\n",
            "Epoch 90/600\n",
            "14/14 [==============================] - 0s 9ms/step - loss: 0.1232 - val_loss: 0.0986\n",
            "Epoch 91/600\n",
            "14/14 [==============================] - 0s 13ms/step - loss: 0.1049 - val_loss: 0.1142\n",
            "Epoch 92/600\n",
            "14/14 [==============================] - 0s 11ms/step - loss: 0.1028 - val_loss: 0.1021\n",
            "Epoch 93/600\n",
            "14/14 [==============================] - 0s 11ms/step - loss: 0.1004 - val_loss: 0.0955\n",
            "Epoch 94/600\n",
            "14/14 [==============================] - 0s 9ms/step - loss: 0.1065 - val_loss: 0.0965\n",
            "Epoch 95/600\n",
            "14/14 [==============================] - 0s 10ms/step - loss: 0.1008 - val_loss: 0.1099\n",
            "Epoch 96/600\n",
            "14/14 [==============================] - 0s 9ms/step - loss: 0.1130 - val_loss: 0.0980\n",
            "Epoch 97/600\n",
            "14/14 [==============================] - 0s 9ms/step - loss: 0.1052 - val_loss: 0.0980\n",
            "Epoch 98/600\n",
            "14/14 [==============================] - 0s 9ms/step - loss: 0.0959 - val_loss: 0.1047\n",
            "Epoch 99/600\n",
            "14/14 [==============================] - 0s 9ms/step - loss: 0.1140 - val_loss: 0.1034\n",
            "Epoch 100/600\n",
            "14/14 [==============================] - 0s 10ms/step - loss: 0.0891 - val_loss: 0.0944\n",
            "Epoch 101/600\n",
            "14/14 [==============================] - 0s 9ms/step - loss: 0.0984 - val_loss: 0.1011\n",
            "Epoch 102/600\n",
            "14/14 [==============================] - 0s 10ms/step - loss: 0.1029 - val_loss: 0.0979\n",
            "Epoch 103/600\n",
            "14/14 [==============================] - 0s 10ms/step - loss: 0.1321 - val_loss: 0.0935\n",
            "Epoch 104/600\n",
            "14/14 [==============================] - 0s 9ms/step - loss: 0.0918 - val_loss: 0.1033\n",
            "Epoch 105/600\n",
            "14/14 [==============================] - 0s 9ms/step - loss: 0.1118 - val_loss: 0.0993\n",
            "Epoch 106/600\n",
            "14/14 [==============================] - 0s 10ms/step - loss: 0.0867 - val_loss: 0.1013\n",
            "Epoch 107/600\n",
            "14/14 [==============================] - 0s 10ms/step - loss: 0.0931 - val_loss: 0.1036\n",
            "Epoch 108/600\n",
            "14/14 [==============================] - 0s 9ms/step - loss: 0.1075 - val_loss: 0.0974\n",
            "Epoch 109/600\n",
            "14/14 [==============================] - 0s 11ms/step - loss: 0.0878 - val_loss: 0.0959\n",
            "Epoch 110/600\n",
            "14/14 [==============================] - 0s 10ms/step - loss: 0.1004 - val_loss: 0.0999\n",
            "Epoch 111/600\n",
            "14/14 [==============================] - 0s 10ms/step - loss: 0.0847 - val_loss: 0.1027\n",
            "Epoch 112/600\n",
            "14/14 [==============================] - 0s 11ms/step - loss: 0.0938 - val_loss: 0.0993\n",
            "Epoch 113/600\n",
            "14/14 [==============================] - 0s 9ms/step - loss: 0.0796 - val_loss: 0.1152\n",
            "Epoch 114/600\n",
            "14/14 [==============================] - 0s 10ms/step - loss: 0.0983 - val_loss: 0.1079\n",
            "Epoch 115/600\n",
            "14/14 [==============================] - 0s 10ms/step - loss: 0.0953 - val_loss: 0.1004\n",
            "Epoch 116/600\n",
            "14/14 [==============================] - 0s 9ms/step - loss: 0.0929 - val_loss: 0.1028\n",
            "Epoch 117/600\n",
            "14/14 [==============================] - 0s 12ms/step - loss: 0.0974 - val_loss: 0.0972\n",
            "Epoch 118/600\n",
            "14/14 [==============================] - 0s 9ms/step - loss: 0.0922 - val_loss: 0.0997\n",
            "Epoch 119/600\n",
            "14/14 [==============================] - 0s 11ms/step - loss: 0.0951 - val_loss: 0.1042\n",
            "Epoch 120/600\n",
            "14/14 [==============================] - 0s 9ms/step - loss: 0.1000 - val_loss: 0.1045\n",
            "Epoch 121/600\n",
            "14/14 [==============================] - 0s 9ms/step - loss: 0.1059 - val_loss: 0.1025\n",
            "Epoch 122/600\n",
            "14/14 [==============================] - 0s 9ms/step - loss: 0.0890 - val_loss: 0.1081\n",
            "Epoch 123/600\n",
            "14/14 [==============================] - 0s 9ms/step - loss: 0.0744 - val_loss: 0.0957\n",
            "Epoch 124/600\n",
            "14/14 [==============================] - 0s 10ms/step - loss: 0.0855 - val_loss: 0.0931\n",
            "Epoch 125/600\n",
            "14/14 [==============================] - 0s 10ms/step - loss: 0.0813 - val_loss: 0.1103\n",
            "Epoch 126/600\n",
            "14/14 [==============================] - 0s 10ms/step - loss: 0.1038 - val_loss: 0.0989\n",
            "Epoch 127/600\n",
            "14/14 [==============================] - 0s 9ms/step - loss: 0.0802 - val_loss: 0.0941\n",
            "Epoch 128/600\n",
            "14/14 [==============================] - 0s 11ms/step - loss: 0.0825 - val_loss: 0.1064\n",
            "Epoch 129/600\n",
            "14/14 [==============================] - 0s 9ms/step - loss: 0.0857 - val_loss: 0.1071\n",
            "Epoch 130/600\n",
            "14/14 [==============================] - 0s 9ms/step - loss: 0.0816 - val_loss: 0.0940\n",
            "Epoch 131/600\n",
            "14/14 [==============================] - 0s 11ms/step - loss: 0.0901 - val_loss: 0.1054\n",
            "Epoch 132/600\n",
            "14/14 [==============================] - 0s 11ms/step - loss: 0.0812 - val_loss: 0.0967\n",
            "Epoch 133/600\n",
            "14/14 [==============================] - 0s 9ms/step - loss: 0.0915 - val_loss: 0.0950\n",
            "Epoch 134/600\n",
            "14/14 [==============================] - 0s 10ms/step - loss: 0.0883 - val_loss: 0.1134\n",
            "Epoch 135/600\n",
            "14/14 [==============================] - 0s 10ms/step - loss: 0.0780 - val_loss: 0.0992\n",
            "Epoch 136/600\n",
            "14/14 [==============================] - 0s 11ms/step - loss: 0.0853 - val_loss: 0.1009\n",
            "Epoch 137/600\n",
            "14/14 [==============================] - 0s 9ms/step - loss: 0.0708 - val_loss: 0.1024\n",
            "Epoch 138/600\n",
            "14/14 [==============================] - 0s 11ms/step - loss: 0.0835 - val_loss: 0.1019\n",
            "Epoch 139/600\n",
            "14/14 [==============================] - 0s 10ms/step - loss: 0.0951 - val_loss: 0.1109\n",
            "Epoch 140/600\n",
            "14/14 [==============================] - 0s 11ms/step - loss: 0.0875 - val_loss: 0.1057\n",
            "Epoch 141/600\n",
            "14/14 [==============================] - 0s 10ms/step - loss: 0.0771 - val_loss: 0.1060\n",
            "Epoch 142/600\n",
            "14/14 [==============================] - 0s 10ms/step - loss: 0.0731 - val_loss: 0.0987\n",
            "Epoch 143/600\n",
            "14/14 [==============================] - 0s 10ms/step - loss: 0.0605 - val_loss: 0.1227\n",
            "Epoch 144/600\n",
            "14/14 [==============================] - 0s 9ms/step - loss: 0.0732 - val_loss: 0.1227\n",
            "Epoch 145/600\n",
            "14/14 [==============================] - 0s 10ms/step - loss: 0.0777 - val_loss: 0.1042\n",
            "Epoch 146/600\n",
            "14/14 [==============================] - 0s 10ms/step - loss: 0.0913 - val_loss: 0.1173\n",
            "Epoch 147/600\n",
            "14/14 [==============================] - 0s 11ms/step - loss: 0.0755 - val_loss: 0.1336\n",
            "Epoch 148/600\n",
            "14/14 [==============================] - 0s 9ms/step - loss: 0.0868 - val_loss: 0.1011\n",
            "Epoch 149/600\n",
            "14/14 [==============================] - 0s 9ms/step - loss: 0.0843 - val_loss: 0.0983\n",
            "Epoch 149: early stopping\n"
          ]
        },
        {
          "output_type": "execute_result",
          "data": {
            "text/plain": [
              "<keras.callbacks.History at 0x7fbc9c5d1d90>"
            ]
          },
          "metadata": {},
          "execution_count": 18
        }
      ],
      "source": [
        "model.fit(x=X_train, \n",
        "          y=y_train, \n",
        "          epochs=600,\n",
        "          validation_data=(X_test, y_test), verbose=1,\n",
        "          callbacks=[early_stop,board]\n",
        "          )"
      ]
    },
    {
      "cell_type": "markdown",
      "metadata": {
        "id": "6h6Dnmff6XI7"
      },
      "source": [
        "# Running Tensorboard\n"
      ]
    },
    {
      "cell_type": "markdown",
      "metadata": {
        "id": "zsJ9Q5RR6XI7"
      },
      "source": [
        "Tensorboard will run locally in your browser at [http://localhost:6006/](http://localhost:6006/)\n"
      ]
    },
    {
      "cell_type": "code",
      "execution_count": 19,
      "metadata": {
        "colab": {
          "base_uri": "https://localhost:8080/"
        },
        "id": "k9a_w36s6XI7",
        "outputId": "78f33700-d762-4093-ec9a-56b55f2e86db"
      },
      "outputs": [
        {
          "output_type": "stream",
          "name": "stdout",
          "text": [
            "logs\\fit\n"
          ]
        }
      ],
      "source": [
        "print(log_directory)"
      ]
    },
    {
      "cell_type": "code",
      "execution_count": 20,
      "metadata": {
        "colab": {
          "base_uri": "https://localhost:8080/",
          "height": 35
        },
        "id": "IPBdUe8z6XI8",
        "outputId": "f57c01eb-23e4-485a-a36d-cf244e41d37a"
      },
      "outputs": [
        {
          "output_type": "execute_result",
          "data": {
            "text/plain": [
              "'/content'"
            ],
            "application/vnd.google.colaboratory.intrinsic+json": {
              "type": "string"
            }
          },
          "metadata": {},
          "execution_count": 20
        }
      ],
      "source": [
        "pwd"
      ]
    },
    {
      "cell_type": "markdown",
      "metadata": {
        "id": "F0X470L06XI8"
      },
      "source": [
        "### Use cd at your command line to change directory to the file path reported back by pwd or your current .py file location.\n",
        "### Then run this code at your command line or terminal"
      ]
    },
    {
      "cell_type": "code",
      "execution_count": null,
      "metadata": {
        "id": "YSZfU7lu6XI8"
      },
      "outputs": [],
      "source": [
        "tensorboard --logdir logs\\fit "
      ]
    },
    {
      "cell_type": "code",
      "source": [],
      "metadata": {
        "id": "17sEbxeT7Cpp"
      },
      "execution_count": null,
      "outputs": []
    }
  ],
  "metadata": {
    "kernelspec": {
      "display_name": "Python 3",
      "language": "python",
      "name": "python3"
    },
    "language_info": {
      "codemirror_mode": {
        "name": "ipython",
        "version": 3
      },
      "file_extension": ".py",
      "mimetype": "text/x-python",
      "name": "python",
      "nbconvert_exporter": "python",
      "pygments_lexer": "ipython3",
      "version": "3.7.4"
    },
    "colab": {
      "provenance": [],
      "collapsed_sections": []
    }
  },
  "nbformat": 4,
  "nbformat_minor": 0
}